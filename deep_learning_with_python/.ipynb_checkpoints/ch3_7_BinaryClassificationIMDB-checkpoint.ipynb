{
 "cells": [
  {
   "cell_type": "markdown",
   "metadata": {
    "id": "YyzfDxs1TPDF"
   },
   "source": [
    "# 4.1 Classifying movie reviews: A binary classification example\n",
    "1. [IMDB Data](#data)\n",
    "1. [Preparing Data](#preparing)\n",
    "1. [Building Model](#building)"
   ]
  },
  {
   "cell_type": "markdown",
   "metadata": {
    "id": "vK64sAULWS_B"
   },
   "source": [
    "<a name=\"data\"></a>\n",
    "# 4.1.1 The IMDB dataset"
   ]
  },
  {
   "cell_type": "code",
   "execution_count": 1,
   "metadata": {
    "colab": {
     "base_uri": "https://localhost:8080/"
    },
    "id": "Bp6uFdk9WS_D",
    "outputId": "0faadd1f-dcdf-437a-91e5-e4149b47c21c"
   },
   "outputs": [],
   "source": [
    "from tensorflow.keras.datasets import imdb\n",
    "\n",
    "(train_data, train_labels), (test_data, test_labels) = imdb.load_data(\n",
    "    num_words=10)"
   ]
  },
  {
   "cell_type": "markdown",
   "metadata": {
    "id": "8vdp0-YbWS_I"
   },
   "source": [
    "The argument `num_words=10000` means you’ll only __keep the top 10,000 most frequently occurring words in the training data__. \n",
    "\n",
    "Rare words will be discarded. This allows us to work with vector data of manageable size. If we didn’t set this limit, we’d be working with __88,585 unique words in the training data__, which is unnecessarily large. Many of these words only occur in a single sample, and thus can’t be meaningfully used for classification.\n",
    "\n",
    "The variables `train_data` and `test_data` are lists of reviews; each review is a list of word indices (encoding a sequence of words). `train_labels` and `test_labels` are lists of 0s and 1s, where 0 stands for negative and 1 stands for positive."
   ]
  },
  {
   "cell_type": "code",
   "execution_count": 2,
   "metadata": {
    "colab": {
     "base_uri": "https://localhost:8080/"
    },
    "id": "VBNbD3WtWS_l",
    "outputId": "c37c1e74-5e85-49ce-cf67-8e4802b2c3d0"
   },
   "outputs": [
    {
     "name": "stdout",
     "output_type": "stream",
     "text": [
      "[1, 2, 2, 2, 2, 2, 2, 2, 2, 2, 2, 2, 2, 2, 4, 2, 2, 2, 5, 2, 2, 2, 2, 2, 2, 2, 2, 9, 2, 2, 2, 5, 2, 4, 2, 2, 2, 2, 2, 2, 2, 4, 2, 2, 2, 2, 2, 2, 2, 2, 4, 2, 2, 2, 6, 2, 2, 2, 2, 2, 4, 2, 2, 2, 4, 2, 2, 2, 2, 2, 2, 2, 2, 2, 2, 2, 2, 4, 2, 2, 2, 2, 2, 2, 2, 2, 2, 5, 2, 2, 2, 8, 2, 8, 2, 5, 4, 2, 2, 2, 2, 2, 2, 2, 4, 2, 2, 2, 2, 2, 5, 2, 2, 2, 2, 2, 2, 2, 2, 2, 6, 2, 2, 2, 2, 2, 2, 5, 2, 2, 2, 2, 2, 8, 4, 2, 2, 2, 2, 2, 4, 2, 7, 2, 5, 2, 2, 2, 2, 2, 2, 2, 2, 2, 2, 7, 4, 2, 2, 2, 2, 2, 4, 2, 2, 2, 2, 2, 2, 2, 2, 2, 6, 2, 2, 2, 4, 2, 2, 2, 2, 2, 2, 2, 5, 2, 2, 2, 2, 2, 2, 2, 2, 2, 2, 2, 4, 2, 2, 2, 2, 2, 2, 2, 2, 2, 5, 2, 2, 2, 2, 2, 2, 2, 2, 2, 2, 2]\n",
      "1\n"
     ]
    }
   ],
   "source": [
    "print(train_data[0])\n",
    "print(train_labels[0])"
   ]
  },
  {
   "cell_type": "markdown",
   "metadata": {
    "id": "EEgPay-SWS_n"
   },
   "source": [
    "Because we’re restricting ourselves to the top 10,000 most frequent words, no word index will exceed 10,000."
   ]
  },
  {
   "cell_type": "code",
   "execution_count": 3,
   "metadata": {
    "colab": {
     "base_uri": "https://localhost:8080/"
    },
    "id": "gd6aOLTVWS_o",
    "outputId": "11223335-e1cb-42be-e568-4c8fe80af703",
    "scrolled": true
   },
   "outputs": [
    {
     "data": {
      "text/plain": [
       "9"
      ]
     },
     "execution_count": 3,
     "metadata": {},
     "output_type": "execute_result"
    }
   ],
   "source": [
    "max([max(sequence) for sequence in train_data])"
   ]
  },
  {
   "cell_type": "markdown",
   "metadata": {
    "id": "Rm8CfX6uWS_r"
   },
   "source": [
    "For kicks, here’s how you can quickly __decode one of these reviews back to English words__."
   ]
  },
  {
   "cell_type": "code",
   "execution_count": 4,
   "metadata": {
    "colab": {
     "base_uri": "https://localhost:8080/"
    },
    "id": "TYFsOirBWS_s",
    "outputId": "a2bd9b9d-d374-4a27-d555-f6fab77fbaa6",
    "scrolled": true
   },
   "outputs": [],
   "source": [
    "# dict mapping words to an int index\n",
    "word_index = imdb.get_word_index()\n",
    "reverse_word_index = dict(\n",
    "    # reverses it, mapping int indices to words\n",
    "    [(value, key) for (key, value) in word_index.items()])\n",
    "decoded_review = \" \".join(\n",
    "    # decodes review\n",
    "    [reverse_word_index.get(i - 3, \"?\") for i in train_data[0]])"
   ]
  },
  {
   "cell_type": "markdown",
   "metadata": {
    "id": "sDvc8fwTWS_t"
   },
   "source": [
    "<a name=\"preparing\"></a>\n",
    "# 4.1.2 Preparing the data"
   ]
  },
  {
   "cell_type": "markdown",
   "metadata": {
    "id": "8EsEsTe2WS_u"
   },
   "source": [
    "You can’t directly feed lists of integers into a NN. They all have different lengths, but __a NN expects to process contiguous batches of data__. You have to __turn your lists into tensors__. There are 2 ways to do that:\n",
    "\n",
    "1. __Pad your lists__ so that they all have the same length, turn them into an integer tensor of shape `(samples, max_length)`, and start your model with a layer capable of handling such integer tensors (the `Embedding` layer, which we’ll cover in detail later in the book).\n",
    "\n",
    "2. __Multi-hot encode your lists__ to turn them into vectors of 0s and 1s. Then you could use a `Dense` layer, capable of handling floating-point vector data, as the first layer in your model.\n",
    "\n",
    "Let’s go with the latter solution to vectorize the data, which you’ll do manually for maximum clarity."
   ]
  },
  {
   "cell_type": "code",
   "execution_count": 6,
   "metadata": {
    "id": "E5wJ0uFhWS_w"
   },
   "outputs": [],
   "source": [
    "import numpy as np\n",
    "\n",
    "def vectorize_sequences(sequences, dimension=10_000):\n",
    "    # create all-zero matrix of shape (len(sequences), dimension)\n",
    "    results = np.zeros((len(sequences), dimension))\n",
    "    for i, sequence in enumerate(sequences):\n",
    "        for j in sequences:\n",
    "            # set specific indices of results[i] to 1s\n",
    "            results[i, j] = 1.\n",
    "    return results\n",
    "\n",
    "x_train = vectorize_sequences(train_data[:100], 10)\n",
    "x_test = vectorize_sequences(test_data[:100], 10)"
   ]
  },
  {
   "cell_type": "markdown",
   "metadata": {
    "id": "7RNvAB6sWS_y"
   },
   "source": [
    "Here’s what the samples look like now."
   ]
  },
  {
   "cell_type": "code",
   "execution_count": 7,
   "metadata": {
    "id": "RR-oFEvRWS_z"
   },
   "outputs": [
    {
     "data": {
      "text/plain": [
       "array([0., 1., 1., 0., 1., 1., 1., 1., 1., 1.])"
      ]
     },
     "execution_count": 7,
     "metadata": {},
     "output_type": "execute_result"
    }
   ],
   "source": [
    "x_train[0]"
   ]
  },
  {
   "cell_type": "markdown",
   "metadata": {
    "id": "eooSLCUVWS_0"
   },
   "source": [
    "You should also __vectorize your labels__."
   ]
  },
  {
   "cell_type": "code",
   "execution_count": null,
   "metadata": {
    "id": "6-U34aCYWS_1"
   },
   "outputs": [],
   "source": [
    "y_train = np.asarray(train_labels).astype(\"float32\")\n",
    "y_test = np.asarray(test_labels).astype(\"float32\")"
   ]
  },
  {
   "cell_type": "markdown",
   "metadata": {
    "id": "gT2DHowPWS_2"
   },
   "source": [
    "Now the data is __ready to be fed into a NN__."
   ]
  },
  {
   "cell_type": "markdown",
   "metadata": {
    "id": "UuTGMaXVWS_3"
   },
   "source": [
    "<a name=\"building\"></a>\n",
    "# 4.1.3 Building your model"
   ]
  },
  {
   "cell_type": "markdown",
   "metadata": {
    "id": "Tt8Z8_lqXUJt"
   },
   "source": [
    "The __input data is vectors__, and the __labels are scalars__ (1s and 0s): this is one of the simplest problem setups you’ll ever encounter. A type of model that performs well on such a problem is a __plain stack of `Dense` layers with `relu` activations__.\n",
    "\n",
    "There are two __key architecture decisions__ to be made about such a stack of Dense layers:\n",
    "\n",
    "1. How many layers to use\n",
    "2. How many units to choose for each layer\n",
    "\n",
    "For now: \n",
    "1. Two intermediate layers with 16 units each\n",
    "2. A third layer that will output the scalar prediction regarding the sentiment of the current review\n",
    "\n",
    "![](https://drek4537l1klr.cloudfront.net/chollet2/HighResolutionFigures/figure_4-1.png)"
   ]
  }
 ],
 "metadata": {
  "accelerator": "GPU",
  "colab": {
   "name": "ch3_7_BinaryClassificationIMDB.ipynb",
   "provenance": []
  },
  "kernelspec": {
   "display_name": "Python 3 (ipykernel)",
   "language": "python",
   "name": "python3"
  },
  "language_info": {
   "codemirror_mode": {
    "name": "ipython",
    "version": 3
   },
   "file_extension": ".py",
   "mimetype": "text/x-python",
   "name": "python",
   "nbconvert_exporter": "python",
   "pygments_lexer": "ipython3",
   "version": "3.9.7"
  }
 },
 "nbformat": 4,
 "nbformat_minor": 1
}
