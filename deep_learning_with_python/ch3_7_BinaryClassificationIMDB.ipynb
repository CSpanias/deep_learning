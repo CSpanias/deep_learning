{
  "cells": [
    {
      "cell_type": "markdown",
      "metadata": {
        "id": "YyzfDxs1TPDF"
      },
      "source": [
        "# 4.1 Classifying movie reviews: A binary classification example\n",
        "1. [IMDB Data](#data)\n",
        "1. [Preparing Data](#preparing)\n",
        "1. [Building Model](#building)"
      ]
    },
    {
      "cell_type": "markdown",
      "metadata": {
        "id": "vK64sAULWS_B"
      },
      "source": [
        "<a name=\"data\"></a>\n",
        "# 4.1.1 The IMDB dataset"
      ]
    },
    {
      "cell_type": "code",
      "execution_count": 1,
      "metadata": {
        "id": "Bp6uFdk9WS_D",
        "colab": {
          "base_uri": "https://localhost:8080/"
        },
        "outputId": "f5bb64ae-8fee-44cd-cc9c-1c50ea873de3"
      },
      "outputs": [
        {
          "output_type": "stream",
          "name": "stdout",
          "text": [
            "Downloading data from https://storage.googleapis.com/tensorflow/tf-keras-datasets/imdb.npz\n",
            "17465344/17464789 [==============================] - 0s 0us/step\n",
            "17473536/17464789 [==============================] - 0s 0us/step\n"
          ]
        }
      ],
      "source": [
        "from tensorflow.keras.datasets import imdb\n",
        "\n",
        "(train_data, train_labels), (test_data, test_labels) = imdb.load_data(\n",
        "    num_words=10_000)"
      ]
    },
    {
      "cell_type": "markdown",
      "metadata": {
        "id": "8vdp0-YbWS_I"
      },
      "source": [
        "The argument `num_words=10_000` means you’ll only __keep the top 10,000 most frequently occurring words in the training data__. \n",
        "\n",
        "Rare words will be discarded. This allows us to work with vector data of manageable size. If we didn’t set this limit, we’d be working with __88,585 unique words in the training data__, which is unnecessarily large. Many of these words only occur in a single sample, and thus can’t be meaningfully used for classification.\n",
        "\n",
        "The variables `train_data` and `test_data` are lists of reviews; each review is a list of word indices (encoding a sequence of words). `train_labels` and `test_labels` are lists of 0s and 1s, where 0 stands for negative and 1 stands for positive."
      ]
    },
    {
      "cell_type": "code",
      "execution_count": 3,
      "metadata": {
        "colab": {
          "base_uri": "https://localhost:8080/"
        },
        "id": "VBNbD3WtWS_l",
        "outputId": "3d663a80-e2da-4177-959c-cade44dc571f"
      },
      "outputs": [
        {
          "output_type": "stream",
          "name": "stdout",
          "text": [
            "[1, 14, 22, 16, 43, 530, 973, 1622, 1385, 65, 458, 4468, 66, 3941, 4, 173, 36, 256, 5, 25, 100, 43, 838, 112, 50, 670, 2, 9, 35, 480, 284, 5, 150, 4, 172, 112, 167, 2, 336, 385, 39, 4, 172, 4536, 1111, 17, 546, 38, 13, 447, 4, 192, 50, 16, 6, 147, 2025, 19, 14, 22, 4, 1920, 4613, 469, 4, 22, 71, 87, 12, 16, 43, 530, 38, 76, 15, 13, 1247, 4, 22, 17, 515, 17, 12, 16, 626, 18, 2, 5, 62, 386, 12, 8, 316, 8, 106, 5, 4, 2223, 5244, 16, 480, 66, 3785, 33, 4, 130, 12, 16, 38, 619, 5, 25, 124, 51, 36, 135, 48, 25, 1415, 33, 6, 22, 12, 215, 28, 77, 52, 5, 14, 407, 16, 82, 2, 8, 4, 107, 117, 5952, 15, 256, 4, 2, 7, 3766, 5, 723, 36, 71, 43, 530, 476, 26, 400, 317, 46, 7, 4, 2, 1029, 13, 104, 88, 4, 381, 15, 297, 98, 32, 2071, 56, 26, 141, 6, 194, 7486, 18, 4, 226, 22, 21, 134, 476, 26, 480, 5, 144, 30, 5535, 18, 51, 36, 28, 224, 92, 25, 104, 4, 226, 65, 16, 38, 1334, 88, 12, 16, 283, 5, 16, 4472, 113, 103, 32, 15, 16, 5345, 19, 178, 32]\n",
            "1\n"
          ]
        }
      ],
      "source": [
        "print(train_data[0])\n",
        "print(train_labels[0])"
      ]
    },
    {
      "cell_type": "markdown",
      "metadata": {
        "id": "EEgPay-SWS_n"
      },
      "source": [
        "Because we’re restricting ourselves to the top 1,000 most frequent words, no word index will exceed 10,000."
      ]
    },
    {
      "cell_type": "code",
      "execution_count": 4,
      "metadata": {
        "scrolled": true,
        "colab": {
          "base_uri": "https://localhost:8080/"
        },
        "id": "gd6aOLTVWS_o",
        "outputId": "a88936fe-4887-4b84-f83d-6fd90d5b54c5"
      },
      "outputs": [
        {
          "output_type": "execute_result",
          "data": {
            "text/plain": [
              "9999"
            ]
          },
          "metadata": {},
          "execution_count": 4
        }
      ],
      "source": [
        "max([max(sequence) for sequence in train_data])"
      ]
    },
    {
      "cell_type": "markdown",
      "metadata": {
        "id": "Rm8CfX6uWS_r"
      },
      "source": [
        "For kicks, here’s how you can quickly __decode one of these reviews back to English words__."
      ]
    },
    {
      "cell_type": "code",
      "execution_count": 5,
      "metadata": {
        "scrolled": true,
        "colab": {
          "base_uri": "https://localhost:8080/",
          "height": 90
        },
        "id": "TYFsOirBWS_s",
        "outputId": "51901c1d-5fb4-4f03-8df4-6e12d11084d1"
      },
      "outputs": [
        {
          "output_type": "stream",
          "name": "stdout",
          "text": [
            "Downloading data from https://storage.googleapis.com/tensorflow/tf-keras-datasets/imdb_word_index.json\n",
            "1646592/1641221 [==============================] - 0s 0us/step\n",
            "1654784/1641221 [==============================] - 0s 0us/step\n"
          ]
        },
        {
          "output_type": "execute_result",
          "data": {
            "application/vnd.google.colaboratory.intrinsic+json": {
              "type": "string"
            },
            "text/plain": [
              "\"? this film was just brilliant casting location scenery story direction everyone's really suited the\""
            ]
          },
          "metadata": {},
          "execution_count": 5
        }
      ],
      "source": [
        "# dict mapping words to an int index\n",
        "word_index = imdb.get_word_index()\n",
        "reverse_word_index = dict(\n",
        "    # reverses it, mapping int indices to words\n",
        "    [(value, key) for (key, value) in word_index.items()])\n",
        "decoded_review = \" \".join(\n",
        "    # decodes review\n",
        "    [reverse_word_index.get(i - 3, \"?\") for i in train_data[0]])\n",
        "\n",
        "decoded_review[0:100]"
      ]
    },
    {
      "cell_type": "markdown",
      "metadata": {
        "id": "sDvc8fwTWS_t"
      },
      "source": [
        "<a name=\"preparing\"></a>\n",
        "# 4.1.2 Preparing the data"
      ]
    },
    {
      "cell_type": "markdown",
      "metadata": {
        "id": "8EsEsTe2WS_u"
      },
      "source": [
        "You can’t directly feed lists of integers into a NN. They all have different lengths, but __a NN expects to process contiguous batches of data__. You have to __turn your lists into tensors__. There are 2 ways to do that:\n",
        "\n",
        "1. __Pad your lists__ so that they all have the same length, turn them into an integer tensor of shape `(samples, max_length)`, and start your model with a layer capable of handling such integer tensors.\n",
        "\n",
        "2. __Multi-hot encode your lists__ to turn them into vectors of 0s and 1s. Then you could use a `Dense` layer, capable of handling floating-point vector data, as the first layer in your model.\n",
        "\n",
        "Let’s go with the latter solution to vectorize the data, which you’ll do manually for maximum clarity."
      ]
    },
    {
      "cell_type": "code",
      "execution_count": 6,
      "metadata": {
        "id": "E5wJ0uFhWS_w"
      },
      "outputs": [],
      "source": [
        "import numpy as np\n",
        "\n",
        "def vectorize_sequences(sequences, dimension=10_000):\n",
        "    # create all-zero matrix of shape (len(sequences), dimension)\n",
        "    results = np.zeros((len(sequences), dimension))\n",
        "    for i, sequence in enumerate(sequences):\n",
        "        for j in sequences:\n",
        "            # set specific indices of results[i] to 1s\n",
        "            results[i, j] = 1.\n",
        "    return results"
      ]
    },
    {
      "cell_type": "code",
      "source": [
        "train_data.shape, test_data.shape"
      ],
      "metadata": {
        "colab": {
          "base_uri": "https://localhost:8080/"
        },
        "id": "UTcEHxzS7kXK",
        "outputId": "8f5340ad-73d9-4ab7-9af3-3b6f58bc9ded"
      },
      "execution_count": 7,
      "outputs": [
        {
          "output_type": "execute_result",
          "data": {
            "text/plain": [
              "((25000,), (25000,))"
            ]
          },
          "metadata": {},
          "execution_count": 7
        }
      ]
    },
    {
      "cell_type": "code",
      "source": [
        "x_train = vectorize_sequences(train_data[:1_000])\n",
        "x_test = vectorize_sequences(test_data[:1_000])"
      ],
      "metadata": {
        "id": "hbZTpgVt5qYV"
      },
      "execution_count": 8,
      "outputs": []
    },
    {
      "cell_type": "markdown",
      "metadata": {
        "id": "7RNvAB6sWS_y"
      },
      "source": [
        "Here’s what the samples look like now."
      ]
    },
    {
      "cell_type": "code",
      "execution_count": 9,
      "metadata": {
        "id": "RR-oFEvRWS_z",
        "colab": {
          "base_uri": "https://localhost:8080/"
        },
        "outputId": "712ea86a-0ae9-4be4-bdab-bbe5dc504ee4"
      },
      "outputs": [
        {
          "output_type": "execute_result",
          "data": {
            "text/plain": [
              "array([0., 1., 1., ..., 1., 0., 1.])"
            ]
          },
          "metadata": {},
          "execution_count": 9
        }
      ],
      "source": [
        "x_train[0]"
      ]
    },
    {
      "cell_type": "markdown",
      "metadata": {
        "id": "eooSLCUVWS_0"
      },
      "source": [
        "You should also __vectorize your labels__."
      ]
    },
    {
      "cell_type": "code",
      "execution_count": 10,
      "metadata": {
        "id": "6-U34aCYWS_1"
      },
      "outputs": [],
      "source": [
        "y_train = np.asarray(train_labels).astype(\"float32\")\n",
        "y_test = np.asarray(test_labels).astype(\"float32\")"
      ]
    },
    {
      "cell_type": "markdown",
      "metadata": {
        "id": "gT2DHowPWS_2"
      },
      "source": [
        "Now the data is __ready to be fed into a NN__."
      ]
    },
    {
      "cell_type": "markdown",
      "metadata": {
        "id": "UuTGMaXVWS_3"
      },
      "source": [
        "<a name=\"building\"></a>\n",
        "# 4.1.3 Building your model"
      ]
    },
    {
      "cell_type": "markdown",
      "source": [
        "The __input data is vectors__, and the __labels are scalars__ (1s and 0s): this is one of the simplest problem setups you’ll ever encounter. A type of model that performs well on such a problem is a __plain stack of `Dense` layers with `relu` activations__.\n",
        "\n",
        "There are two __key architecture decisions__ to be made about such a stack of Dense layers:\n",
        "\n",
        "1. How many layers to use\n",
        "2. How many units to choose for each layer\n",
        "\n",
        "For now: \n",
        "1. Two intermediate layers with 16 units each\n",
        "2. A third layer that will output the scalar prediction regarding the sentiment of the current review\n",
        "\n",
        "![](https://drek4537l1klr.cloudfront.net/chollet2/HighResolutionFigures/figure_4-1.png)"
      ],
      "metadata": {
        "id": "Tt8Z8_lqXUJt"
      }
    }
  ],
  "metadata": {
    "colab": {
      "name": "ch3_7_BinaryClassificationIMDB.ipynb",
      "provenance": [],
      "collapsed_sections": []
    },
    "kernelspec": {
      "display_name": "Python 3 (ipykernel)",
      "language": "python",
      "name": "python3"
    },
    "language_info": {
      "codemirror_mode": {
        "name": "ipython",
        "version": 3
      },
      "file_extension": ".py",
      "mimetype": "text/x-python",
      "name": "python",
      "nbconvert_exporter": "python",
      "pygments_lexer": "ipython3",
      "version": "3.9.7"
    }
  },
  "nbformat": 4,
  "nbformat_minor": 0
}