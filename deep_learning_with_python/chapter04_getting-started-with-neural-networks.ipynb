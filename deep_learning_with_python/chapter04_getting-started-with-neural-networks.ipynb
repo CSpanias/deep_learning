{
 "cells": [
  {
   "cell_type": "markdown",
   "metadata": {
    "colab_type": "text"
   },
   "source": [
    "This is a companion notebook for the book [Deep Learning with Python, Second Edition](https://www.manning.com/books/deep-learning-with-python-second-edition?a_aid=keras&a_bid=76564dff). For readability, it only contains runnable code blocks and section titles, and omits everything else in the book: text paragraphs, figures, and pseudocode.\n",
    "\n",
    "**If you want to be able to follow what's going on, I recommend reading the notebook side by side with your copy of the book.**\n",
    "\n",
    "This notebook was generated for TensorFlow 2.6."
   ]
  },
  {
   "cell_type": "markdown",
   "metadata": {
    "colab_type": "text"
   },
   "source": [
    "# 4. Getting started with neural networks: Classification and regression\n",
    "1. [Binary Classification: IMDB Reviews](#binclas)\n",
    "1. [Multiclass Classification: Newswires](#multiclass)\n",
    "1. [Regression: House Prices](#regression)"
   ]
  },
  {
   "cell_type": "markdown",
   "metadata": {
    "colab_type": "text"
   },
   "source": [
    "<a name='binclas'></a>\n",
    "## 4.1 Classifying movie reviews: A binary classification example"
   ]
  },
  {
   "cell_type": "markdown",
   "metadata": {
    "colab_type": "text"
   },
   "source": [
    "<a name=\"data\"></a>\n",
    "### The IMDB dataset"
   ]
  },
  {
   "cell_type": "markdown",
   "metadata": {
    "colab_type": "text"
   },
   "source": [
    "**Loading the IMDB dataset**"
   ]
  },
  {
   "cell_type": "code",
   "execution_count": 39,
   "metadata": {
    "colab_type": "code"
   },
   "outputs": [],
   "source": [
    "from tensorflow.keras.datasets import imdb\n",
    "(train_data, train_labels), (test_data, test_labels) = imdb.load_data(num_words=10000)"
   ]
  },
  {
   "cell_type": "markdown",
   "metadata": {},
   "source": [
    "The variables `train_data` and `test_data` are __lists of reviews__; each review is a list of word indices (encoding a sequence of words). `train_labels` and `test_labels` are lists of 0s and 1s, where `0` stands for __negative__ and `1` stands for __positive__."
   ]
  },
  {
   "cell_type": "code",
   "execution_count": 40,
   "metadata": {
    "colab_type": "code"
   },
   "outputs": [
    {
     "name": "stdout",
     "output_type": "stream",
     "text": [
      "[1, 14, 22, 16, 43, 530, 973, 1622, 1385, 65, 458, 4468, 66, 3941, 4, 173, 36, 256, 5, 25, 100, 43, 838, 112, 50, 670, 2, 9, 35, 480, 284, 5, 150, 4, 172, 112, 167, 2, 336, 385, 39, 4, 172, 4536, 1111, 17, 546, 38, 13, 447, 4, 192, 50, 16, 6, 147, 2025, 19, 14, 22, 4, 1920, 4613, 469, 4, 22, 71, 87, 12, 16, 43, 530, 38, 76, 15, 13, 1247, 4, 22, 17, 515, 17, 12, 16, 626, 18, 2, 5, 62, 386, 12, 8, 316, 8, 106, 5, 4, 2223, 5244, 16, 480, 66, 3785, 33, 4, 130, 12, 16, 38, 619, 5, 25, 124, 51, 36, 135, 48, 25, 1415, 33, 6, 22, 12, 215, 28, 77, 52, 5, 14, 407, 16, 82, 2, 8, 4, 107, 117, 5952, 15, 256, 4, 2, 7, 3766, 5, 723, 36, 71, 43, 530, 476, 26, 400, 317, 46, 7, 4, 2, 1029, 13, 104, 88, 4, 381, 15, 297, 98, 32, 2071, 56, 26, 141, 6, 194, 7486, 18, 4, 226, 22, 21, 134, 476, 26, 480, 5, 144, 30, 5535, 18, 51, 36, 28, 224, 92, 25, 104, 4, 226, 65, 16, 38, 1334, 88, 12, 16, 283, 5, 16, 4472, 113, 103, 32, 15, 16, 5345, 19, 178, 32] \n",
      "\n",
      "1\n"
     ]
    }
   ],
   "source": [
    "print(train_data[0], \"\\n\")\n",
    "print(train_labels[0])"
   ]
  },
  {
   "cell_type": "markdown",
   "metadata": {
    "colab_type": "text"
   },
   "source": [
    "**Decoding reviews back to text**"
   ]
  },
  {
   "cell_type": "code",
   "execution_count": 41,
   "metadata": {
    "colab_type": "code"
   },
   "outputs": [
    {
     "data": {
      "text/plain": [
       "\"? this film was just brilliant casting location scenery story direction everyone's really suited the\""
      ]
     },
     "execution_count": 41,
     "metadata": {},
     "output_type": "execute_result"
    }
   ],
   "source": [
    "word_index = imdb.get_word_index()\n",
    "reverse_word_index = dict(\n",
    "    [(value, key) for (key, value) in word_index.items()])\n",
    "decoded_review = \" \".join(\n",
    "    [reverse_word_index.get(i - 3, \"?\") for i in train_data[0]])\n",
    "\n",
    "decoded_review[:100]"
   ]
  },
  {
   "cell_type": "markdown",
   "metadata": {
    "colab_type": "text"
   },
   "source": [
    "<a name=\"preparing\"></a>\n",
    "### Preparing the data"
   ]
  },
  {
   "cell_type": "markdown",
   "metadata": {},
   "source": [
    "You can’t directly feed lists of integers into a NN. They all have different lengths, but __a NN expects to process contiguous batches of data__. You have to __turn your lists into tensors__. There are 2 ways to do that:\n",
    "\n",
    "1. __Pad your lists__ so that they all have the same length, turn them into an integer tensor of shape `(samples, max_length)`, and start your model with a layer capable of handling such integer tensors.\n",
    "\n",
    "2. __Multi-hot encode your lists__ to turn them into vectors of 0s and 1s. Then you could use a `Dense` layer, capable of handling floating-point vector data, as the first layer in your model.\n",
    "\n",
    "Let’s go with the latter solution to vectorize the data, which you’ll do manually for maximum clarity."
   ]
  },
  {
   "cell_type": "markdown",
   "metadata": {
    "colab_type": "text"
   },
   "source": [
    "**Encoding the integer sequences via multi-hot encoding**"
   ]
  },
  {
   "cell_type": "code",
   "execution_count": 42,
   "metadata": {
    "colab_type": "code"
   },
   "outputs": [],
   "source": [
    "import numpy as np\n",
    "def vectorize_sequences(sequences, dimension=10000):\n",
    "    results = np.zeros((len(sequences), dimension))\n",
    "    for i, sequence in enumerate(sequences):\n",
    "        for j in sequence:\n",
    "            results[i, j] = 1.\n",
    "    return results"
   ]
  },
  {
   "cell_type": "code",
   "execution_count": 43,
   "metadata": {},
   "outputs": [],
   "source": [
    "x_train = vectorize_sequences(train_data)\n",
    "x_test = vectorize_sequences(test_data)"
   ]
  },
  {
   "cell_type": "code",
   "execution_count": 44,
   "metadata": {
    "colab_type": "code"
   },
   "outputs": [
    {
     "data": {
      "text/plain": [
       "array([0., 1., 1., ..., 0., 0., 0.])"
      ]
     },
     "execution_count": 44,
     "metadata": {},
     "output_type": "execute_result"
    }
   ],
   "source": [
    "x_train[0]"
   ]
  },
  {
   "cell_type": "code",
   "execution_count": 45,
   "metadata": {
    "colab_type": "code"
   },
   "outputs": [],
   "source": [
    "# vectorize labels\n",
    "y_train = np.asarray(train_labels).astype(\"float32\")\n",
    "y_test = np.asarray(test_labels).astype(\"float32\")"
   ]
  },
  {
   "cell_type": "markdown",
   "metadata": {
    "colab_type": "text"
   },
   "source": [
    "<a name=\"building\"></a>\n",
    "### Building your model"
   ]
  },
  {
   "cell_type": "markdown",
   "metadata": {},
   "source": [
    "The __input data is vectors__, and the __labels are scalars__ (1s and 0s): this is one of the simplest problem setups you’ll ever encounter. A type of model that performs well on such a problem is a __plain stack of `Dense` layers with `relu` activations__.\n",
    "\n",
    "There are two __key architecture decisions__ to be made about such a stack of Dense layers:\n",
    "\n",
    "1. How many layers to use\n",
    "2. How many units to choose for each layer\n",
    "\n",
    "For now: \n",
    "1. Two intermediate layers with 16 units each\n",
    "2. A third layer that will output the scalar prediction regarding the sentiment of the current review\n",
    "\n",
    "<img src=\"https://drek4537l1klr.cloudfront.net/chollet2/HighResolutionFigures/figure_4-1.png\" style=\"width:20%;\"/>"
   ]
  },
  {
   "cell_type": "markdown",
   "metadata": {
    "colab_type": "text"
   },
   "source": [
    "**Model definition**"
   ]
  },
  {
   "cell_type": "code",
   "execution_count": 46,
   "metadata": {
    "colab_type": "code"
   },
   "outputs": [],
   "source": [
    "from tensorflow import keras\n",
    "from tensorflow.keras import layers\n",
    "\n",
    "model = keras.Sequential([\n",
    "    layers.Dense(16, activation=\"relu\"),\n",
    "    layers.Dense(16, activation=\"relu\"),\n",
    "    layers.Dense(1, activation=\"sigmoid\")\n",
    "])"
   ]
  },
  {
   "cell_type": "markdown",
   "metadata": {},
   "source": [
    "Each `Dense` layer with a `relu` activation implements the following chain of tensor operations: <br>\n",
    "\n",
    "`output = relu(dot(input, W) + b)`\n",
    "\n",
    "* `16` units means the weight matrix $W$ will have shape `(input dim, 16)`\n",
    "* `relu` zeros out negative values\n",
    "* `sigmoid` squashes arbitrary values into `0` and `1`, outputs probability."
   ]
  },
  {
   "cell_type": "markdown",
   "metadata": {
    "colab_type": "text"
   },
   "source": [
    "**Compiling the model**"
   ]
  },
  {
   "cell_type": "markdown",
   "metadata": {},
   "source": [
    "__Binary classification__ and __probability__ as output:\n",
    "* `binary_crossentropy`: __crossentropy__ is usually best when dealing with probabilities\n",
    "* `rmsprop`: usually a good default choice for virtually any problem"
   ]
  },
  {
   "cell_type": "code",
   "execution_count": 48,
   "metadata": {
    "colab_type": "code"
   },
   "outputs": [],
   "source": [
    "model.compile(optimizer=\"rmsprop\",\n",
    "              loss=\"binary_crossentropy\",\n",
    "              metrics=[\"accuracy\"])"
   ]
  },
  {
   "cell_type": "markdown",
   "metadata": {
    "colab_type": "text"
   },
   "source": [
    "### Validating your approach"
   ]
  },
  {
   "cell_type": "markdown",
   "metadata": {
    "colab_type": "text"
   },
   "source": [
    "**Setting aside a validation set**"
   ]
  },
  {
   "cell_type": "code",
   "execution_count": 9,
   "metadata": {
    "colab_type": "code"
   },
   "outputs": [],
   "source": [
    "x_val = x_train[:10000]\n",
    "partial_x_train = x_train[10000:]\n",
    "y_val = y_train[:10000]\n",
    "partial_y_train = y_train[10000:]"
   ]
  },
  {
   "cell_type": "markdown",
   "metadata": {
    "colab_type": "text"
   },
   "source": [
    "**Training your model**"
   ]
  },
  {
   "cell_type": "code",
   "execution_count": 10,
   "metadata": {
    "colab_type": "code",
    "scrolled": true
   },
   "outputs": [
    {
     "name": "stdout",
     "output_type": "stream",
     "text": [
      "Epoch 1/20\n",
      "30/30 [==============================] - 10s 285ms/step - loss: 0.5344 - accuracy: 0.7723 - val_loss: 0.4196 - val_accuracy: 0.8406\n",
      "Epoch 2/20\n",
      "30/30 [==============================] - 2s 58ms/step - loss: 0.3235 - accuracy: 0.8959 - val_loss: 0.3151 - val_accuracy: 0.8843\n",
      "Epoch 3/20\n",
      "30/30 [==============================] - 1s 40ms/step - loss: 0.2343 - accuracy: 0.9249 - val_loss: 0.3338 - val_accuracy: 0.8645\n",
      "Epoch 4/20\n",
      "30/30 [==============================] - 1s 38ms/step - loss: 0.1865 - accuracy: 0.9405 - val_loss: 0.2719 - val_accuracy: 0.8905\n",
      "Epoch 5/20\n",
      "30/30 [==============================] - 1s 34ms/step - loss: 0.1517 - accuracy: 0.9520 - val_loss: 0.2745 - val_accuracy: 0.8889\n",
      "Epoch 6/20\n",
      "30/30 [==============================] - 1s 38ms/step - loss: 0.1270 - accuracy: 0.9583 - val_loss: 0.3029 - val_accuracy: 0.8836\n",
      "Epoch 7/20\n",
      "30/30 [==============================] - 1s 25ms/step - loss: 0.1057 - accuracy: 0.9692 - val_loss: 0.2981 - val_accuracy: 0.8850\n",
      "Epoch 8/20\n",
      "30/30 [==============================] - 1s 25ms/step - loss: 0.0880 - accuracy: 0.9747 - val_loss: 0.3602 - val_accuracy: 0.8710\n",
      "Epoch 9/20\n",
      "30/30 [==============================] - 1s 24ms/step - loss: 0.0748 - accuracy: 0.9800 - val_loss: 0.3388 - val_accuracy: 0.8791\n",
      "Epoch 10/20\n",
      "30/30 [==============================] - 1s 27ms/step - loss: 0.0628 - accuracy: 0.9833 - val_loss: 0.4114 - val_accuracy: 0.8688\n",
      "Epoch 11/20\n",
      "30/30 [==============================] - 1s 25ms/step - loss: 0.0522 - accuracy: 0.9866 - val_loss: 0.3856 - val_accuracy: 0.8771\n",
      "Epoch 12/20\n",
      "30/30 [==============================] - 1s 25ms/step - loss: 0.0419 - accuracy: 0.9904 - val_loss: 0.4281 - val_accuracy: 0.8743\n",
      "Epoch 13/20\n",
      "30/30 [==============================] - 1s 26ms/step - loss: 0.0352 - accuracy: 0.9927 - val_loss: 0.4482 - val_accuracy: 0.8724\n",
      "Epoch 14/20\n",
      "30/30 [==============================] - 1s 30ms/step - loss: 0.0282 - accuracy: 0.9947 - val_loss: 0.4867 - val_accuracy: 0.8734\n",
      "Epoch 15/20\n",
      "30/30 [==============================] - 1s 22ms/step - loss: 0.0233 - accuracy: 0.9957 - val_loss: 0.5089 - val_accuracy: 0.8700\n",
      "Epoch 16/20\n",
      "30/30 [==============================] - 1s 23ms/step - loss: 0.0173 - accuracy: 0.9973 - val_loss: 0.5775 - val_accuracy: 0.8616\n",
      "Epoch 17/20\n",
      "30/30 [==============================] - 1s 26ms/step - loss: 0.0143 - accuracy: 0.9984 - val_loss: 0.5812 - val_accuracy: 0.8685\n",
      "Epoch 18/20\n",
      "30/30 [==============================] - 1s 25ms/step - loss: 0.0099 - accuracy: 0.9996 - val_loss: 0.6254 - val_accuracy: 0.8660\n",
      "Epoch 19/20\n",
      "30/30 [==============================] - 1s 26ms/step - loss: 0.0099 - accuracy: 0.9989 - val_loss: 0.6563 - val_accuracy: 0.8655\n",
      "Epoch 20/20\n",
      "30/30 [==============================] - 1s 21ms/step - loss: 0.0053 - accuracy: 0.9997 - val_loss: 0.6992 - val_accuracy: 0.8643\n"
     ]
    }
   ],
   "source": [
    "history = model.fit(partial_x_train,\n",
    "                    partial_y_train,\n",
    "                    epochs=20,\n",
    "                    batch_size=512,\n",
    "                    validation_data=(x_val, y_val))"
   ]
  },
  {
   "cell_type": "markdown",
   "metadata": {},
   "source": [
    "The call `model.fit()` returns a `History` object which has a member `history` (a dict containing data about everything that happened during training)."
   ]
  },
  {
   "cell_type": "code",
   "execution_count": 11,
   "metadata": {
    "colab_type": "code"
   },
   "outputs": [
    {
     "data": {
      "text/plain": [
       "dict_keys(['loss', 'accuracy', 'val_loss', 'val_accuracy'])"
      ]
     },
     "execution_count": 11,
     "metadata": {},
     "output_type": "execute_result"
    }
   ],
   "source": [
    "history_dict = history.history\n",
    "history_dict.keys()"
   ]
  },
  {
   "cell_type": "markdown",
   "metadata": {
    "colab_type": "text"
   },
   "source": [
    "**Plotting the training and validation loss**"
   ]
  },
  {
   "cell_type": "code",
   "execution_count": 12,
   "metadata": {
    "colab_type": "code"
   },
   "outputs": [
    {
     "data": {
      "image/png": "[encoded data removed]",
      "text/plain": [
       "<Figure size 432x288 with 1 Axes>"
      ]
     },
     "metadata": {
      "needs_background": "light"
     },
     "output_type": "display_data"
    }
   ],
   "source": [
    "import matplotlib.pyplot as plt\n",
    "history_dict = history.history\n",
    "loss_values = history_dict[\"loss\"]\n",
    "val_loss_values = history_dict[\"val_loss\"]\n",
    "epochs = range(1, len(loss_values) + 1)\n",
    "plt.plot(epochs, loss_values, \"bo\", label=\"Training loss\")\n",
    "plt.plot(epochs, val_loss_values, \"b\", label=\"Validation loss\")\n",
    "plt.title(\"Training and validation loss\")\n",
    "plt.xlabel(\"Epochs\")\n",
    "plt.ylabel(\"Loss\")\n",
    "plt.legend()\n",
    "plt.show()"
   ]
  },
  {
   "cell_type": "markdown",
   "metadata": {
    "colab_type": "text"
   },
   "source": [
    "**Plotting the training and validation accuracy**"
   ]
  },
  {
   "cell_type": "code",
   "execution_count": 13,
   "metadata": {
    "colab_type": "code"
   },
   "outputs": [
    {
     "data": {
      "image/png": "[encoded data removed]",
      "text/plain": [
       "<Figure size 432x288 with 1 Axes>"
      ]
     },
     "metadata": {
      "needs_background": "light"
     },
     "output_type": "display_data"
    }
   ],
   "source": [
    "plt.clf()\n",
    "acc = history_dict[\"accuracy\"]\n",
    "val_acc = history_dict[\"val_accuracy\"]\n",
    "plt.plot(epochs, acc, \"bo\", label=\"Training acc\")\n",
    "plt.plot(epochs, val_acc, \"b\", label=\"Validation acc\")\n",
    "plt.title(\"Training and validation accuracy\")\n",
    "plt.xlabel(\"Epochs\")\n",
    "plt.ylabel(\"Accuracy\")\n",
    "plt.legend()\n",
    "plt.show()"
   ]
  },
  {
   "cell_type": "markdown",
   "metadata": {
    "colab_type": "text"
   },
   "source": [
    "**Retraining a model from scratch**"
   ]
  },
  {
   "cell_type": "code",
   "execution_count": 14,
   "metadata": {
    "colab_type": "code"
   },
   "outputs": [
    {
     "name": "stdout",
     "output_type": "stream",
     "text": [
      "Epoch 1/4\n",
      "49/49 [==============================] - 2s 17ms/step - loss: 0.4563 - accuracy: 0.8339\n",
      "Epoch 2/4\n",
      "49/49 [==============================] - 1s 16ms/step - loss: 0.2604 - accuracy: 0.9110\n",
      "Epoch 3/4\n",
      "49/49 [==============================] - 1s 15ms/step - loss: 0.1995 - accuracy: 0.9290\n",
      "Epoch 4/4\n",
      "49/49 [==============================] - 1s 18ms/step - loss: 0.1686 - accuracy: 0.9409\n",
      "782/782 [==============================] - 2s 2ms/step - loss: 0.2924 - accuracy: 0.8837\n"
     ]
    }
   ],
   "source": [
    "model = keras.Sequential([\n",
    "    layers.Dense(16, activation=\"relu\"),\n",
    "    layers.Dense(16, activation=\"relu\"),\n",
    "    layers.Dense(1, activation=\"sigmoid\")\n",
    "])\n",
    "model.compile(optimizer=\"rmsprop\",\n",
    "              loss=\"binary_crossentropy\",\n",
    "              metrics=[\"accuracy\"])\n",
    "model.fit(x_train, y_train, epochs=4, batch_size=512)\n",
    "results = model.evaluate(x_test, y_test)"
   ]
  },
  {
   "cell_type": "code",
   "execution_count": 15,
   "metadata": {
    "colab_type": "code"
   },
   "outputs": [
    {
     "data": {
      "text/plain": [
       "[0.2924253046512604, 0.883679986000061]"
      ]
     },
     "execution_count": 15,
     "metadata": {},
     "output_type": "execute_result"
    }
   ],
   "source": [
    "results"
   ]
  },
  {
   "cell_type": "markdown",
   "metadata": {
    "colab_type": "text"
   },
   "source": [
    "### Using a trained model to generate predictions on new data"
   ]
  },
  {
   "cell_type": "code",
   "execution_count": 16,
   "metadata": {
    "colab_type": "code"
   },
   "outputs": [
    {
     "data": {
      "text/plain": [
       "array([[0.22093278],\n",
       "       [0.99976367],\n",
       "       [0.9383265 ],\n",
       "       ...,\n",
       "       [0.16458312],\n",
       "       [0.08418083],\n",
       "       [0.6915604 ]], dtype=float32)"
      ]
     },
     "execution_count": 16,
     "metadata": {},
     "output_type": "execute_result"
    }
   ],
   "source": [
    "model.predict(x_test)"
   ]
  },
  {
   "cell_type": "markdown",
   "metadata": {
    "colab_type": "text"
   },
   "source": [
    "### Further experiments"
   ]
  },
  {
   "cell_type": "markdown",
   "metadata": {},
   "source": [
    "1. __More representation layers__."
   ]
  },
  {
   "cell_type": "code",
   "execution_count": 17,
   "metadata": {
    "scrolled": true
   },
   "outputs": [
    {
     "name": "stdout",
     "output_type": "stream",
     "text": [
      "Epoch 1/5\n",
      "30/30 [==============================] - 12s 365ms/step - loss: 0.5104 - accuracy: 0.7931 - val_loss: 0.4028 - val_accuracy: 0.8480\n",
      "Epoch 2/5\n",
      "30/30 [==============================] - 2s 76ms/step - loss: 0.2925 - accuracy: 0.9028 - val_loss: 0.3322 - val_accuracy: 0.8632\n",
      "Epoch 3/5\n",
      "30/30 [==============================] - 1s 37ms/step - loss: 0.2066 - accuracy: 0.9295 - val_loss: 0.2777 - val_accuracy: 0.8880\n",
      "Epoch 4/5\n",
      "30/30 [==============================] - 1s 34ms/step - loss: 0.1639 - accuracy: 0.9429 - val_loss: 0.2795 - val_accuracy: 0.8885\n",
      "Epoch 5/5\n",
      "30/30 [==============================] - 1s 32ms/step - loss: 0.1275 - accuracy: 0.9587 - val_loss: 0.2948 - val_accuracy: 0.8866\n"
     ]
    },
    {
     "data": {
      "text/plain": [
       "<keras.callbacks.History at 0x26181a548b0>"
      ]
     },
     "execution_count": 17,
     "metadata": {},
     "output_type": "execute_result"
    }
   ],
   "source": [
    "# build model\n",
    "model = keras.Sequential([\n",
    "    layers.Dense(16, activation=\"relu\"),\n",
    "    layers.Dense(16, activation=\"relu\"),\n",
    "    # adding an extra Dense layer\n",
    "    layers.Dense(16, activation='relu'),\n",
    "    layers.Dense(1, activation=\"sigmoid\")\n",
    "])\n",
    "\n",
    "# compile model\n",
    "model.compile(optimizer=\"rmsprop\",\n",
    "              loss=\"binary_crossentropy\",\n",
    "              metrics=[\"accuracy\"])\n",
    "\n",
    "# train model\n",
    "model.fit(partial_x_train, partial_y_train, epochs=5, batch_size=512, validation_data=(x_val, y_val))"
   ]
  },
  {
   "cell_type": "markdown",
   "metadata": {},
   "source": [
    "2. __Less representation layers__."
   ]
  },
  {
   "cell_type": "code",
   "execution_count": 18,
   "metadata": {
    "scrolled": true
   },
   "outputs": [
    {
     "name": "stdout",
     "output_type": "stream",
     "text": [
      "Epoch 1/5\n",
      "30/30 [==============================] - 8s 205ms/step - loss: 0.5053 - accuracy: 0.7855 - val_loss: 0.3896 - val_accuracy: 0.8692\n",
      "Epoch 2/5\n",
      "30/30 [==============================] - 1s 27ms/step - loss: 0.3168 - accuracy: 0.9027 - val_loss: 0.3211 - val_accuracy: 0.8832\n",
      "Epoch 3/5\n",
      "30/30 [==============================] - 1s 26ms/step - loss: 0.2447 - accuracy: 0.9252 - val_loss: 0.2972 - val_accuracy: 0.8852\n",
      "Epoch 4/5\n",
      "30/30 [==============================] - 1s 26ms/step - loss: 0.2023 - accuracy: 0.9362 - val_loss: 0.2825 - val_accuracy: 0.8886\n",
      "Epoch 5/5\n",
      "30/30 [==============================] - 1s 25ms/step - loss: 0.1704 - accuracy: 0.9497 - val_loss: 0.2731 - val_accuracy: 0.8885\n"
     ]
    },
    {
     "data": {
      "text/plain": [
       "<keras.callbacks.History at 0x26181c0b4c0>"
      ]
     },
     "execution_count": 18,
     "metadata": {},
     "output_type": "execute_result"
    }
   ],
   "source": [
    "# build model\n",
    "model = keras.Sequential([\n",
    "    layers.Dense(16, activation=\"relu\"),\n",
    "    # removing a Dense layer\n",
    "    #layers.Dense(16, activation=\"relu\"),\n",
    "    layers.Dense(1, activation=\"sigmoid\")\n",
    "])\n",
    "\n",
    "# compile model\n",
    "model.compile(optimizer=\"rmsprop\",\n",
    "              loss=\"binary_crossentropy\",\n",
    "              metrics=[\"accuracy\"])\n",
    "\n",
    "# train model\n",
    "model.fit(partial_x_train, partial_y_train, epochs=5, batch_size=512, validation_data=(x_val, y_val))"
   ]
  },
  {
   "cell_type": "markdown",
   "metadata": {},
   "source": [
    "3. Layers with __more units__."
   ]
  },
  {
   "cell_type": "code",
   "execution_count": 19,
   "metadata": {
    "scrolled": true
   },
   "outputs": [
    {
     "name": "stdout",
     "output_type": "stream",
     "text": [
      "Epoch 1/5\n",
      "30/30 [==============================] - 6s 149ms/step - loss: 0.4822 - accuracy: 0.7876 - val_loss: 0.3536 - val_accuracy: 0.8632\n",
      "Epoch 2/5\n",
      "30/30 [==============================] - 1s 27ms/step - loss: 0.2667 - accuracy: 0.9051 - val_loss: 0.3175 - val_accuracy: 0.8700\n",
      "Epoch 3/5\n",
      "30/30 [==============================] - 1s 28ms/step - loss: 0.1978 - accuracy: 0.9296 - val_loss: 0.2780 - val_accuracy: 0.8885\n",
      "Epoch 4/5\n",
      "30/30 [==============================] - 1s 25ms/step - loss: 0.1465 - accuracy: 0.9499 - val_loss: 0.3905 - val_accuracy: 0.8521\n",
      "Epoch 5/5\n",
      "30/30 [==============================] - 1s 25ms/step - loss: 0.1209 - accuracy: 0.9594 - val_loss: 0.3047 - val_accuracy: 0.8839\n"
     ]
    },
    {
     "data": {
      "text/plain": [
       "<keras.callbacks.History at 0x26181e1a970>"
      ]
     },
     "execution_count": 19,
     "metadata": {},
     "output_type": "execute_result"
    }
   ],
   "source": [
    "# build model\n",
    "model = keras.Sequential([\n",
    "    # increasing units\n",
    "    layers.Dense(32, activation=\"relu\"),\n",
    "    layers.Dense(64, activation=\"relu\"),\n",
    "    layers.Dense(1, activation=\"sigmoid\")\n",
    "])\n",
    "\n",
    "# compile model\n",
    "model.compile(optimizer=\"rmsprop\",\n",
    "              loss=\"binary_crossentropy\",\n",
    "              metrics=[\"accuracy\"])\n",
    "\n",
    "# train model\n",
    "model.fit(partial_x_train, partial_y_train, epochs=5, batch_size=512, validation_data=(x_val, y_val))"
   ]
  },
  {
   "cell_type": "markdown",
   "metadata": {},
   "source": [
    "4. Layers with __less units__."
   ]
  },
  {
   "cell_type": "code",
   "execution_count": 20,
   "metadata": {
    "scrolled": true
   },
   "outputs": [
    {
     "name": "stdout",
     "output_type": "stream",
     "text": [
      "Epoch 1/5\n",
      "30/30 [==============================] - 5s 145ms/step - loss: 0.5315 - accuracy: 0.7888 - val_loss: 0.4160 - val_accuracy: 0.8698\n",
      "Epoch 2/5\n",
      "30/30 [==============================] - 1s 25ms/step - loss: 0.3402 - accuracy: 0.8967 - val_loss: 0.3342 - val_accuracy: 0.8812\n",
      "Epoch 3/5\n",
      "30/30 [==============================] - 1s 24ms/step - loss: 0.2544 - accuracy: 0.9213 - val_loss: 0.2937 - val_accuracy: 0.8894\n",
      "Epoch 4/5\n",
      "30/30 [==============================] - 1s 25ms/step - loss: 0.2029 - accuracy: 0.9357 - val_loss: 0.2768 - val_accuracy: 0.8922\n",
      "Epoch 5/5\n",
      "30/30 [==============================] - 1s 22ms/step - loss: 0.1653 - accuracy: 0.9499 - val_loss: 0.2978 - val_accuracy: 0.8809\n"
     ]
    },
    {
     "data": {
      "text/plain": [
       "<keras.callbacks.History at 0x261820acd00>"
      ]
     },
     "execution_count": 20,
     "metadata": {},
     "output_type": "execute_result"
    }
   ],
   "source": [
    "# build model\n",
    "model = keras.Sequential([\n",
    "    # decreasing units\n",
    "    layers.Dense(8, activation=\"relu\"),\n",
    "    layers.Dense(16, activation=\"relu\"),\n",
    "    layers.Dense(1, activation=\"sigmoid\")\n",
    "])\n",
    "\n",
    "# compile model\n",
    "model.compile(optimizer=\"rmsprop\",\n",
    "              loss=\"binary_crossentropy\",\n",
    "              metrics=[\"accuracy\"])\n",
    "\n",
    "# train model\n",
    "model.fit(partial_x_train, partial_y_train, epochs=5, batch_size=512, validation_data=(x_val, y_val))"
   ]
  },
  {
   "cell_type": "markdown",
   "metadata": {},
   "source": [
    "5. __Changing loss function__ from `binary_crossentropy` to `mse`."
   ]
  },
  {
   "cell_type": "code",
   "execution_count": 21,
   "metadata": {
    "scrolled": true
   },
   "outputs": [
    {
     "name": "stdout",
     "output_type": "stream",
     "text": [
      "Epoch 1/5\n",
      "30/30 [==============================] - 11s 358ms/step - loss: 0.5362 - accuracy: 0.7853 - val_loss: 0.4135 - val_accuracy: 0.8603\n",
      "Epoch 2/5\n",
      "30/30 [==============================] - 1s 27ms/step - loss: 0.3311 - accuracy: 0.8967 - val_loss: 0.3219 - val_accuracy: 0.8802\n",
      "Epoch 3/5\n",
      "30/30 [==============================] - 1s 25ms/step - loss: 0.2407 - accuracy: 0.9224 - val_loss: 0.2859 - val_accuracy: 0.8886\n",
      "Epoch 4/5\n",
      "30/30 [==============================] - 1s 24ms/step - loss: 0.1899 - accuracy: 0.9363 - val_loss: 0.2811 - val_accuracy: 0.8869\n",
      "Epoch 5/5\n",
      "30/30 [==============================] - 1s 26ms/step - loss: 0.1534 - accuracy: 0.9500 - val_loss: 0.2818 - val_accuracy: 0.8857\n"
     ]
    },
    {
     "data": {
      "text/plain": [
       "<keras.callbacks.History at 0x26182131f70>"
      ]
     },
     "execution_count": 21,
     "metadata": {},
     "output_type": "execute_result"
    }
   ],
   "source": [
    "# build model\n",
    "model = keras.Sequential([\n",
    "    \n",
    "    layers.Dense(16, activation=\"relu\"),\n",
    "    layers.Dense(16, activation=\"relu\"),\n",
    "    layers.Dense(1, activation=\"sigmoid\")\n",
    "])\n",
    "\n",
    "# compile model\n",
    "model.compile(optimizer=\"rmsprop\",\n",
    "              # changing loss function\n",
    "              loss=\"binary_crossentropy\",\n",
    "              metrics=[\"accuracy\"])\n",
    "\n",
    "# train model\n",
    "model.fit(partial_x_train, partial_y_train, epochs=5, batch_size=512, validation_data=(x_val, y_val))"
   ]
  },
  {
   "cell_type": "markdown",
   "metadata": {},
   "source": [
    "5. __Changing activation function__ from `relu` to `tanh`."
   ]
  },
  {
   "cell_type": "code",
   "execution_count": 22,
   "metadata": {
    "scrolled": true
   },
   "outputs": [
    {
     "name": "stdout",
     "output_type": "stream",
     "text": [
      "Epoch 1/5\n",
      "30/30 [==============================] - 5s 137ms/step - loss: 0.4787 - accuracy: 0.8018 - val_loss: 0.3540 - val_accuracy: 0.8771\n",
      "Epoch 2/5\n",
      "30/30 [==============================] - 1s 27ms/step - loss: 0.2764 - accuracy: 0.9071 - val_loss: 0.2898 - val_accuracy: 0.8854\n",
      "Epoch 3/5\n",
      "30/30 [==============================] - 1s 29ms/step - loss: 0.1916 - accuracy: 0.9386 - val_loss: 0.2809 - val_accuracy: 0.8850\n",
      "Epoch 4/5\n",
      "30/30 [==============================] - 1s 29ms/step - loss: 0.1478 - accuracy: 0.9514 - val_loss: 0.2895 - val_accuracy: 0.8835\n",
      "Epoch 5/5\n",
      "30/30 [==============================] - 1s 26ms/step - loss: 0.1120 - accuracy: 0.9635 - val_loss: 0.3326 - val_accuracy: 0.8746\n"
     ]
    },
    {
     "data": {
      "text/plain": [
       "<keras.callbacks.History at 0x261822876a0>"
      ]
     },
     "execution_count": 22,
     "metadata": {},
     "output_type": "execute_result"
    }
   ],
   "source": [
    "# build model\n",
    "model = keras.Sequential([\n",
    "    # chaning activation function\n",
    "    layers.Dense(16, activation=\"tanh\"),\n",
    "    layers.Dense(16, activation=\"tanh\"),\n",
    "    layers.Dense(1, activation=\"sigmoid\")\n",
    "])\n",
    "\n",
    "# compile model\n",
    "model.compile(optimizer=\"rmsprop\",\n",
    "              # changing loss function\n",
    "              loss=\"binary_crossentropy\",\n",
    "              metrics=[\"accuracy\"])\n",
    "\n",
    "# train model\n",
    "model.fit(partial_x_train, partial_y_train, epochs=5, batch_size=512, validation_data=(x_val, y_val))"
   ]
  },
  {
   "cell_type": "markdown",
   "metadata": {
    "colab_type": "text"
   },
   "source": [
    "### Wrapping up"
   ]
  },
  {
   "cell_type": "markdown",
   "metadata": {},
   "source": [
    "* You usually need to do quite a bit of preprocessing on your raw data in order to be able to feed it—as tensors—into a neural network. Sequences of words can be encoded as binary vectors, but there are other encoding options too.\n",
    "* Stacks of `Dense` layers with relu activations can solve a wide range of problems (including sentiment classification), and you’ll likely use them frequently.\n",
    "* In a binary classification problem (two output classes), your model should end with a `Dense` layer with one unit and a `sigmoid` activation: the output of your model should be a scalar between `0` and `1`, encoding a probability.\n",
    "* With such a scalar `sigmoid` output on a binary classification problem, the loss function you should use is `binary_crossentropy`.\n",
    "* The `rmsprop` optimizer is generally a good enough choice, whatever your problem. That’s one less thing for you to worry about.\n",
    "* As they get better on their training data, neural networks eventually start overfitting and end up obtaining increasingly worse results on data they’ve never seen before. Be sure to always monitor performance on data that is outside of the training set."
   ]
  },
  {
   "cell_type": "markdown",
   "metadata": {
    "colab_type": "text"
   },
   "source": [
    "<a name='multiclass'></a>\n",
    "## 4.2. Classifying newswires: A multiclass classification example"
   ]
  },
  {
   "cell_type": "markdown",
   "metadata": {},
   "source": [
    "In this section, we’ll build a model to classify Reuters newswires into `46`__mutually exclusive topics__. \n",
    "\n",
    "Because we have many classes and each data point should be classified into only one category, this problem is an instance of __single-label multiclass classification__."
   ]
  },
  {
   "cell_type": "markdown",
   "metadata": {
    "colab_type": "text"
   },
   "source": [
    "### The Reuters dataset"
   ]
  },
  {
   "cell_type": "markdown",
   "metadata": {
    "colab_type": "text"
   },
   "source": [
    "**Loading the Reuters dataset**"
   ]
  },
  {
   "cell_type": "code",
   "execution_count": 63,
   "metadata": {
    "colab_type": "code"
   },
   "outputs": [],
   "source": [
    "from tensorflow.keras.datasets import reuters\n",
    "(train_data, train_labels), (test_data, test_labels) = reuters.load_data(num_words=10000)"
   ]
  },
  {
   "cell_type": "code",
   "execution_count": 64,
   "metadata": {
    "colab_type": "code"
   },
   "outputs": [
    {
     "data": {
      "text/plain": [
       "8982"
      ]
     },
     "execution_count": 64,
     "metadata": {},
     "output_type": "execute_result"
    }
   ],
   "source": [
    "len(train_data)"
   ]
  },
  {
   "cell_type": "code",
   "execution_count": 65,
   "metadata": {
    "colab_type": "code"
   },
   "outputs": [
    {
     "data": {
      "text/plain": [
       "2246"
      ]
     },
     "execution_count": 65,
     "metadata": {},
     "output_type": "execute_result"
    }
   ],
   "source": [
    "len(test_data)"
   ]
  },
  {
   "cell_type": "code",
   "execution_count": 66,
   "metadata": {
    "colab_type": "code"
   },
   "outputs": [
    {
     "name": "stdout",
     "output_type": "stream",
     "text": [
      "[1, 245, 273, 207, 156, 53, 74, 160, 26, 14, 46, 296, 26, 39, 74, 2979, 3554, 14, 46, 4689, 4329, 86, 61, 3499, 4795, 14, 61, 451, 4329, 17, 12]\n"
     ]
    }
   ],
   "source": [
    "print(train_data[10])"
   ]
  },
  {
   "cell_type": "markdown",
   "metadata": {
    "colab_type": "text"
   },
   "source": [
    "**Decoding newswires back to text**"
   ]
  },
  {
   "cell_type": "code",
   "execution_count": 67,
   "metadata": {
    "colab_type": "code"
   },
   "outputs": [
    {
     "data": {
      "text/plain": [
       "'? ? ? said as a result of its december acquisition of space co it expects earnings per share in 1987'"
      ]
     },
     "execution_count": 67,
     "metadata": {},
     "output_type": "execute_result"
    }
   ],
   "source": [
    "word_index = reuters.get_word_index()\n",
    "reverse_word_index = dict([(value, key) for (key, value) in word_index.items()])\n",
    "decoded_newswire = \" \".join([reverse_word_index.get(i - 3, \"?\") for i in\n",
    "    train_data[0]])\n",
    "\n",
    "decoded_newswire[:100]"
   ]
  },
  {
   "cell_type": "code",
   "execution_count": 68,
   "metadata": {
    "colab_type": "code"
   },
   "outputs": [
    {
     "data": {
      "text/plain": [
       "array([ 3,  4,  3,  4,  4,  4,  4,  3,  3, 16], dtype=int64)"
      ]
     },
     "execution_count": 68,
     "metadata": {},
     "output_type": "execute_result"
    }
   ],
   "source": [
    "train_labels[:10]"
   ]
  },
  {
   "cell_type": "markdown",
   "metadata": {
    "colab_type": "text"
   },
   "source": [
    "### Preparing the data"
   ]
  },
  {
   "cell_type": "markdown",
   "metadata": {
    "colab_type": "text"
   },
   "source": [
    "**Encoding the input data**"
   ]
  },
  {
   "cell_type": "code",
   "execution_count": 69,
   "metadata": {
    "colab_type": "code"
   },
   "outputs": [],
   "source": [
    "x_train = vectorize_sequences(train_data)\n",
    "x_test = vectorize_sequences(test_data)"
   ]
  },
  {
   "cell_type": "markdown",
   "metadata": {},
   "source": [
    "To __vectorize the labels__, there are two possibilities: \n",
    "1. you can cast the label list as an __integer tensor__.\n",
    "1. you can use __one-hot encoding__."
   ]
  },
  {
   "cell_type": "markdown",
   "metadata": {
    "colab_type": "text"
   },
   "source": [
    "**Encoding the labels**"
   ]
  },
  {
   "cell_type": "code",
   "execution_count": 70,
   "metadata": {
    "colab_type": "code"
   },
   "outputs": [],
   "source": [
    "from tensorflow.keras.utils import to_categorical\n",
    "\n",
    "# one-hot encode labels\n",
    "y_train = to_categorical(train_labels)\n",
    "y_test = to_categorical(test_labels)"
   ]
  },
  {
   "cell_type": "markdown",
   "metadata": {
    "colab_type": "text"
   },
   "source": [
    "### Building your model"
   ]
  },
  {
   "cell_type": "markdown",
   "metadata": {},
   "source": [
    "In a stack of `Dense` layers like those we’ve been using, each layer can only access information present in the output of the previous layer. \n",
    "\n",
    "If one layer drops some information relevant to the classification problem, this information can never be recovered by later layers: each layer can potentially become an __information bottleneck__. \n",
    "\n",
    "In the previous example, we used `16`-dimensional intermediate layers, but a 16-dimensional space may be too limited to learn to separate 46 different classes: such small layers may act as information bottlenecks, permanently dropping relevant information."
   ]
  },
  {
   "cell_type": "markdown",
   "metadata": {
    "colab_type": "text"
   },
   "source": [
    "**Model definition**"
   ]
  },
  {
   "cell_type": "code",
   "execution_count": 71,
   "metadata": {},
   "outputs": [
    {
     "data": {
      "text/plain": [
       "(8982, 10000)"
      ]
     },
     "execution_count": 71,
     "metadata": {},
     "output_type": "execute_result"
    }
   ],
   "source": [
    "x_train.shape"
   ]
  },
  {
   "cell_type": "code",
   "execution_count": 72,
   "metadata": {
    "colab_type": "code"
   },
   "outputs": [],
   "source": [
    "import tensorflow as tf\n",
    "from tensorflow import keras\n",
    "from tensorflow.keras import layers\n",
    "\n",
    "model = keras.Sequential([\n",
    "    layers.Dense(64, activation=\"relu\"),\n",
    "    layers.Dense(64, activation=\"relu\"),\n",
    "    layers.Dense(46, activation=\"softmax\")\n",
    "])\n",
    "\n",
    "#model.summary()"
   ]
  },
  {
   "cell_type": "markdown",
   "metadata": {
    "colab_type": "text"
   },
   "source": [
    "**Compiling the model**"
   ]
  },
  {
   "cell_type": "code",
   "execution_count": 73,
   "metadata": {
    "colab_type": "code"
   },
   "outputs": [],
   "source": [
    "model.compile(optimizer=\"rmsprop\",\n",
    "              loss=\"categorical_crossentropy\",\n",
    "              metrics=[\"accuracy\"])"
   ]
  },
  {
   "cell_type": "markdown",
   "metadata": {
    "colab_type": "text"
   },
   "source": [
    "### Validating your approach"
   ]
  },
  {
   "cell_type": "markdown",
   "metadata": {
    "colab_type": "text"
   },
   "source": [
    "**Setting aside a validation set**"
   ]
  },
  {
   "cell_type": "code",
   "execution_count": 74,
   "metadata": {
    "colab_type": "code"
   },
   "outputs": [],
   "source": [
    "x_val = x_train[:1000]\n",
    "partial_x_train = x_train[1000:]\n",
    "y_val = y_train[:1000]\n",
    "partial_y_train = y_train[1000:]"
   ]
  },
  {
   "cell_type": "markdown",
   "metadata": {
    "colab_type": "text"
   },
   "source": [
    "**Training the model**"
   ]
  },
  {
   "cell_type": "code",
   "execution_count": 75,
   "metadata": {
    "colab_type": "code",
    "scrolled": true
   },
   "outputs": [
    {
     "name": "stdout",
     "output_type": "stream",
     "text": [
      "Epoch 1/20\n",
      "16/16 [==============================] - 2s 62ms/step - loss: 2.6391 - accuracy: 0.5341 - val_loss: 1.7169 - val_accuracy: 0.6350\n",
      "Epoch 2/20\n",
      "16/16 [==============================] - 1s 38ms/step - loss: 1.3950 - accuracy: 0.7071 - val_loss: 1.3028 - val_accuracy: 0.7200\n",
      "Epoch 3/20\n",
      "16/16 [==============================] - 1s 41ms/step - loss: 1.0340 - accuracy: 0.7765 - val_loss: 1.1280 - val_accuracy: 0.7540\n",
      "Epoch 4/20\n",
      "16/16 [==============================] - 1s 35ms/step - loss: 0.8160 - accuracy: 0.8285 - val_loss: 1.0639 - val_accuracy: 0.7730\n",
      "Epoch 5/20\n",
      "16/16 [==============================] - 1s 32ms/step - loss: 0.6572 - accuracy: 0.8623 - val_loss: 0.9759 - val_accuracy: 0.8020\n",
      "Epoch 6/20\n",
      "16/16 [==============================] - 0s 31ms/step - loss: 0.5203 - accuracy: 0.8928 - val_loss: 0.9266 - val_accuracy: 0.8060\n",
      "Epoch 7/20\n",
      "16/16 [==============================] - 1s 33ms/step - loss: 0.4222 - accuracy: 0.9127 - val_loss: 0.9106 - val_accuracy: 0.8140\n",
      "Epoch 8/20\n",
      "16/16 [==============================] - 1s 32ms/step - loss: 0.3431 - accuracy: 0.9300 - val_loss: 0.8925 - val_accuracy: 0.8120\n",
      "Epoch 9/20\n",
      "16/16 [==============================] - 1s 33ms/step - loss: 0.2865 - accuracy: 0.9381 - val_loss: 0.9095 - val_accuracy: 0.8120\n",
      "Epoch 10/20\n",
      "16/16 [==============================] - 1s 32ms/step - loss: 0.2383 - accuracy: 0.9453 - val_loss: 0.9263 - val_accuracy: 0.8090\n",
      "Epoch 11/20\n",
      "16/16 [==============================] - 0s 31ms/step - loss: 0.2084 - accuracy: 0.9489 - val_loss: 0.9726 - val_accuracy: 0.7940\n",
      "Epoch 12/20\n",
      "16/16 [==============================] - 0s 31ms/step - loss: 0.1818 - accuracy: 0.9513 - val_loss: 0.9609 - val_accuracy: 0.8110\n",
      "Epoch 13/20\n",
      "16/16 [==============================] - 0s 32ms/step - loss: 0.1643 - accuracy: 0.9533 - val_loss: 0.9857 - val_accuracy: 0.8080\n",
      "Epoch 14/20\n",
      "16/16 [==============================] - 1s 32ms/step - loss: 0.1489 - accuracy: 0.9558 - val_loss: 0.9595 - val_accuracy: 0.8140\n",
      "Epoch 15/20\n",
      "16/16 [==============================] - 1s 35ms/step - loss: 0.1435 - accuracy: 0.9554 - val_loss: 0.9684 - val_accuracy: 0.8160\n",
      "Epoch 16/20\n",
      "16/16 [==============================] - 1s 32ms/step - loss: 0.1300 - accuracy: 0.9575 - val_loss: 1.0290 - val_accuracy: 0.8020\n",
      "Epoch 17/20\n",
      "16/16 [==============================] - 0s 31ms/step - loss: 0.1255 - accuracy: 0.9563 - val_loss: 1.0351 - val_accuracy: 0.8040\n",
      "Epoch 18/20\n",
      "16/16 [==============================] - 1s 35ms/step - loss: 0.1206 - accuracy: 0.9569 - val_loss: 1.0112 - val_accuracy: 0.8070\n",
      "Epoch 19/20\n",
      "16/16 [==============================] - 0s 31ms/step - loss: 0.1162 - accuracy: 0.9555 - val_loss: 1.1235 - val_accuracy: 0.7970\n",
      "Epoch 20/20\n",
      "16/16 [==============================] - 0s 29ms/step - loss: 0.1123 - accuracy: 0.9570 - val_loss: 1.0558 - val_accuracy: 0.8090\n"
     ]
    }
   ],
   "source": [
    "history = model.fit(partial_x_train,\n",
    "                    partial_y_train,\n",
    "                    epochs=20,\n",
    "                    batch_size=512,\n",
    "                    validation_data=(x_val, y_val))"
   ]
  },
  {
   "cell_type": "markdown",
   "metadata": {
    "colab_type": "text"
   },
   "source": [
    "**Plotting the training and validation loss**"
   ]
  },
  {
   "cell_type": "code",
   "execution_count": 76,
   "metadata": {
    "colab_type": "code"
   },
   "outputs": [
    {
     "data": {
      "image/png": "[encoded data removed]",
      "text/plain": [
       "<Figure size 432x288 with 1 Axes>"
      ]
     },
     "metadata": {
      "needs_background": "light"
     },
     "output_type": "display_data"
    }
   ],
   "source": [
    "loss = history.history[\"loss\"]\n",
    "val_loss = history.history[\"val_loss\"]\n",
    "epochs = range(1, len(loss) + 1)\n",
    "plt.plot(epochs, loss, \"bo\", label=\"Training loss\")\n",
    "plt.plot(epochs, val_loss, \"b\", label=\"Validation loss\")\n",
    "plt.title(\"Training and validation loss\")\n",
    "plt.xlabel(\"Epochs\")\n",
    "plt.ylabel(\"Loss\")\n",
    "plt.legend()\n",
    "plt.show()"
   ]
  },
  {
   "cell_type": "markdown",
   "metadata": {
    "colab_type": "text"
   },
   "source": [
    "**Plotting the training and validation accuracy**"
   ]
  },
  {
   "cell_type": "code",
   "execution_count": 77,
   "metadata": {
    "colab_type": "code"
   },
   "outputs": [
    {
     "data": {
      "image/png": "[encoded data removed]",
      "text/plain": [
       "<Figure size 432x288 with 1 Axes>"
      ]
     },
     "metadata": {
      "needs_background": "light"
     },
     "output_type": "display_data"
    }
   ],
   "source": [
    "plt.clf()\n",
    "acc = history.history[\"accuracy\"]\n",
    "val_acc = history.history[\"val_accuracy\"]\n",
    "plt.plot(epochs, acc, \"bo\", label=\"Training accuracy\")\n",
    "plt.plot(epochs, val_acc, \"b\", label=\"Validation accuracy\")\n",
    "plt.title(\"Training and validation accuracy\")\n",
    "plt.xlabel(\"Epochs\")\n",
    "plt.ylabel(\"Accuracy\")\n",
    "plt.legend()\n",
    "plt.show()"
   ]
  },
  {
   "cell_type": "markdown",
   "metadata": {
    "colab_type": "text"
   },
   "source": [
    "**Retraining a model from scratch**"
   ]
  },
  {
   "cell_type": "code",
   "execution_count": 78,
   "metadata": {
    "colab_type": "code"
   },
   "outputs": [
    {
     "name": "stdout",
     "output_type": "stream",
     "text": [
      "Epoch 1/9\n",
      "18/18 [==============================] - 1s 31ms/step - loss: 2.5759 - accuracy: 0.5225\n",
      "Epoch 2/9\n",
      "18/18 [==============================] - 1s 30ms/step - loss: 1.4280 - accuracy: 0.7042\n",
      "Epoch 3/9\n",
      "18/18 [==============================] - 0s 27ms/step - loss: 1.0583 - accuracy: 0.7742\n",
      "Epoch 4/9\n",
      "18/18 [==============================] - 0s 27ms/step - loss: 0.8327 - accuracy: 0.8219\n",
      "Epoch 5/9\n",
      "18/18 [==============================] - 0s 26ms/step - loss: 0.6633 - accuracy: 0.8612\n",
      "Epoch 6/9\n",
      "18/18 [==============================] - 0s 27ms/step - loss: 0.5324 - accuracy: 0.8900\n",
      "Epoch 7/9\n",
      "18/18 [==============================] - 1s 31ms/step - loss: 0.4328 - accuracy: 0.9122\n",
      "Epoch 8/9\n",
      "18/18 [==============================] - 1s 29ms/step - loss: 0.3497 - accuracy: 0.9266\n",
      "Epoch 9/9\n",
      "18/18 [==============================] - 1s 28ms/step - loss: 0.2929 - accuracy: 0.9371\n",
      "71/71 [==============================] - 0s 2ms/step - loss: 0.9526 - accuracy: 0.7956\n"
     ]
    }
   ],
   "source": [
    "model = keras.Sequential([\n",
    "  layers.Dense(64, activation=\"relu\"),\n",
    "  layers.Dense(64, activation=\"relu\"),\n",
    "  layers.Dense(46, activation=\"softmax\")\n",
    "])\n",
    "model.compile(optimizer=\"rmsprop\",\n",
    "              loss=\"categorical_crossentropy\",\n",
    "              metrics=[\"accuracy\"])\n",
    "model.fit(x_train,\n",
    "          y_train,\n",
    "          epochs=9,\n",
    "          batch_size=512)\n",
    "results = model.evaluate(x_test, y_test)"
   ]
  },
  {
   "cell_type": "code",
   "execution_count": 79,
   "metadata": {
    "colab_type": "code"
   },
   "outputs": [
    {
     "data": {
      "text/plain": [
       "[0.9525944590568542, 0.7956367135047913]"
      ]
     },
     "execution_count": 79,
     "metadata": {},
     "output_type": "execute_result"
    }
   ],
   "source": [
    "results"
   ]
  },
  {
   "cell_type": "markdown",
   "metadata": {},
   "source": [
    "This approach reaches an accuracy of ~80%. With a balanced binary classification problem, the accuracy reached by a purely random classifier would be 50%. \n",
    "\n",
    "But in this case, we have 46 classes, and they may not be equally represented. What would be the __accuracy of a random baseline__?"
   ]
  },
  {
   "cell_type": "code",
   "execution_count": 81,
   "metadata": {
    "colab_type": "code"
   },
   "outputs": [
    {
     "data": {
      "text/plain": [
       "0.1803205699020481"
      ]
     },
     "execution_count": 81,
     "metadata": {},
     "output_type": "execute_result"
    }
   ],
   "source": [
    "import copy\n",
    "test_labels_copy = copy.copy(test_labels)\n",
    "np.random.shuffle(test_labels_copy)\n",
    "hits_array = np.array(test_labels) == np.array(test_labels_copy)\n",
    "hits_array.mean()"
   ]
  },
  {
   "cell_type": "markdown",
   "metadata": {
    "colab_type": "text"
   },
   "source": [
    "### Generating predictions on new data"
   ]
  },
  {
   "cell_type": "code",
   "execution_count": 82,
   "metadata": {
    "colab_type": "code"
   },
   "outputs": [],
   "source": [
    "predictions = model.predict(x_test)"
   ]
  },
  {
   "cell_type": "code",
   "execution_count": 83,
   "metadata": {
    "colab_type": "code"
   },
   "outputs": [
    {
     "data": {
      "text/plain": [
       "(46,)"
      ]
     },
     "execution_count": 83,
     "metadata": {},
     "output_type": "execute_result"
    }
   ],
   "source": [
    "predictions[0].shape"
   ]
  },
  {
   "cell_type": "code",
   "execution_count": 84,
   "metadata": {
    "colab_type": "code"
   },
   "outputs": [
    {
     "data": {
      "text/plain": [
       "0.9999999"
      ]
     },
     "execution_count": 84,
     "metadata": {},
     "output_type": "execute_result"
    }
   ],
   "source": [
    "np.sum(predictions[0])"
   ]
  },
  {
   "cell_type": "code",
   "execution_count": 85,
   "metadata": {
    "colab_type": "code"
   },
   "outputs": [
    {
     "data": {
      "text/plain": [
       "3"
      ]
     },
     "execution_count": 85,
     "metadata": {},
     "output_type": "execute_result"
    }
   ],
   "source": [
    "np.argmax(predictions[0])"
   ]
  },
  {
   "cell_type": "markdown",
   "metadata": {
    "colab_type": "text"
   },
   "source": [
    "### A different way to handle the labels and the loss"
   ]
  },
  {
   "cell_type": "markdown",
   "metadata": {},
   "source": [
    "We mentioned earlier that another way to __encode the labels would be to cast them as an integer tensor__."
   ]
  },
  {
   "cell_type": "code",
   "execution_count": 86,
   "metadata": {
    "colab_type": "code"
   },
   "outputs": [],
   "source": [
    "y_train = np.array(train_labels)\n",
    "y_test = np.array(test_labels)"
   ]
  },
  {
   "cell_type": "markdown",
   "metadata": {},
   "source": [
    "The only thing this approach would change is the choice of the loss function. The loss function used in listing 4.21, `categorical_crossentropy`, expects the labels to follow a categorical encoding. With integer labels, you should use `sparse_categorical_ crossentropy`.\n",
    "\n",
    "This new loss function is still __mathematically the same as `categorical_crossentropy`__; it just has a different interface."
   ]
  },
  {
   "cell_type": "code",
   "execution_count": 88,
   "metadata": {
    "colab_type": "code"
   },
   "outputs": [],
   "source": [
    "model.compile(optimizer=\"rmsprop\",\n",
    "              loss=\"sparse_categorical_crossentropy\",\n",
    "              metrics=[\"accuracy\"])"
   ]
  },
  {
   "cell_type": "markdown",
   "metadata": {
    "colab_type": "text"
   },
   "source": [
    "### The importance of having sufficiently large intermediate layers"
   ]
  },
  {
   "cell_type": "markdown",
   "metadata": {},
   "source": [
    "We mentioned earlier that because the final outputs are `46-dimensional`, you should avoid intermediate layers with many fewer than 46 units. \n",
    "\n",
    "Now let’s see what happens when we introduce an information bottleneck by having intermediate layers that are significantly less than 46-dimensional: for example, `4-dimensional`."
   ]
  },
  {
   "cell_type": "markdown",
   "metadata": {
    "colab_type": "text"
   },
   "source": [
    "**A model with an information bottleneck**"
   ]
  },
  {
   "cell_type": "code",
   "execution_count": 89,
   "metadata": {
    "colab_type": "code",
    "scrolled": true
   },
   "outputs": [
    {
     "name": "stdout",
     "output_type": "stream",
     "text": [
      "Epoch 1/20\n",
      "63/63 [==============================] - 2s 20ms/step - loss: 3.0884 - accuracy: 0.3882 - val_loss: 2.3775 - val_accuracy: 0.4350\n",
      "Epoch 2/20\n",
      "63/63 [==============================] - 1s 16ms/step - loss: 1.8632 - accuracy: 0.6019 - val_loss: 1.6176 - val_accuracy: 0.6250\n",
      "Epoch 3/20\n",
      "63/63 [==============================] - 1s 16ms/step - loss: 1.3940 - accuracy: 0.6680 - val_loss: 1.4387 - val_accuracy: 0.6490\n",
      "Epoch 4/20\n",
      "63/63 [==============================] - 1s 16ms/step - loss: 1.2161 - accuracy: 0.6853 - val_loss: 1.3608 - val_accuracy: 0.6600\n",
      "Epoch 5/20\n",
      "63/63 [==============================] - 1s 16ms/step - loss: 1.0879 - accuracy: 0.7008 - val_loss: 1.3111 - val_accuracy: 0.6830\n",
      "Epoch 6/20\n",
      "63/63 [==============================] - 1s 16ms/step - loss: 0.9756 - accuracy: 0.7226 - val_loss: 1.2918 - val_accuracy: 0.6850\n",
      "Epoch 7/20\n",
      "63/63 [==============================] - 1s 16ms/step - loss: 0.8720 - accuracy: 0.7645 - val_loss: 1.2740 - val_accuracy: 0.7140\n",
      "Epoch 8/20\n",
      "63/63 [==============================] - 1s 16ms/step - loss: 0.7957 - accuracy: 0.7859 - val_loss: 1.2740 - val_accuracy: 0.7160\n",
      "Epoch 9/20\n",
      "63/63 [==============================] - 1s 16ms/step - loss: 0.7296 - accuracy: 0.8006 - val_loss: 1.2862 - val_accuracy: 0.7160\n",
      "Epoch 10/20\n",
      "63/63 [==============================] - 1s 17ms/step - loss: 0.6763 - accuracy: 0.8066 - val_loss: 1.2984 - val_accuracy: 0.7160\n",
      "Epoch 11/20\n",
      "63/63 [==============================] - 1s 17ms/step - loss: 0.6305 - accuracy: 0.8191 - val_loss: 1.3281 - val_accuracy: 0.7170\n",
      "Epoch 12/20\n",
      "63/63 [==============================] - 1s 17ms/step - loss: 0.5897 - accuracy: 0.8321 - val_loss: 1.4188 - val_accuracy: 0.7120\n",
      "Epoch 13/20\n",
      "63/63 [==============================] - 1s 17ms/step - loss: 0.5522 - accuracy: 0.8487 - val_loss: 1.4581 - val_accuracy: 0.7060\n",
      "Epoch 14/20\n",
      "63/63 [==============================] - 1s 18ms/step - loss: 0.5208 - accuracy: 0.8603 - val_loss: 1.4515 - val_accuracy: 0.7120\n",
      "Epoch 15/20\n",
      "63/63 [==============================] - 1s 19ms/step - loss: 0.4917 - accuracy: 0.8681 - val_loss: 1.4896 - val_accuracy: 0.7160\n",
      "Epoch 16/20\n",
      "63/63 [==============================] - 1s 17ms/step - loss: 0.4656 - accuracy: 0.8751 - val_loss: 1.5557 - val_accuracy: 0.7130\n",
      "Epoch 17/20\n",
      "63/63 [==============================] - 1s 21ms/step - loss: 0.4419 - accuracy: 0.8807 - val_loss: 1.5956 - val_accuracy: 0.7070\n",
      "Epoch 18/20\n",
      "63/63 [==============================] - 1s 22ms/step - loss: 0.4220 - accuracy: 0.8821 - val_loss: 1.6643 - val_accuracy: 0.7010\n",
      "Epoch 19/20\n",
      "63/63 [==============================] - 2s 24ms/step - loss: 0.4050 - accuracy: 0.8840 - val_loss: 1.6869 - val_accuracy: 0.7040\n",
      "Epoch 20/20\n",
      "63/63 [==============================] - 1s 18ms/step - loss: 0.3891 - accuracy: 0.8880 - val_loss: 1.8221 - val_accuracy: 0.6880\n"
     ]
    },
    {
     "data": {
      "text/plain": [
       "<keras.callbacks.History at 0x261cee20880>"
      ]
     },
     "execution_count": 89,
     "metadata": {},
     "output_type": "execute_result"
    }
   ],
   "source": [
    "model = keras.Sequential([\n",
    "    layers.Dense(64, activation=\"relu\"),\n",
    "    layers.Dense(4, activation=\"relu\"),\n",
    "    layers.Dense(46, activation=\"softmax\")\n",
    "])\n",
    "model.compile(optimizer=\"rmsprop\",\n",
    "              loss=\"categorical_crossentropy\",\n",
    "              metrics=[\"accuracy\"])\n",
    "model.fit(partial_x_train,\n",
    "          partial_y_train,\n",
    "          epochs=20,\n",
    "          batch_size=128,\n",
    "          validation_data=(x_val, y_val))"
   ]
  },
  {
   "cell_type": "markdown",
   "metadata": {},
   "source": [
    "The model now peaks at ~71% validation accuracy, an 8% absolute drop. \n",
    "\n",
    "This drop is mostly due to the fact that __we’re trying to compress a lot of information (enough information to recover the separation hyperplanes of 46 classes) into an intermediate space that is too low-dimensional__. \n",
    "\n",
    "The model is able to cram most of the necessary information into these four-dimensional representations, but not all of it."
   ]
  },
  {
   "cell_type": "markdown",
   "metadata": {
    "colab_type": "text"
   },
   "source": [
    "### Wrapping up"
   ]
  },
  {
   "cell_type": "markdown",
   "metadata": {},
   "source": [
    "* If you’re trying to classify data points among `N` classes, your model should end with a `Dense` layer of size `N`.\n",
    "* In a single-label, multiclass classification problem, your model should end with a `softmax` activation so that it will output a probability distribution over the `N` output classes.\n",
    "* `Categorical crossentropy` is almost always the loss function you should use for such problems. It minimizes the distance between the probability distributions output by the model and the true distribution of the targets.\n",
    "* There are two ways to handle labels in multiclass classification:\n",
    "    * Encoding the labels via __categorical encoding__ (also known as one-hot encoding) and using `categorical_crossentropy` as a loss function\n",
    "    * __Encoding the labels as integers__ and using the `sparse_categorical_crossentropy` loss function\n",
    "* If you need to classify data into a large number of categories, you should avoid creating __information bottlenecks__ in your model due to intermediate layers that are too small."
   ]
  },
  {
   "cell_type": "markdown",
   "metadata": {
    "colab_type": "text"
   },
   "source": [
    "<a name='regression'></a>\n",
    "## 3. Predicting house prices: A regression example"
   ]
  },
  {
   "cell_type": "markdown",
   "metadata": {
    "colab_type": "text"
   },
   "source": [
    "### The Boston Housing Price dataset"
   ]
  },
  {
   "cell_type": "markdown",
   "metadata": {},
   "source": [
    "The dataset we’ll use has an interesting difference from the two previous examples. It has __relatively few data points__: only `506`, split between `404 training samples` and `102 test samples`. \n",
    "\n",
    "And __each feature in the input data has a different scale__. For instance, some values are proportions, which take values between __0 and 1__, others take values between __1 and 12__, others between __0 and 100__, and so on."
   ]
  },
  {
   "cell_type": "markdown",
   "metadata": {
    "colab_type": "text"
   },
   "source": [
    "**Loading the Boston housing dataset**"
   ]
  },
  {
   "cell_type": "code",
   "execution_count": 90,
   "metadata": {
    "colab_type": "code"
   },
   "outputs": [
    {
     "name": "stdout",
     "output_type": "stream",
     "text": [
      "Downloading data from https://storage.googleapis.com/tensorflow/tf-keras-datasets/boston_housing.npz\n",
      "57344/57026 [==============================] - 0s 1us/step\n",
      "65536/57026 [==================================] - 0s 1us/step\n"
     ]
    }
   ],
   "source": [
    "from tensorflow.keras.datasets import boston_housing\n",
    "\n",
    "(train_data, train_targets), (test_data, test_targets) = boston_housing.load_data()"
   ]
  },
  {
   "cell_type": "code",
   "execution_count": 91,
   "metadata": {
    "colab_type": "code"
   },
   "outputs": [
    {
     "data": {
      "text/plain": [
       "(404, 13)"
      ]
     },
     "execution_count": 91,
     "metadata": {},
     "output_type": "execute_result"
    }
   ],
   "source": [
    "train_data.shape"
   ]
  },
  {
   "cell_type": "code",
   "execution_count": 92,
   "metadata": {
    "colab_type": "code"
   },
   "outputs": [
    {
     "data": {
      "text/plain": [
       "(102, 13)"
      ]
     },
     "execution_count": 92,
     "metadata": {},
     "output_type": "execute_result"
    }
   ],
   "source": [
    "test_data.shape"
   ]
  },
  {
   "cell_type": "code",
   "execution_count": 95,
   "metadata": {
    "colab_type": "code"
   },
   "outputs": [
    {
     "data": {
      "text/plain": [
       "array([15.2, 42.3, 50. , 21.1, 17.7, 18.5, 11.3, 15.6, 15.6, 14.4])"
      ]
     },
     "execution_count": 95,
     "metadata": {},
     "output_type": "execute_result"
    }
   ],
   "source": [
    "train_targets[:10]"
   ]
  },
  {
   "cell_type": "markdown",
   "metadata": {
    "colab_type": "text"
   },
   "source": [
    "### Preparing the data"
   ]
  },
  {
   "cell_type": "markdown",
   "metadata": {},
   "source": [
    "It would be problematic to feed into a neural network values that all take wildly different ranges. The model might be able to automatically adapt to such heterogeneous data, but it would definitely make learning more difficult. \n",
    "\n",
    "A widespread best practice for dealing with such data is to do __feature-wise normalization__: for each feature in the input data, we subtract the mean of the feature and divide by the standard deviation, so that the feature is __centered around 0 and has a unit standard deviation__. This is easily done in NumPy."
   ]
  },
  {
   "cell_type": "markdown",
   "metadata": {
    "colab_type": "text"
   },
   "source": [
    "**Normalizing the data**"
   ]
  },
  {
   "cell_type": "code",
   "execution_count": 97,
   "metadata": {
    "colab_type": "code"
   },
   "outputs": [],
   "source": [
    "# calculate mean & std on training data\n",
    "mean = train_data.mean(axis=0)\n",
    "std = train_data.std(axis=0)\n",
    "\n",
    "# subtract mean from each value\n",
    "train_data -= mean\n",
    "test_data -= mean\n",
    "\n",
    "# divide each value with std\n",
    "train_data /= std\n",
    "test_data /= std"
   ]
  },
  {
   "cell_type": "markdown",
   "metadata": {},
   "source": [
    "Note that __the quantities used for normalizing the test data are computed using the `training data`__. You should never use any quantity computed on the test data in your workflow, even for something as simple as data normalization."
   ]
  },
  {
   "cell_type": "markdown",
   "metadata": {
    "colab_type": "text"
   },
   "source": [
    "### Building your model"
   ]
  },
  {
   "cell_type": "markdown",
   "metadata": {},
   "source": [
    "Because so few samples are available, we’ll use a very small model with two intermediate layers, each with 64 units. In general, the less training data you have, the worse overfitting will be, and __using a small model is one way to mitigate overfitting__."
   ]
  },
  {
   "cell_type": "markdown",
   "metadata": {
    "colab_type": "text"
   },
   "source": [
    "**Model definition**"
   ]
  },
  {
   "cell_type": "code",
   "execution_count": 98,
   "metadata": {
    "colab_type": "code"
   },
   "outputs": [],
   "source": [
    "def build_model():\n",
    "    model = keras.Sequential([\n",
    "        layers.Dense(64, activation=\"relu\"),\n",
    "        layers.Dense(64, activation=\"relu\"),\n",
    "        layers.Dense(1)\n",
    "    ])\n",
    "    \n",
    "    model.compile(optimizer=\"rmsprop\", loss=\"mse\", metrics=[\"mae\"])\n",
    "    return model"
   ]
  },
  {
   "cell_type": "markdown",
   "metadata": {},
   "source": [
    "The model ends with a __single unit and no activation__ (it will be a linear layer). This is a typical setup for scalar regression. \n",
    "\n",
    "Applying an activation function would constrain the range the output can take; for instance, if you applied a `sigmoid` activation function to the last layer, the model could only learn to predict values between 0 and 1. \n",
    "\n",
    "Here, because the last layer is purely linear, the model is free to learn to predict values in any range"
   ]
  },
  {
   "cell_type": "markdown",
   "metadata": {
    "colab_type": "text"
   },
   "source": [
    "### Validating your approach using K-fold validation"
   ]
  },
  {
   "cell_type": "markdown",
   "metadata": {},
   "source": [
    "To evaluate our model while we keep adjusting its parameters (such as the number of `epochs` used for training), we could split the data into a `training set` and a `validation set`, as we did in the previous examples. But because we have so few data points, the validation set would end up being very small. \n",
    "\n",
    "As a consequence, the validation scores might change a lot depending on which data points we chose for validation and which we chose for training: the validation scores might have a high variance with regard to the validation split. This would prevent us from reliably evaluating our model.\n",
    "\n",
    "The best practice in such situations is to use __K-fold cross-validation__."
   ]
  },
  {
   "cell_type": "markdown",
   "metadata": {
    "colab_type": "text"
   },
   "source": [
    "**K-fold validation**"
   ]
  },
  {
   "cell_type": "code",
   "execution_count": 99,
   "metadata": {
    "colab_type": "code"
   },
   "outputs": [
    {
     "name": "stdout",
     "output_type": "stream",
     "text": [
      "Processing fold #0\n",
      "Processing fold #1\n",
      "Processing fold #2\n",
      "Processing fold #3\n"
     ]
    }
   ],
   "source": [
    "k = 4\n",
    "num_val_samples = len(train_data) // k\n",
    "num_epochs = 100\n",
    "all_scores = []\n",
    "for i in range(k):\n",
    "    print(f\"Processing fold #{i}\")\n",
    "    val_data = train_data[i * num_val_samples: (i + 1) * num_val_samples]\n",
    "    val_targets = train_targets[i * num_val_samples: (i + 1) * num_val_samples]\n",
    "    partial_train_data = np.concatenate(\n",
    "        [train_data[:i * num_val_samples],\n",
    "         train_data[(i + 1) * num_val_samples:]],\n",
    "        axis=0)\n",
    "    partial_train_targets = np.concatenate(\n",
    "        [train_targets[:i * num_val_samples],\n",
    "         train_targets[(i + 1) * num_val_samples:]],\n",
    "        axis=0)\n",
    "    model = build_model()\n",
    "    model.fit(partial_train_data, partial_train_targets,\n",
    "              epochs=num_epochs, batch_size=16, verbose=0)\n",
    "    val_mse, val_mae = model.evaluate(val_data, val_targets, verbose=0)\n",
    "    all_scores.append(val_mae)"
   ]
  },
  {
   "cell_type": "code",
   "execution_count": 100,
   "metadata": {
    "colab_type": "code"
   },
   "outputs": [
    {
     "data": {
      "text/plain": [
       "[1.7987521886825562, 2.339858055114746, 2.4029805660247803, 2.3520166873931885]"
      ]
     },
     "execution_count": 100,
     "metadata": {},
     "output_type": "execute_result"
    }
   ],
   "source": [
    "all_scores"
   ]
  },
  {
   "cell_type": "code",
   "execution_count": 101,
   "metadata": {
    "colab_type": "code"
   },
   "outputs": [
    {
     "data": {
      "text/plain": [
       "2.2234018743038177"
      ]
     },
     "execution_count": 101,
     "metadata": {},
     "output_type": "execute_result"
    }
   ],
   "source": [
    "np.mean(all_scores)"
   ]
  },
  {
   "cell_type": "markdown",
   "metadata": {},
   "source": [
    "We’re off by \\\\$2,220 on average, which is significant considering that the prices range from \\\\$10,000 to $50,000."
   ]
  },
  {
   "cell_type": "markdown",
   "metadata": {
    "colab_type": "text"
   },
   "source": [
    "**Saving the validation logs at each fold**"
   ]
  },
  {
   "cell_type": "code",
   "execution_count": 102,
   "metadata": {
    "colab_type": "code"
   },
   "outputs": [
    {
     "name": "stdout",
     "output_type": "stream",
     "text": [
      "Processing fold #0\n",
      "Processing fold #1\n",
      "Processing fold #2\n",
      "Processing fold #3\n"
     ]
    }
   ],
   "source": [
    "num_epochs = 500\n",
    "all_mae_histories = []\n",
    "for i in range(k):\n",
    "    print(f\"Processing fold #{i}\")\n",
    "    val_data = train_data[i * num_val_samples: (i + 1) * num_val_samples]\n",
    "    val_targets = train_targets[i * num_val_samples: (i + 1) * num_val_samples]\n",
    "    partial_train_data = np.concatenate(\n",
    "        [train_data[:i * num_val_samples],\n",
    "         train_data[(i + 1) * num_val_samples:]],\n",
    "        axis=0)\n",
    "    partial_train_targets = np.concatenate(\n",
    "        [train_targets[:i * num_val_samples],\n",
    "         train_targets[(i + 1) * num_val_samples:]],\n",
    "        axis=0)\n",
    "    model = build_model()\n",
    "    history = model.fit(partial_train_data, partial_train_targets,\n",
    "                        validation_data=(val_data, val_targets),\n",
    "                        epochs=num_epochs, batch_size=16, verbose=0)\n",
    "    mae_history = history.history[\"val_mae\"]\n",
    "    all_mae_histories.append(mae_history)"
   ]
  },
  {
   "cell_type": "markdown",
   "metadata": {
    "colab_type": "text"
   },
   "source": [
    "**Building the history of successive mean K-fold validation scores**"
   ]
  },
  {
   "cell_type": "code",
   "execution_count": 103,
   "metadata": {
    "colab_type": "code"
   },
   "outputs": [],
   "source": [
    "average_mae_history = [\n",
    "    np.mean([x[i] for x in all_mae_histories]) for i in range(num_epochs)]"
   ]
  },
  {
   "cell_type": "markdown",
   "metadata": {
    "colab_type": "text"
   },
   "source": [
    "**Plotting validation scores**"
   ]
  },
  {
   "cell_type": "code",
   "execution_count": 104,
   "metadata": {
    "colab_type": "code"
   },
   "outputs": [
    {
     "data": {
      "image/png": "[encoded data removed]",
      "text/plain": [
       "<Figure size 432x288 with 1 Axes>"
      ]
     },
     "metadata": {
      "needs_background": "light"
     },
     "output_type": "display_data"
    }
   ],
   "source": [
    "plt.plot(range(1, len(average_mae_history) + 1), average_mae_history)\n",
    "plt.xlabel(\"Epochs\")\n",
    "plt.ylabel(\"Validation MAE\")\n",
    "plt.show()"
   ]
  },
  {
   "cell_type": "markdown",
   "metadata": {},
   "source": [
    "It may be a little difficult to read the plot, due to a __scaling issue__: the validation MAE for the first few epochs is dramatically higher than the values that follow. \n",
    "\n",
    "Let’s omit the first 10 data points, which are on a different scale than the rest of the curve."
   ]
  },
  {
   "cell_type": "markdown",
   "metadata": {
    "colab_type": "text"
   },
   "source": [
    "**Plotting validation scores, excluding the first 10 data points**"
   ]
  },
  {
   "cell_type": "code",
   "execution_count": 105,
   "metadata": {
    "colab_type": "code"
   },
   "outputs": [
    {
     "data": {
      "image/png": "[encoded data removed]",
      "text/plain": [
       "<Figure size 432x288 with 1 Axes>"
      ]
     },
     "metadata": {
      "needs_background": "light"
     },
     "output_type": "display_data"
    }
   ],
   "source": [
    "truncated_mae_history = average_mae_history[10:]\n",
    "plt.plot(range(1, len(truncated_mae_history) + 1), truncated_mae_history)\n",
    "plt.xlabel(\"Epochs\")\n",
    "plt.ylabel(\"Validation MAE\")\n",
    "plt.show()"
   ]
  },
  {
   "cell_type": "markdown",
   "metadata": {},
   "source": [
    "Once you’re finished tuning other parameters of the model (in addition to the number of epochs, you could also adjust the size of the intermediate layers), you can train a final production model on all of the training data, with the best parameters, and then look at its performance on the test data."
   ]
  },
  {
   "cell_type": "markdown",
   "metadata": {
    "colab_type": "text"
   },
   "source": [
    "**Training the final model**"
   ]
  },
  {
   "cell_type": "code",
   "execution_count": 106,
   "metadata": {
    "colab_type": "code"
   },
   "outputs": [
    {
     "name": "stdout",
     "output_type": "stream",
     "text": [
      "4/4 [==============================] - 0s 1ms/step - loss: 12.6974 - mae: 2.4074\n"
     ]
    }
   ],
   "source": [
    "model = build_model()\n",
    "model.fit(train_data, train_targets,\n",
    "          epochs=130, batch_size=16, verbose=0)\n",
    "\n",
    "test_mse_score, test_mae_score = model.evaluate(test_data, test_targets)"
   ]
  },
  {
   "cell_type": "code",
   "execution_count": 107,
   "metadata": {
    "colab_type": "code"
   },
   "outputs": [
    {
     "data": {
      "text/plain": [
       "2.4073543548583984"
      ]
     },
     "execution_count": 107,
     "metadata": {},
     "output_type": "execute_result"
    }
   ],
   "source": [
    "test_mae_score"
   ]
  },
  {
   "cell_type": "markdown",
   "metadata": {
    "colab_type": "text"
   },
   "source": [
    "### Generating predictions on new data"
   ]
  },
  {
   "cell_type": "code",
   "execution_count": 108,
   "metadata": {
    "colab_type": "code"
   },
   "outputs": [
    {
     "data": {
      "text/plain": [
       "array([7.6138616], dtype=float32)"
      ]
     },
     "execution_count": 108,
     "metadata": {},
     "output_type": "execute_result"
    }
   ],
   "source": [
    "predictions = model.predict(test_data)\n",
    "predictions[0]"
   ]
  },
  {
   "cell_type": "markdown",
   "metadata": {
    "colab_type": "text"
   },
   "source": [
    "### Wrapping up"
   ]
  },
  {
   "cell_type": "markdown",
   "metadata": {},
   "source": [
    "* Regression is done using different loss functions than we used for classification. `Mean squared error` (MSE) is a loss function commonly used for regression.\n",
    "* Similarly, evaluation metrics to be used for regression differ from those used for classification; naturally, the concept of accuracy doesn’t apply for regression. A common regression metric is `mean absolute error` (MAE).\n",
    "* When features in the input data have values in different ranges, each feature should be scaled independently as a preprocessing step.\n",
    "* When there is little data available, using __K-fold validation__ is a great way to reliably evaluate a model.\n",
    "* When __little training data__ is available, it’s preferable to use a __small model with few intermediate layers__ (typically only one or two), in order to avoid severe overfitting."
   ]
  }
 ],
 "metadata": {
  "colab": {
   "collapsed_sections": [],
   "name": "chapter04_getting-started-with-neural-networks.i",
   "private_outputs": false,
   "provenance": [],
   "toc_visible": true
  },
  "kernelspec": {
   "display_name": "Python 3 (ipykernel)",
   "language": "python",
   "name": "python3"
  },
  "language_info": {
   "codemirror_mode": {
    "name": "ipython",
    "version": 3
   },
   "file_extension": ".py",
   "mimetype": "text/x-python",
   "name": "python",
   "nbconvert_exporter": "python",
   "pygments_lexer": "ipython3",
   "version": "3.9.7"
  }
 },
 "nbformat": 4,
 "nbformat_minor": 1
}
