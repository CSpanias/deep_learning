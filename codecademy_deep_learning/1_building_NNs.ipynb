{
 "cells": [
  {
   "cell_type": "markdown",
   "id": "6202e665",
   "metadata": {},
   "source": [
    "1. [Data Pre-Processing](#prepro)\n",
    "1. [NN Model](#model)"
   ]
  },
  {
   "cell_type": "markdown",
   "id": "977651a3",
   "metadata": {},
   "source": [
    "<a name=\"prepro\"></a>\n",
    "# Data Pre-Processing"
   ]
  },
  {
   "cell_type": "code",
   "execution_count": 1,
   "id": "ebf42ab1",
   "metadata": {},
   "outputs": [
    {
     "data": {
      "text/html": [
       "<div>\n",
       "<style scoped>\n",
       "    .dataframe tbody tr th:only-of-type {\n",
       "        vertical-align: middle;\n",
       "    }\n",
       "\n",
       "    .dataframe tbody tr th {\n",
       "        vertical-align: top;\n",
       "    }\n",
       "\n",
       "    .dataframe thead th {\n",
       "        text-align: right;\n",
       "    }\n",
       "</style>\n",
       "<table border=\"1\" class=\"dataframe\">\n",
       "  <thead>\n",
       "    <tr style=\"text-align: right;\">\n",
       "      <th></th>\n",
       "      <th>age</th>\n",
       "      <th>sex</th>\n",
       "      <th>bmi</th>\n",
       "      <th>children</th>\n",
       "      <th>smoker</th>\n",
       "      <th>region</th>\n",
       "      <th>charges</th>\n",
       "    </tr>\n",
       "  </thead>\n",
       "  <tbody>\n",
       "    <tr>\n",
       "      <th>0</th>\n",
       "      <td>19</td>\n",
       "      <td>female</td>\n",
       "      <td>27.900</td>\n",
       "      <td>0</td>\n",
       "      <td>yes</td>\n",
       "      <td>southwest</td>\n",
       "      <td>16884.92400</td>\n",
       "    </tr>\n",
       "    <tr>\n",
       "      <th>1</th>\n",
       "      <td>18</td>\n",
       "      <td>male</td>\n",
       "      <td>33.770</td>\n",
       "      <td>1</td>\n",
       "      <td>no</td>\n",
       "      <td>southeast</td>\n",
       "      <td>1725.55230</td>\n",
       "    </tr>\n",
       "    <tr>\n",
       "      <th>2</th>\n",
       "      <td>28</td>\n",
       "      <td>male</td>\n",
       "      <td>33.000</td>\n",
       "      <td>3</td>\n",
       "      <td>no</td>\n",
       "      <td>southeast</td>\n",
       "      <td>4449.46200</td>\n",
       "    </tr>\n",
       "    <tr>\n",
       "      <th>3</th>\n",
       "      <td>33</td>\n",
       "      <td>male</td>\n",
       "      <td>22.705</td>\n",
       "      <td>0</td>\n",
       "      <td>no</td>\n",
       "      <td>northwest</td>\n",
       "      <td>21984.47061</td>\n",
       "    </tr>\n",
       "    <tr>\n",
       "      <th>4</th>\n",
       "      <td>32</td>\n",
       "      <td>male</td>\n",
       "      <td>28.880</td>\n",
       "      <td>0</td>\n",
       "      <td>no</td>\n",
       "      <td>northwest</td>\n",
       "      <td>3866.85520</td>\n",
       "    </tr>\n",
       "  </tbody>\n",
       "</table>\n",
       "</div>"
      ],
      "text/plain": [
       "   age     sex     bmi  children smoker     region      charges\n",
       "0   19  female  27.900         0    yes  southwest  16884.92400\n",
       "1   18    male  33.770         1     no  southeast   1725.55230\n",
       "2   28    male  33.000         3     no  southeast   4449.46200\n",
       "3   33    male  22.705         0     no  northwest  21984.47061\n",
       "4   32    male  28.880         0     no  northwest   3866.85520"
      ]
     },
     "execution_count": 1,
     "metadata": {},
     "output_type": "execute_result"
    }
   ],
   "source": [
    "import pandas as pd \n",
    "\n",
    "df = pd.read_csv('insurance.csv')\n",
    "df.head()"
   ]
  },
  {
   "cell_type": "code",
   "execution_count": 2,
   "id": "c7865a90",
   "metadata": {},
   "outputs": [
    {
     "data": {
      "text/plain": [
       "((1338, 6), (1338,))"
      ]
     },
     "execution_count": 2,
     "metadata": {},
     "output_type": "execute_result"
    }
   ],
   "source": [
    "X = df.iloc[:, 0:6]\n",
    "y = df.iloc[:, -1]\n",
    "\n",
    "X.shape, y.shape"
   ]
  },
  {
   "cell_type": "code",
   "execution_count": 3,
   "id": "ca77d488",
   "metadata": {
    "scrolled": true
   },
   "outputs": [
    {
     "data": {
      "text/html": [
       "<div>\n",
       "<style scoped>\n",
       "    .dataframe tbody tr th:only-of-type {\n",
       "        vertical-align: middle;\n",
       "    }\n",
       "\n",
       "    .dataframe tbody tr th {\n",
       "        vertical-align: top;\n",
       "    }\n",
       "\n",
       "    .dataframe thead th {\n",
       "        text-align: right;\n",
       "    }\n",
       "</style>\n",
       "<table border=\"1\" class=\"dataframe\">\n",
       "  <thead>\n",
       "    <tr style=\"text-align: right;\">\n",
       "      <th></th>\n",
       "      <th>age</th>\n",
       "      <th>sex</th>\n",
       "      <th>bmi</th>\n",
       "      <th>children</th>\n",
       "      <th>smoker</th>\n",
       "      <th>region</th>\n",
       "    </tr>\n",
       "  </thead>\n",
       "  <tbody>\n",
       "    <tr>\n",
       "      <th>count</th>\n",
       "      <td>1338.000000</td>\n",
       "      <td>1338</td>\n",
       "      <td>1338.000000</td>\n",
       "      <td>1338.000000</td>\n",
       "      <td>1338</td>\n",
       "      <td>1338</td>\n",
       "    </tr>\n",
       "    <tr>\n",
       "      <th>unique</th>\n",
       "      <td>NaN</td>\n",
       "      <td>2</td>\n",
       "      <td>NaN</td>\n",
       "      <td>NaN</td>\n",
       "      <td>2</td>\n",
       "      <td>4</td>\n",
       "    </tr>\n",
       "    <tr>\n",
       "      <th>top</th>\n",
       "      <td>NaN</td>\n",
       "      <td>male</td>\n",
       "      <td>NaN</td>\n",
       "      <td>NaN</td>\n",
       "      <td>no</td>\n",
       "      <td>southeast</td>\n",
       "    </tr>\n",
       "    <tr>\n",
       "      <th>freq</th>\n",
       "      <td>NaN</td>\n",
       "      <td>676</td>\n",
       "      <td>NaN</td>\n",
       "      <td>NaN</td>\n",
       "      <td>1064</td>\n",
       "      <td>364</td>\n",
       "    </tr>\n",
       "    <tr>\n",
       "      <th>mean</th>\n",
       "      <td>39.207025</td>\n",
       "      <td>NaN</td>\n",
       "      <td>30.663397</td>\n",
       "      <td>1.094918</td>\n",
       "      <td>NaN</td>\n",
       "      <td>NaN</td>\n",
       "    </tr>\n",
       "    <tr>\n",
       "      <th>std</th>\n",
       "      <td>14.049960</td>\n",
       "      <td>NaN</td>\n",
       "      <td>6.098187</td>\n",
       "      <td>1.205493</td>\n",
       "      <td>NaN</td>\n",
       "      <td>NaN</td>\n",
       "    </tr>\n",
       "    <tr>\n",
       "      <th>min</th>\n",
       "      <td>18.000000</td>\n",
       "      <td>NaN</td>\n",
       "      <td>15.960000</td>\n",
       "      <td>0.000000</td>\n",
       "      <td>NaN</td>\n",
       "      <td>NaN</td>\n",
       "    </tr>\n",
       "    <tr>\n",
       "      <th>25%</th>\n",
       "      <td>27.000000</td>\n",
       "      <td>NaN</td>\n",
       "      <td>26.296250</td>\n",
       "      <td>0.000000</td>\n",
       "      <td>NaN</td>\n",
       "      <td>NaN</td>\n",
       "    </tr>\n",
       "    <tr>\n",
       "      <th>50%</th>\n",
       "      <td>39.000000</td>\n",
       "      <td>NaN</td>\n",
       "      <td>30.400000</td>\n",
       "      <td>1.000000</td>\n",
       "      <td>NaN</td>\n",
       "      <td>NaN</td>\n",
       "    </tr>\n",
       "    <tr>\n",
       "      <th>75%</th>\n",
       "      <td>51.000000</td>\n",
       "      <td>NaN</td>\n",
       "      <td>34.693750</td>\n",
       "      <td>2.000000</td>\n",
       "      <td>NaN</td>\n",
       "      <td>NaN</td>\n",
       "    </tr>\n",
       "    <tr>\n",
       "      <th>max</th>\n",
       "      <td>64.000000</td>\n",
       "      <td>NaN</td>\n",
       "      <td>53.130000</td>\n",
       "      <td>5.000000</td>\n",
       "      <td>NaN</td>\n",
       "      <td>NaN</td>\n",
       "    </tr>\n",
       "  </tbody>\n",
       "</table>\n",
       "</div>"
      ],
      "text/plain": [
       "                age   sex          bmi     children smoker     region\n",
       "count   1338.000000  1338  1338.000000  1338.000000   1338       1338\n",
       "unique          NaN     2          NaN          NaN      2          4\n",
       "top             NaN  male          NaN          NaN     no  southeast\n",
       "freq            NaN   676          NaN          NaN   1064        364\n",
       "mean      39.207025   NaN    30.663397     1.094918    NaN        NaN\n",
       "std       14.049960   NaN     6.098187     1.205493    NaN        NaN\n",
       "min       18.000000   NaN    15.960000     0.000000    NaN        NaN\n",
       "25%       27.000000   NaN    26.296250     0.000000    NaN        NaN\n",
       "50%       39.000000   NaN    30.400000     1.000000    NaN        NaN\n",
       "75%       51.000000   NaN    34.693750     2.000000    NaN        NaN\n",
       "max       64.000000   NaN    53.130000     5.000000    NaN        NaN"
      ]
     },
     "execution_count": 3,
     "metadata": {},
     "output_type": "execute_result"
    }
   ],
   "source": [
    "X.describe(include='all')"
   ]
  },
  {
   "cell_type": "markdown",
   "id": "ecb14d3b",
   "metadata": {},
   "source": [
    "Since __NNs cannot work with string data directly__, we need to convert our categorical features into numerical."
   ]
  },
  {
   "cell_type": "code",
   "execution_count": 4,
   "id": "7afb6f23",
   "metadata": {
    "scrolled": true
   },
   "outputs": [
    {
     "data": {
      "text/html": [
       "<div>\n",
       "<style scoped>\n",
       "    .dataframe tbody tr th:only-of-type {\n",
       "        vertical-align: middle;\n",
       "    }\n",
       "\n",
       "    .dataframe tbody tr th {\n",
       "        vertical-align: top;\n",
       "    }\n",
       "\n",
       "    .dataframe thead th {\n",
       "        text-align: right;\n",
       "    }\n",
       "</style>\n",
       "<table border=\"1\" class=\"dataframe\">\n",
       "  <thead>\n",
       "    <tr style=\"text-align: right;\">\n",
       "      <th></th>\n",
       "      <th>age</th>\n",
       "      <th>bmi</th>\n",
       "      <th>children</th>\n",
       "      <th>sex_female</th>\n",
       "      <th>sex_male</th>\n",
       "      <th>smoker_no</th>\n",
       "      <th>smoker_yes</th>\n",
       "      <th>region_northeast</th>\n",
       "      <th>region_northwest</th>\n",
       "      <th>region_southeast</th>\n",
       "      <th>region_southwest</th>\n",
       "    </tr>\n",
       "  </thead>\n",
       "  <tbody>\n",
       "    <tr>\n",
       "      <th>0</th>\n",
       "      <td>19</td>\n",
       "      <td>27.900</td>\n",
       "      <td>0</td>\n",
       "      <td>1</td>\n",
       "      <td>0</td>\n",
       "      <td>0</td>\n",
       "      <td>1</td>\n",
       "      <td>0</td>\n",
       "      <td>0</td>\n",
       "      <td>0</td>\n",
       "      <td>1</td>\n",
       "    </tr>\n",
       "    <tr>\n",
       "      <th>1</th>\n",
       "      <td>18</td>\n",
       "      <td>33.770</td>\n",
       "      <td>1</td>\n",
       "      <td>0</td>\n",
       "      <td>1</td>\n",
       "      <td>1</td>\n",
       "      <td>0</td>\n",
       "      <td>0</td>\n",
       "      <td>0</td>\n",
       "      <td>1</td>\n",
       "      <td>0</td>\n",
       "    </tr>\n",
       "    <tr>\n",
       "      <th>2</th>\n",
       "      <td>28</td>\n",
       "      <td>33.000</td>\n",
       "      <td>3</td>\n",
       "      <td>0</td>\n",
       "      <td>1</td>\n",
       "      <td>1</td>\n",
       "      <td>0</td>\n",
       "      <td>0</td>\n",
       "      <td>0</td>\n",
       "      <td>1</td>\n",
       "      <td>0</td>\n",
       "    </tr>\n",
       "    <tr>\n",
       "      <th>3</th>\n",
       "      <td>33</td>\n",
       "      <td>22.705</td>\n",
       "      <td>0</td>\n",
       "      <td>0</td>\n",
       "      <td>1</td>\n",
       "      <td>1</td>\n",
       "      <td>0</td>\n",
       "      <td>0</td>\n",
       "      <td>1</td>\n",
       "      <td>0</td>\n",
       "      <td>0</td>\n",
       "    </tr>\n",
       "    <tr>\n",
       "      <th>4</th>\n",
       "      <td>32</td>\n",
       "      <td>28.880</td>\n",
       "      <td>0</td>\n",
       "      <td>0</td>\n",
       "      <td>1</td>\n",
       "      <td>1</td>\n",
       "      <td>0</td>\n",
       "      <td>0</td>\n",
       "      <td>1</td>\n",
       "      <td>0</td>\n",
       "      <td>0</td>\n",
       "    </tr>\n",
       "  </tbody>\n",
       "</table>\n",
       "</div>"
      ],
      "text/plain": [
       "   age     bmi  children  sex_female  sex_male  smoker_no  smoker_yes  \\\n",
       "0   19  27.900         0           1         0          0           1   \n",
       "1   18  33.770         1           0         1          1           0   \n",
       "2   28  33.000         3           0         1          1           0   \n",
       "3   33  22.705         0           0         1          1           0   \n",
       "4   32  28.880         0           0         1          1           0   \n",
       "\n",
       "   region_northeast  region_northwest  region_southeast  region_southwest  \n",
       "0                 0                 0                 0                 1  \n",
       "1                 0                 0                 1                 0  \n",
       "2                 0                 0                 1                 0  \n",
       "3                 0                 1                 0                 0  \n",
       "4                 0                 1                 0                 0  "
      ]
     },
     "execution_count": 4,
     "metadata": {},
     "output_type": "execute_result"
    }
   ],
   "source": [
    "X = pd.get_dummies(X)\n",
    "X.head()"
   ]
  },
  {
   "cell_type": "code",
   "execution_count": 5,
   "id": "c7e6a82d",
   "metadata": {},
   "outputs": [],
   "source": [
    "from sklearn.model_selection import train_test_split\n",
    "\n",
    "X_train, X_test, y_train, y_test = train_test_split(X, y, test_size=0.33, random_state=42)"
   ]
  },
  {
   "cell_type": "code",
   "execution_count": 6,
   "id": "651eaac3",
   "metadata": {},
   "outputs": [
    {
     "data": {
      "text/plain": [
       "((896, 11), (442, 11))"
      ]
     },
     "execution_count": 6,
     "metadata": {},
     "output_type": "execute_result"
    }
   ],
   "source": [
    "X_train.shape, X_test.shape"
   ]
  },
  {
   "cell_type": "code",
   "execution_count": 7,
   "id": "1deb816f",
   "metadata": {},
   "outputs": [
    {
     "data": {
      "text/plain": [
       "((896,), (442,))"
      ]
     },
     "execution_count": 7,
     "metadata": {},
     "output_type": "execute_result"
    }
   ],
   "source": [
    "y_train.shape, y_test.shape"
   ]
  },
  {
   "cell_type": "markdown",
   "id": "53f85214",
   "metadata": {},
   "source": [
    "The usual preprocessing step for numerical variables, among others, is __standardization__ that rescales features to zero mean and unit variance. \n",
    "\n",
    "__Normalization__ is another way of preprocessing numerical data: it scales the numerical features to a fixed range - usually between 0 and 1."
   ]
  },
  {
   "cell_type": "code",
   "execution_count": 8,
   "id": "3d9c83e9",
   "metadata": {},
   "outputs": [],
   "source": [
    "from sklearn.preprocessing import Normalizer\n",
    "from sklearn.compose import ColumnTransformer\n",
    "\n",
    "ct = ColumnTransformer([('normalize', Normalizer(), ['age', 'bmi', 'children'])], remainder='passthrough')\n",
    "\n",
    "X_train_norm = ct.fit_transform(X_train)\n",
    "X_test_norm = ct.transform(X_test)"
   ]
  },
  {
   "cell_type": "markdown",
   "id": "58d5fc26",
   "metadata": {},
   "source": [
    "The name of the column transformer is “only numeric”, it applies a `Normalizer()` to the `age`, `bmi`, and `children` columns, and for the rest of the columns it just passes through. `ColumnTransformer()` returns NumPy arrays."
   ]
  },
  {
   "cell_type": "code",
   "execution_count": 9,
   "id": "8c9a44f2",
   "metadata": {
    "scrolled": true
   },
   "outputs": [
    {
     "data": {
      "text/html": [
       "<div>\n",
       "<style scoped>\n",
       "    .dataframe tbody tr th:only-of-type {\n",
       "        vertical-align: middle;\n",
       "    }\n",
       "\n",
       "    .dataframe tbody tr th {\n",
       "        vertical-align: top;\n",
       "    }\n",
       "\n",
       "    .dataframe thead th {\n",
       "        text-align: right;\n",
       "    }\n",
       "</style>\n",
       "<table border=\"1\" class=\"dataframe\">\n",
       "  <thead>\n",
       "    <tr style=\"text-align: right;\">\n",
       "      <th></th>\n",
       "      <th>age</th>\n",
       "      <th>bmi</th>\n",
       "      <th>children</th>\n",
       "      <th>sex_female</th>\n",
       "      <th>sex_male</th>\n",
       "      <th>smoker_no</th>\n",
       "      <th>smoker_yes</th>\n",
       "      <th>region_northeast</th>\n",
       "      <th>region_northwest</th>\n",
       "      <th>region_southeast</th>\n",
       "      <th>region_southwest</th>\n",
       "    </tr>\n",
       "  </thead>\n",
       "  <tbody>\n",
       "    <tr>\n",
       "      <th>0</th>\n",
       "      <td>0.863808</td>\n",
       "      <td>0.503821</td>\n",
       "      <td>0.000000</td>\n",
       "      <td>1.0</td>\n",
       "      <td>0.0</td>\n",
       "      <td>1.0</td>\n",
       "      <td>0.0</td>\n",
       "      <td>1.0</td>\n",
       "      <td>0.0</td>\n",
       "      <td>0.0</td>\n",
       "      <td>0.0</td>\n",
       "    </tr>\n",
       "    <tr>\n",
       "      <th>1</th>\n",
       "      <td>0.740865</td>\n",
       "      <td>0.670578</td>\n",
       "      <td>0.037993</td>\n",
       "      <td>0.0</td>\n",
       "      <td>1.0</td>\n",
       "      <td>0.0</td>\n",
       "      <td>1.0</td>\n",
       "      <td>0.0</td>\n",
       "      <td>0.0</td>\n",
       "      <td>0.0</td>\n",
       "      <td>1.0</td>\n",
       "    </tr>\n",
       "    <tr>\n",
       "      <th>2</th>\n",
       "      <td>0.827684</td>\n",
       "      <td>0.560894</td>\n",
       "      <td>0.018393</td>\n",
       "      <td>1.0</td>\n",
       "      <td>0.0</td>\n",
       "      <td>0.0</td>\n",
       "      <td>1.0</td>\n",
       "      <td>0.0</td>\n",
       "      <td>1.0</td>\n",
       "      <td>0.0</td>\n",
       "      <td>0.0</td>\n",
       "    </tr>\n",
       "    <tr>\n",
       "      <th>3</th>\n",
       "      <td>0.500102</td>\n",
       "      <td>0.865966</td>\n",
       "      <td>0.000000</td>\n",
       "      <td>1.0</td>\n",
       "      <td>0.0</td>\n",
       "      <td>1.0</td>\n",
       "      <td>0.0</td>\n",
       "      <td>0.0</td>\n",
       "      <td>0.0</td>\n",
       "      <td>0.0</td>\n",
       "      <td>1.0</td>\n",
       "    </tr>\n",
       "    <tr>\n",
       "      <th>4</th>\n",
       "      <td>0.832690</td>\n",
       "      <td>0.553739</td>\n",
       "      <td>0.000000</td>\n",
       "      <td>0.0</td>\n",
       "      <td>1.0</td>\n",
       "      <td>0.0</td>\n",
       "      <td>1.0</td>\n",
       "      <td>0.0</td>\n",
       "      <td>0.0</td>\n",
       "      <td>0.0</td>\n",
       "      <td>1.0</td>\n",
       "    </tr>\n",
       "  </tbody>\n",
       "</table>\n",
       "</div>"
      ],
      "text/plain": [
       "        age       bmi  children  sex_female  sex_male  smoker_no  smoker_yes  \\\n",
       "0  0.863808  0.503821  0.000000         1.0       0.0        1.0         0.0   \n",
       "1  0.740865  0.670578  0.037993         0.0       1.0        0.0         1.0   \n",
       "2  0.827684  0.560894  0.018393         1.0       0.0        0.0         1.0   \n",
       "3  0.500102  0.865966  0.000000         1.0       0.0        1.0         0.0   \n",
       "4  0.832690  0.553739  0.000000         0.0       1.0        0.0         1.0   \n",
       "\n",
       "   region_northeast  region_northwest  region_southeast  region_southwest  \n",
       "0               1.0               0.0               0.0               0.0  \n",
       "1               0.0               0.0               0.0               1.0  \n",
       "2               0.0               1.0               0.0               0.0  \n",
       "3               0.0               0.0               0.0               1.0  \n",
       "4               0.0               0.0               0.0               1.0  "
      ]
     },
     "execution_count": 9,
     "metadata": {},
     "output_type": "execute_result"
    }
   ],
   "source": [
    "X_train_norm = pd.DataFrame(X_train_norm, columns = X_train.columns)\n",
    "X_train_norm.head()"
   ]
  },
  {
   "cell_type": "code",
   "execution_count": 10,
   "id": "c8a3bb3c",
   "metadata": {
    "scrolled": false
   },
   "outputs": [
    {
     "data": {
      "text/html": [
       "<div>\n",
       "<style scoped>\n",
       "    .dataframe tbody tr th:only-of-type {\n",
       "        vertical-align: middle;\n",
       "    }\n",
       "\n",
       "    .dataframe tbody tr th {\n",
       "        vertical-align: top;\n",
       "    }\n",
       "\n",
       "    .dataframe thead th {\n",
       "        text-align: right;\n",
       "    }\n",
       "</style>\n",
       "<table border=\"1\" class=\"dataframe\">\n",
       "  <thead>\n",
       "    <tr style=\"text-align: right;\">\n",
       "      <th></th>\n",
       "      <th>age</th>\n",
       "      <th>bmi</th>\n",
       "      <th>children</th>\n",
       "      <th>sex_female</th>\n",
       "      <th>sex_male</th>\n",
       "      <th>smoker_no</th>\n",
       "      <th>smoker_yes</th>\n",
       "      <th>region_northeast</th>\n",
       "      <th>region_northwest</th>\n",
       "      <th>region_southeast</th>\n",
       "      <th>region_southwest</th>\n",
       "    </tr>\n",
       "  </thead>\n",
       "  <tbody>\n",
       "    <tr>\n",
       "      <th>0</th>\n",
       "      <td>0.863808</td>\n",
       "      <td>0.503821</td>\n",
       "      <td>0.000000</td>\n",
       "      <td>1.0</td>\n",
       "      <td>0.0</td>\n",
       "      <td>1.0</td>\n",
       "      <td>0.0</td>\n",
       "      <td>1.0</td>\n",
       "      <td>0.0</td>\n",
       "      <td>0.0</td>\n",
       "      <td>0.0</td>\n",
       "    </tr>\n",
       "    <tr>\n",
       "      <th>1</th>\n",
       "      <td>0.740865</td>\n",
       "      <td>0.670578</td>\n",
       "      <td>0.037993</td>\n",
       "      <td>0.0</td>\n",
       "      <td>1.0</td>\n",
       "      <td>0.0</td>\n",
       "      <td>1.0</td>\n",
       "      <td>0.0</td>\n",
       "      <td>0.0</td>\n",
       "      <td>0.0</td>\n",
       "      <td>1.0</td>\n",
       "    </tr>\n",
       "    <tr>\n",
       "      <th>2</th>\n",
       "      <td>0.827684</td>\n",
       "      <td>0.560894</td>\n",
       "      <td>0.018393</td>\n",
       "      <td>1.0</td>\n",
       "      <td>0.0</td>\n",
       "      <td>0.0</td>\n",
       "      <td>1.0</td>\n",
       "      <td>0.0</td>\n",
       "      <td>1.0</td>\n",
       "      <td>0.0</td>\n",
       "      <td>0.0</td>\n",
       "    </tr>\n",
       "    <tr>\n",
       "      <th>3</th>\n",
       "      <td>0.500102</td>\n",
       "      <td>0.865966</td>\n",
       "      <td>0.000000</td>\n",
       "      <td>1.0</td>\n",
       "      <td>0.0</td>\n",
       "      <td>1.0</td>\n",
       "      <td>0.0</td>\n",
       "      <td>0.0</td>\n",
       "      <td>0.0</td>\n",
       "      <td>0.0</td>\n",
       "      <td>1.0</td>\n",
       "    </tr>\n",
       "    <tr>\n",
       "      <th>4</th>\n",
       "      <td>0.832690</td>\n",
       "      <td>0.553739</td>\n",
       "      <td>0.000000</td>\n",
       "      <td>0.0</td>\n",
       "      <td>1.0</td>\n",
       "      <td>0.0</td>\n",
       "      <td>1.0</td>\n",
       "      <td>0.0</td>\n",
       "      <td>0.0</td>\n",
       "      <td>0.0</td>\n",
       "      <td>1.0</td>\n",
       "    </tr>\n",
       "  </tbody>\n",
       "</table>\n",
       "</div>"
      ],
      "text/plain": [
       "        age       bmi  children  sex_female  sex_male  smoker_no  smoker_yes  \\\n",
       "0  0.863808  0.503821  0.000000         1.0       0.0        1.0         0.0   \n",
       "1  0.740865  0.670578  0.037993         0.0       1.0        0.0         1.0   \n",
       "2  0.827684  0.560894  0.018393         1.0       0.0        0.0         1.0   \n",
       "3  0.500102  0.865966  0.000000         1.0       0.0        1.0         0.0   \n",
       "4  0.832690  0.553739  0.000000         0.0       1.0        0.0         1.0   \n",
       "\n",
       "   region_northeast  region_northwest  region_southeast  region_southwest  \n",
       "0               1.0               0.0               0.0               0.0  \n",
       "1               0.0               0.0               0.0               1.0  \n",
       "2               0.0               1.0               0.0               0.0  \n",
       "3               0.0               0.0               0.0               1.0  \n",
       "4               0.0               0.0               0.0               1.0  "
      ]
     },
     "execution_count": 10,
     "metadata": {},
     "output_type": "execute_result"
    }
   ],
   "source": [
    "from sklearn.preprocessing import StandardScaler\n",
    "\n",
    "my_ct = ColumnTransformer([('scale', StandardScaler(), ['age', 'bmi', 'children'])], remainder='passthrough')\n",
    "X_train_scaled = ct.fit_transform(X_train)\n",
    "X_test_scaled = ct.transform(X_test)\n",
    "\n",
    "X_train_scaled = pd.DataFrame(X_train_scaled, columns = X_train.columns)\n",
    "X_train_scaled.head()"
   ]
  },
  {
   "cell_type": "code",
   "execution_count": 11,
   "id": "46ed42cb",
   "metadata": {},
   "outputs": [
    {
     "data": {
      "text/plain": [
       "(896, 11)"
      ]
     },
     "execution_count": 11,
     "metadata": {},
     "output_type": "execute_result"
    }
   ],
   "source": [
    "X_train_scaled.shape"
   ]
  },
  {
   "cell_type": "code",
   "execution_count": 12,
   "id": "e91b4fb3",
   "metadata": {
    "scrolled": true
   },
   "outputs": [
    {
     "data": {
      "text/html": [
       "<div>\n",
       "<style scoped>\n",
       "    .dataframe tbody tr th:only-of-type {\n",
       "        vertical-align: middle;\n",
       "    }\n",
       "\n",
       "    .dataframe tbody tr th {\n",
       "        vertical-align: top;\n",
       "    }\n",
       "\n",
       "    .dataframe thead th {\n",
       "        text-align: right;\n",
       "    }\n",
       "</style>\n",
       "<table border=\"1\" class=\"dataframe\">\n",
       "  <thead>\n",
       "    <tr style=\"text-align: right;\">\n",
       "      <th></th>\n",
       "      <th>age</th>\n",
       "      <th>bmi</th>\n",
       "      <th>children</th>\n",
       "      <th>sex_female</th>\n",
       "      <th>sex_male</th>\n",
       "      <th>smoker_no</th>\n",
       "      <th>smoker_yes</th>\n",
       "      <th>region_northeast</th>\n",
       "      <th>region_northwest</th>\n",
       "      <th>region_southeast</th>\n",
       "      <th>region_southwest</th>\n",
       "    </tr>\n",
       "  </thead>\n",
       "  <tbody>\n",
       "    <tr>\n",
       "      <th>count</th>\n",
       "      <td>896.000000</td>\n",
       "      <td>896.000000</td>\n",
       "      <td>896.000000</td>\n",
       "      <td>896.000000</td>\n",
       "      <td>896.000000</td>\n",
       "      <td>896.000000</td>\n",
       "      <td>896.000000</td>\n",
       "      <td>896.000000</td>\n",
       "      <td>896.000000</td>\n",
       "      <td>896.000000</td>\n",
       "      <td>896.000000</td>\n",
       "    </tr>\n",
       "    <tr>\n",
       "      <th>mean</th>\n",
       "      <td>0.754101</td>\n",
       "      <td>0.625607</td>\n",
       "      <td>0.022390</td>\n",
       "      <td>0.487723</td>\n",
       "      <td>0.512277</td>\n",
       "      <td>0.790179</td>\n",
       "      <td>0.209821</td>\n",
       "      <td>0.256696</td>\n",
       "      <td>0.252232</td>\n",
       "      <td>0.255580</td>\n",
       "      <td>0.235491</td>\n",
       "    </tr>\n",
       "    <tr>\n",
       "      <th>std</th>\n",
       "      <td>0.133154</td>\n",
       "      <td>0.145262</td>\n",
       "      <td>0.025673</td>\n",
       "      <td>0.500128</td>\n",
       "      <td>0.500128</td>\n",
       "      <td>0.407408</td>\n",
       "      <td>0.407408</td>\n",
       "      <td>0.437054</td>\n",
       "      <td>0.434536</td>\n",
       "      <td>0.436431</td>\n",
       "      <td>0.424542</td>\n",
       "    </tr>\n",
       "    <tr>\n",
       "      <th>min</th>\n",
       "      <td>0.320877</td>\n",
       "      <td>0.306215</td>\n",
       "      <td>0.000000</td>\n",
       "      <td>0.000000</td>\n",
       "      <td>0.000000</td>\n",
       "      <td>0.000000</td>\n",
       "      <td>0.000000</td>\n",
       "      <td>0.000000</td>\n",
       "      <td>0.000000</td>\n",
       "      <td>0.000000</td>\n",
       "      <td>0.000000</td>\n",
       "    </tr>\n",
       "    <tr>\n",
       "      <th>25%</th>\n",
       "      <td>0.661468</td>\n",
       "      <td>0.510737</td>\n",
       "      <td>0.000000</td>\n",
       "      <td>0.000000</td>\n",
       "      <td>0.000000</td>\n",
       "      <td>1.000000</td>\n",
       "      <td>0.000000</td>\n",
       "      <td>0.000000</td>\n",
       "      <td>0.000000</td>\n",
       "      <td>0.000000</td>\n",
       "      <td>0.000000</td>\n",
       "    </tr>\n",
       "    <tr>\n",
       "      <th>50%</th>\n",
       "      <td>0.795743</td>\n",
       "      <td>0.602983</td>\n",
       "      <td>0.017518</td>\n",
       "      <td>0.000000</td>\n",
       "      <td>1.000000</td>\n",
       "      <td>1.000000</td>\n",
       "      <td>0.000000</td>\n",
       "      <td>0.000000</td>\n",
       "      <td>0.000000</td>\n",
       "      <td>0.000000</td>\n",
       "      <td>0.000000</td>\n",
       "    </tr>\n",
       "    <tr>\n",
       "      <th>75%</th>\n",
       "      <td>0.859321</td>\n",
       "      <td>0.748948</td>\n",
       "      <td>0.038561</td>\n",
       "      <td>1.000000</td>\n",
       "      <td>1.000000</td>\n",
       "      <td>1.000000</td>\n",
       "      <td>0.000000</td>\n",
       "      <td>1.000000</td>\n",
       "      <td>1.000000</td>\n",
       "      <td>1.000000</td>\n",
       "      <td>0.000000</td>\n",
       "    </tr>\n",
       "    <tr>\n",
       "      <th>max</th>\n",
       "      <td>0.951963</td>\n",
       "      <td>0.947121</td>\n",
       "      <td>0.133655</td>\n",
       "      <td>1.000000</td>\n",
       "      <td>1.000000</td>\n",
       "      <td>1.000000</td>\n",
       "      <td>1.000000</td>\n",
       "      <td>1.000000</td>\n",
       "      <td>1.000000</td>\n",
       "      <td>1.000000</td>\n",
       "      <td>1.000000</td>\n",
       "    </tr>\n",
       "  </tbody>\n",
       "</table>\n",
       "</div>"
      ],
      "text/plain": [
       "              age         bmi    children  sex_female    sex_male   smoker_no  \\\n",
       "count  896.000000  896.000000  896.000000  896.000000  896.000000  896.000000   \n",
       "mean     0.754101    0.625607    0.022390    0.487723    0.512277    0.790179   \n",
       "std      0.133154    0.145262    0.025673    0.500128    0.500128    0.407408   \n",
       "min      0.320877    0.306215    0.000000    0.000000    0.000000    0.000000   \n",
       "25%      0.661468    0.510737    0.000000    0.000000    0.000000    1.000000   \n",
       "50%      0.795743    0.602983    0.017518    0.000000    1.000000    1.000000   \n",
       "75%      0.859321    0.748948    0.038561    1.000000    1.000000    1.000000   \n",
       "max      0.951963    0.947121    0.133655    1.000000    1.000000    1.000000   \n",
       "\n",
       "       smoker_yes  region_northeast  region_northwest  region_southeast  \\\n",
       "count  896.000000        896.000000        896.000000        896.000000   \n",
       "mean     0.209821          0.256696          0.252232          0.255580   \n",
       "std      0.407408          0.437054          0.434536          0.436431   \n",
       "min      0.000000          0.000000          0.000000          0.000000   \n",
       "25%      0.000000          0.000000          0.000000          0.000000   \n",
       "50%      0.000000          0.000000          0.000000          0.000000   \n",
       "75%      0.000000          1.000000          1.000000          1.000000   \n",
       "max      1.000000          1.000000          1.000000          1.000000   \n",
       "\n",
       "       region_southwest  \n",
       "count        896.000000  \n",
       "mean           0.235491  \n",
       "std            0.424542  \n",
       "min            0.000000  \n",
       "25%            0.000000  \n",
       "50%            0.000000  \n",
       "75%            0.000000  \n",
       "max            1.000000  "
      ]
     },
     "execution_count": 12,
     "metadata": {},
     "output_type": "execute_result"
    }
   ],
   "source": [
    "X_train_scaled.describe()"
   ]
  },
  {
   "cell_type": "markdown",
   "id": "97cdfdf3",
   "metadata": {},
   "source": [
    "<a name=\"model\"></a>\n",
    "# 2. NN Model\n",
    "1. [Input Layer](#input)\n",
    "1. [Hidden Layers](#hidden)\n",
    "1. [Output Layer](#output)\n",
    "1. [Optimizers](#opt)\n",
    "1. [Training & Evaluating](#train)"
   ]
  },
  {
   "cell_type": "code",
   "execution_count": 13,
   "id": "3a297dcf",
   "metadata": {},
   "outputs": [
    {
     "data": {
      "text/plain": [
       "[]"
      ]
     },
     "execution_count": 13,
     "metadata": {},
     "output_type": "execute_result"
    }
   ],
   "source": [
    "from tensorflow.keras.models import Sequential\n",
    "\n",
    "# instantiate model\n",
    "model = Sequential(name='my_model')\n",
    "# check layers\n",
    "model.layers"
   ]
  },
  {
   "cell_type": "markdown",
   "id": "4561372b",
   "metadata": {},
   "source": [
    "A __fully-connected layer__ in which __all neurons connect to all neurons__ in the next layer."
   ]
  },
  {
   "cell_type": "markdown",
   "id": "0dd2c4f8",
   "metadata": {},
   "source": [
    "<a name='input'></a>\n",
    "## 2.1 Input Layer"
   ]
  },
  {
   "cell_type": "markdown",
   "id": "0c135802",
   "metadata": {},
   "source": [
    "Pay attention to the dimensions of the __weight__ and __bias__ parameter matrices. Since we chose to create a layer with three neurons, the number of outputs of this layer is 3. Hence, the bias parameter would be a vector of `(3, 1)` dimension.\n",
    "\n",
    "![](http://content.codecademy.com/courses/deeplearning-with-tensorflow/implementing-neural-networks/layers_diagram.svg)"
   ]
  },
  {
   "cell_type": "code",
   "execution_count": 14,
   "id": "07d3de66",
   "metadata": {},
   "outputs": [
    {
     "data": {
      "text/plain": [
       "(1338, 11)"
      ]
     },
     "execution_count": 14,
     "metadata": {},
     "output_type": "execute_result"
    }
   ],
   "source": [
    "X.shape"
   ]
  },
  {
   "cell_type": "code",
   "execution_count": 15,
   "id": "30816737",
   "metadata": {
    "scrolled": true
   },
   "outputs": [
    {
     "name": "stdout",
     "output_type": "stream",
     "text": [
      "Model: \"my_model\"\n",
      "_________________________________________________________________\n",
      " Layer (type)                Output Shape              Param #   \n",
      "=================================================================\n",
      "=================================================================\n",
      "Total params: 0\n",
      "Trainable params: 0\n",
      "Non-trainable params: 0\n",
      "_________________________________________________________________\n"
     ]
    }
   ],
   "source": [
    "from tensorflow.keras.layers import InputLayer\n",
    "import tensorflow as tf\n",
    "\n",
    "input_layer = InputLayer(input_shape=(X.shape[1], ))\n",
    "\n",
    "model.add(input_layer)\n",
    "model.summary()"
   ]
  },
  {
   "cell_type": "markdown",
   "id": "cdb60024",
   "metadata": {},
   "source": [
    "<a name='hidden'></a>\n",
    "## 2.2 Hidden Layers"
   ]
  },
  {
   "cell_type": "markdown",
   "id": "3f1314ed",
   "metadata": {},
   "source": [
    "__Adding more layers__ to a NN naturally __increases the number of parameters__ to be tuned. With every layer, there are associated weight and bias vectors.\n",
    "\n",
    "In following diagram below we show the size of parameter vectors with each layer. In our case, the __1st layer__’s weight matrix (red) has shape `(11, 64)` because we feed __11 features__ to __64 hidden neurons__. \n",
    "\n",
    "The __output layer__ (purple) has the weight matrix of shape `(64, 1)` because we have __64 input units__ and __1 neuron__ in the final layer.\n",
    "\n",
    "![](http://content.codecademy.com/courses/deeplearning-with-tensorflow/implementing-neural-networks/hidden_layers_diagram.svg)"
   ]
  },
  {
   "cell_type": "code",
   "execution_count": 17,
   "id": "86a70b2e",
   "metadata": {},
   "outputs": [
    {
     "name": "stdout",
     "output_type": "stream",
     "text": [
      "Model: \"my_model\"\n",
      "_________________________________________________________________\n",
      " Layer (type)                Output Shape              Param #   \n",
      "=================================================================\n",
      " dense (Dense)               (None, 128)               1536      \n",
      "                                                                 \n",
      "=================================================================\n",
      "Total params: 1,536\n",
      "Trainable params: 1,536\n",
      "Non-trainable params: 0\n",
      "_________________________________________________________________\n"
     ]
    }
   ],
   "source": [
    "from tensorflow.keras.layers import Dense\n",
    "\n",
    "model.add(Dense(128, activation='relu'))\n",
    "model.summary()"
   ]
  },
  {
   "cell_type": "markdown",
   "id": "a4447570",
   "metadata": {},
   "source": [
    "<a name='output'></a>\n",
    "## 2.3 Output Layer"
   ]
  },
  {
   "cell_type": "markdown",
   "id": "14fb3ac3",
   "metadata": {},
   "source": [
    "The output layer shape depends on your task. In the case of regression, we need __one output for each sample__.\n",
    "\n",
    "In our case, we are doing regression and wish to predict one number for each data point: the medical cost billed by health insurance indicated in the charges column in our data. Hence, our output layer has only __one neuron__.\n",
    "\n",
    "Notice that you __don’t need to specify the input shape of this layer__ since Tensorflow with Keras can __automatically infer its shape from the previous layer__."
   ]
  },
  {
   "cell_type": "code",
   "execution_count": 18,
   "id": "aefb0fc7",
   "metadata": {
    "scrolled": false
   },
   "outputs": [
    {
     "name": "stdout",
     "output_type": "stream",
     "text": [
      "Model: \"my_model\"\n",
      "_________________________________________________________________\n",
      " Layer (type)                Output Shape              Param #   \n",
      "=================================================================\n",
      " dense (Dense)               (None, 128)               1536      \n",
      "                                                                 \n",
      " dense_1 (Dense)             (None, 1)                 129       \n",
      "                                                                 \n",
      "=================================================================\n",
      "Total params: 1,665\n",
      "Trainable params: 1,665\n",
      "Non-trainable params: 0\n",
      "_________________________________________________________________\n"
     ]
    }
   ],
   "source": [
    "model.add(Dense(1))\n",
    "model.summary()"
   ]
  },
  {
   "cell_type": "markdown",
   "id": "ce6475f6",
   "metadata": {},
   "source": [
    "<a name='opt'></a>\n",
    "## 2.4 Optimizers"
   ]
  },
  {
   "cell_type": "markdown",
   "id": "5299a82e",
   "metadata": {},
   "source": [
    "While model __parameters__ are the ones that the model uses to make predictions, __hyperparameters__ determine the learning process (learning rate, number of iterations, optimizer type)."
   ]
  },
  {
   "cell_type": "code",
   "execution_count": 19,
   "id": "abec7ef7",
   "metadata": {},
   "outputs": [],
   "source": [
    "from tensorflow.keras.optimizers import Adam\n",
    "\n",
    "opt = Adam(learning_rate=0.01)\n",
    "\n",
    "model.compile(loss='mse', metrics=['mae'], optimizer=opt)"
   ]
  },
  {
   "cell_type": "markdown",
   "id": "3076f238",
   "metadata": {},
   "source": [
    "<a name='train'></a>\n",
    "## 2.5 Training & Evaluating"
   ]
  },
  {
   "cell_type": "code",
   "execution_count": 20,
   "id": "7a237266",
   "metadata": {},
   "outputs": [
    {
     "name": "stdout",
     "output_type": "stream",
     "text": [
      "Epoch 1/50\n",
      "299/299 [==============================] - 1s 1ms/step - loss: 287308448.0000 - mae: 11901.2646\n",
      "Epoch 2/50\n",
      "299/299 [==============================] - 0s 1ms/step - loss: 170637040.0000 - mae: 8576.3184\n",
      "Epoch 3/50\n",
      "299/299 [==============================] - 0s 1ms/step - loss: 133756864.0000 - mae: 8254.5791\n",
      "Epoch 4/50\n",
      "299/299 [==============================] - 0s 994us/step - loss: 115951496.0000 - mae: 7837.9365\n",
      "Epoch 5/50\n",
      "299/299 [==============================] - 0s 1ms/step - loss: 100515080.0000 - mae: 7369.9736\n",
      "Epoch 6/50\n",
      "299/299 [==============================] - 0s 941us/step - loss: 87197032.0000 - mae: 6923.0278\n",
      "Epoch 7/50\n",
      "299/299 [==============================] - 0s 1ms/step - loss: 76222160.0000 - mae: 6504.2446\n",
      "Epoch 8/50\n",
      "299/299 [==============================] - 0s 953us/step - loss: 67891920.0000 - mae: 6231.2192\n",
      "Epoch 9/50\n",
      "299/299 [==============================] - 0s 928us/step - loss: 62420120.0000 - mae: 6027.9097\n",
      "Epoch 10/50\n",
      "299/299 [==============================] - 0s 978us/step - loss: 58855516.0000 - mae: 5873.1768\n",
      "Epoch 11/50\n",
      "299/299 [==============================] - 0s 992us/step - loss: 57141508.0000 - mae: 5745.5796\n",
      "Epoch 12/50\n",
      "299/299 [==============================] - 0s 1ms/step - loss: 55994572.0000 - mae: 5672.9409\n",
      "Epoch 13/50\n",
      "299/299 [==============================] - 0s 972us/step - loss: 55323748.0000 - mae: 5596.8315\n",
      "Epoch 14/50\n",
      "299/299 [==============================] - 0s 987us/step - loss: 54977428.0000 - mae: 5580.7817\n",
      "Epoch 15/50\n",
      "299/299 [==============================] - 0s 1ms/step - loss: 54717564.0000 - mae: 5561.4185\n",
      "Epoch 16/50\n",
      "299/299 [==============================] - 0s 1ms/step - loss: 54388376.0000 - mae: 5511.0898\n",
      "Epoch 17/50\n",
      "299/299 [==============================] - 0s 1ms/step - loss: 54336648.0000 - mae: 5472.5835\n",
      "Epoch 18/50\n",
      "299/299 [==============================] - 0s 1ms/step - loss: 54154404.0000 - mae: 5472.3252\n",
      "Epoch 19/50\n",
      "299/299 [==============================] - 0s 1ms/step - loss: 53971688.0000 - mae: 5458.0054\n",
      "Epoch 20/50\n",
      "299/299 [==============================] - 0s 987us/step - loss: 53741724.0000 - mae: 5415.5337\n",
      "Epoch 21/50\n",
      "299/299 [==============================] - 0s 958us/step - loss: 53617016.0000 - mae: 5410.8931\n",
      "Epoch 22/50\n",
      "299/299 [==============================] - 0s 1ms/step - loss: 53485668.0000 - mae: 5397.0737\n",
      "Epoch 23/50\n",
      "299/299 [==============================] - 0s 997us/step - loss: 53429844.0000 - mae: 5369.5635\n",
      "Epoch 24/50\n",
      "299/299 [==============================] - 0s 1ms/step - loss: 53222004.0000 - mae: 5381.7314\n",
      "Epoch 25/50\n",
      "299/299 [==============================] - 0s 1ms/step - loss: 53112100.0000 - mae: 5353.9131\n",
      "Epoch 26/50\n",
      "299/299 [==============================] - 0s 1ms/step - loss: 52960180.0000 - mae: 5309.2886\n",
      "Epoch 27/50\n",
      "299/299 [==============================] - 0s 1ms/step - loss: 52923988.0000 - mae: 5332.2031\n",
      "Epoch 28/50\n",
      "299/299 [==============================] - 0s 1ms/step - loss: 52799508.0000 - mae: 5311.8115\n",
      "Epoch 29/50\n",
      "299/299 [==============================] - 0s 974us/step - loss: 52772764.0000 - mae: 5303.0962\n",
      "Epoch 30/50\n",
      "299/299 [==============================] - 0s 966us/step - loss: 52667564.0000 - mae: 5300.8018\n",
      "Epoch 31/50\n",
      "299/299 [==============================] - 0s 1ms/step - loss: 52640396.0000 - mae: 5272.9180A: 0s - loss: 47776412.0000 - mae: 5149\n",
      "Epoch 32/50\n",
      "299/299 [==============================] - 0s 1ms/step - loss: 52516324.0000 - mae: 5273.4033\n",
      "Epoch 33/50\n",
      "299/299 [==============================] - 0s 1ms/step - loss: 52376220.0000 - mae: 5252.2905\n",
      "Epoch 34/50\n",
      "299/299 [==============================] - 0s 1ms/step - loss: 52310016.0000 - mae: 5252.6587\n",
      "Epoch 35/50\n",
      "299/299 [==============================] - 0s 1ms/step - loss: 52255584.0000 - mae: 5241.4370\n",
      "Epoch 36/50\n",
      "299/299 [==============================] - 0s 954us/step - loss: 52239712.0000 - mae: 5219.6377\n",
      "Epoch 37/50\n",
      "299/299 [==============================] - 0s 1ms/step - loss: 52220864.0000 - mae: 5217.2085\n",
      "Epoch 38/50\n",
      "299/299 [==============================] - 0s 1ms/step - loss: 52200924.0000 - mae: 5226.2026\n",
      "Epoch 39/50\n",
      "299/299 [==============================] - 0s 1ms/step - loss: 52115776.0000 - mae: 5189.4917\n",
      "Epoch 40/50\n",
      "299/299 [==============================] - 0s 985us/step - loss: 52109256.0000 - mae: 5209.8931\n",
      "Epoch 41/50\n",
      "299/299 [==============================] - 0s 1ms/step - loss: 52003860.0000 - mae: 5163.5718\n",
      "Epoch 42/50\n",
      "299/299 [==============================] - 0s 988us/step - loss: 52008764.0000 - mae: 5194.1299\n",
      "Epoch 43/50\n",
      "299/299 [==============================] - 0s 1ms/step - loss: 51828872.0000 - mae: 5146.3491\n",
      "Epoch 44/50\n",
      "299/299 [==============================] - 0s 1ms/step - loss: 51821792.0000 - mae: 5189.1680\n",
      "Epoch 45/50\n",
      "299/299 [==============================] - 0s 959us/step - loss: 51756136.0000 - mae: 5172.6172\n",
      "Epoch 46/50\n",
      "299/299 [==============================] - 0s 1ms/step - loss: 51813224.0000 - mae: 5123.7007\n",
      "Epoch 47/50\n",
      "299/299 [==============================] - 0s 1ms/step - loss: 51802652.0000 - mae: 5138.1382\n",
      "Epoch 48/50\n",
      "299/299 [==============================] - 0s 961us/step - loss: 51714588.0000 - mae: 5120.2866\n",
      "Epoch 49/50\n",
      "299/299 [==============================] - 0s 1ms/step - loss: 51758428.0000 - mae: 5164.4375\n",
      "Epoch 50/50\n",
      "299/299 [==============================] - 0s 1ms/step - loss: 51666420.0000 - mae: 5123.8013\n"
     ]
    },
    {
     "data": {
      "text/plain": [
       "<keras.callbacks.History at 0x22d91b3a3d0>"
      ]
     },
     "execution_count": 20,
     "metadata": {},
     "output_type": "execute_result"
    }
   ],
   "source": [
    "model.fit(X_train_scaled, y_train, epochs=50, batch_size=3, verbose=1)"
   ]
  },
  {
   "cell_type": "code",
   "execution_count": 22,
   "id": "fd88d833",
   "metadata": {},
   "outputs": [
    {
     "name": "stdout",
     "output_type": "stream",
     "text": [
      "MSE: 47914156.0\n",
      "MAE: 5001.96728515625\n"
     ]
    }
   ],
   "source": [
    "val_mse, val_mae = model.evaluate(X_test_scaled, y_test, verbose=0)\n",
    "print(f\"MSE: {val_mse}\\nMAE: {val_mae}\")"
   ]
  }
 ],
 "metadata": {
  "kernelspec": {
   "display_name": "Python 3 (ipykernel)",
   "language": "python",
   "name": "python3"
  },
  "language_info": {
   "codemirror_mode": {
    "name": "ipython",
    "version": 3
   },
   "file_extension": ".py",
   "mimetype": "text/x-python",
   "name": "python",
   "nbconvert_exporter": "python",
   "pygments_lexer": "ipython3",
   "version": "3.9.7"
  }
 },
 "nbformat": 4,
 "nbformat_minor": 5
}
