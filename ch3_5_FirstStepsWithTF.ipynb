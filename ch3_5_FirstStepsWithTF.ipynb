{
  "nbformat": 4,
  "nbformat_minor": 0,
  "metadata": {
    "colab": {
      "name": "ch3_5_FirstStepsWithTF.ipynb",
      "provenance": [],
      "authorship_tag": "ABX9TyOvnDh9bPehEPYpHO95ICfI",
      "include_colab_link": true
    },
    "kernelspec": {
      "name": "python3",
      "display_name": "Python 3"
    },
    "language_info": {
      "name": "python"
    },
    "accelerator": "GPU"
  },
  "cells": [
    {
      "cell_type": "markdown",
      "metadata": {
        "id": "view-in-github",
        "colab_type": "text"
      },
      "source": [
        "<a href=\"https://colab.research.google.com/github/CSpanias/deep_learning/blob/main/ch3_5_FirstStepsWithTF.ipynb\" target=\"_parent\"><img src=\"https://colab.research.google.com/assets/colab-badge.svg\" alt=\"Open In Colab\"/></a>"
      ]
    },
    {
      "cell_type": "markdown",
      "source": [
        "# 3.5 First Steps with TensorFlow"
      ],
      "metadata": {
        "id": "ouaDfnfouafB"
      }
    },
    {
      "cell_type": "markdown",
      "source": [
        "As you saw in the previous chapters, training a NN revolves around the following concepts:\n",
        "\n",
        "1. First, **low-level tensor manipulation**—the infrastructure that underlies all modern ML. This translates to **TensorFlow APIs**:\n",
        "  * **Tensors**, including special tensors that store the network’s state (variables)\n",
        "  * **Tensor operations** such as addition, relu, matmul\n",
        "  * **Backpropagation**, a way to compute the gradient of mathematical expressions (handled in TensorFlow via the `GradientTape` object)\n",
        "\n",
        "2. Second, **high-level DL concepts**. This translates to **Keras APIs**:\n",
        "  * **Layers**, which are combined into a model\n",
        "  * A **loss function**, which defines the feedback signal used for learning\n",
        "  * An **optimizer**, which determines how learning proceeds\n",
        "  * **Metrics** to evaluate model performance\n",
        "  * A **training loop** that performs **mini-batch stochastic gradient descent**"
      ],
      "metadata": {
        "id": "36kk1GhJudLL"
      }
    },
    {
      "cell_type": "markdown",
      "source": [
        "## 3.5.1 Constant tensors and variables"
      ],
      "metadata": {
        "id": "gFTcdxwivx3i"
      }
    },
    {
      "cell_type": "markdown",
      "source": [
        "To do anything in TensorFlow, we’re going to need some **tensors**. \n",
        "\n",
        "Tensors need to be created with some **initial value**. For instance, you could create **all-ones** or **all-zeros tensors**, or **tensors of values drawn from a random distribution** ."
      ],
      "metadata": {
        "id": "2F0Qo-oqv91M"
      }
    },
    {
      "cell_type": "code",
      "execution_count": 17,
      "metadata": {
        "colab": {
          "base_uri": "https://localhost:8080/"
        },
        "id": "KhG97HICtex5",
        "outputId": "aef8b124-dc08-4871-ac76-737dda9c53ba"
      },
      "outputs": [
        {
          "output_type": "stream",
          "name": "stdout",
          "text": [
            "Tensor x has 2 dims.\n",
            "\n",
            "tf.Tensor(\n",
            "[[1.]\n",
            " [1.]], shape=(2, 1), dtype=float32)\n"
          ]
        }
      ],
      "source": [
        "import tensorflow as tf\n",
        "\n",
        "# tensors initialized with 1s\n",
        "x = tf.ones(shape=(2, 1)) # equivalent to np.ones(shape(2, 1))\n",
        "\n",
        "print(f\"Tensor x has {x.ndim} dims.\\n\")\n",
        "print(x)"
      ]
    },
    {
      "cell_type": "code",
      "source": [
        "# tensors initialized with 0s\n",
        "x = tf.zeros(shape=(2, 1)) # equivalent to np.zeros(shape=(2, 1))\n",
        "\n",
        "print(f\"Tensor x has {x.ndim} dims.\\n\")\n",
        "print(x)"
      ],
      "metadata": {
        "colab": {
          "base_uri": "https://localhost:8080/"
        },
        "id": "xu56H2YZ6yOg",
        "outputId": "618fa24d-3180-4650-eb67-db656fafb80a"
      },
      "execution_count": 18,
      "outputs": [
        {
          "output_type": "stream",
          "name": "stdout",
          "text": [
            "Tensor x has 2 dims.\n",
            "\n",
            "tf.Tensor(\n",
            "[[0.]\n",
            " [0.]], shape=(2, 1), dtype=float32)\n"
          ]
        }
      ]
    },
    {
      "cell_type": "markdown",
      "source": [
        "Tensor of random values drawn from a __normal distribution__ ($μ = 0$, $σ = 1$)."
      ],
      "metadata": {
        "id": "wDQvsSC28igh"
      }
    },
    {
      "cell_type": "code",
      "source": [
        "# random initialization of tensors\n",
        "x = tf.random.normal(shape=(3, 1), mean=0, stddev=1.) # equivalent to np.random.normal(size=(3, 1), loc=0., scale=1.)\n",
        "\n",
        "print(f\"Tensor x has {x.ndim} dims.\\n\")\n",
        "print(x)"
      ],
      "metadata": {
        "colab": {
          "base_uri": "https://localhost:8080/"
        },
        "id": "7KFZNjMz8SmF",
        "outputId": "5ce6614a-ba7a-49fd-eb6d-399a59ba6b10"
      },
      "execution_count": 19,
      "outputs": [
        {
          "output_type": "stream",
          "name": "stdout",
          "text": [
            "Tensor x has 2 dims.\n",
            "\n",
            "tf.Tensor(\n",
            "[[-1.3841139 ]\n",
            " [ 0.73798555]\n",
            " [-0.74983734]], shape=(3, 1), dtype=float32)\n"
          ]
        }
      ]
    },
    {
      "cell_type": "markdown",
      "source": [
        "Tensor of random values drawn from a __uniform distribution__ between 0 and 1."
      ],
      "metadata": {
        "id": "zHhEQjqv8_Fy"
      }
    },
    {
      "cell_type": "code",
      "source": [
        "x = tf.random.uniform(shape=(3, 1), minval=0., maxval=1.) # equivalent to np.random.uniform(size=(3, 1), low=0., high=1.)\n",
        "\n",
        "print(f\"Tensor x has {x.ndim} dims.\\n\")\n",
        "print(x)"
      ],
      "metadata": {
        "colab": {
          "base_uri": "https://localhost:8080/"
        },
        "id": "zPFk-twB9HEy",
        "outputId": "86a36df0-a1cc-4fd9-de47-d605bf062725"
      },
      "execution_count": 20,
      "outputs": [
        {
          "output_type": "stream",
          "name": "stdout",
          "text": [
            "Tensor x has 2 dims.\n",
            "\n",
            "tf.Tensor(\n",
            "[[0.53837156]\n",
            " [0.40019417]\n",
            " [0.7715529 ]], shape=(3, 1), dtype=float32)\n"
          ]
        }
      ]
    },
    {
      "cell_type": "markdown",
      "source": [
        "A significant difference between NumPy arrays and TensorFlow tensors is that __TensorFlow tensors aren’t assignable: they’re constant__. \n",
        "\n",
        "For instance, in NumPy, you can do the following."
      ],
      "metadata": {
        "id": "t9Q97u-r9VAj"
      }
    },
    {
      "cell_type": "code",
      "source": [
        "import numpy as np\n",
        "\n",
        "x = np.ones(shape=(2, 2))\n",
        "\n",
        "print(f\"Array x has {x.ndim} dims.\\n\")\n",
        "print(x, \"\\n\")\n",
        "\n",
        "# overwrite element\n",
        "x[0, 0] = 0\n",
        "\n",
        "print(x)"
      ],
      "metadata": {
        "colab": {
          "base_uri": "https://localhost:8080/"
        },
        "id": "TGKp9dtG9a_h",
        "outputId": "ac818e3f-c598-4657-dc26-90f3ffb49b17"
      },
      "execution_count": 24,
      "outputs": [
        {
          "output_type": "stream",
          "name": "stdout",
          "text": [
            "Array x has 2 dims.\n",
            "\n",
            "[[1. 1.]\n",
            " [1. 1.]] \n",
            "\n",
            "[[0. 1.]\n",
            " [1. 1.]]\n"
          ]
        }
      ]
    },
    {
      "cell_type": "markdown",
      "source": [
        "Try to do the same thing in TensorFlow, and you will get an error: “EagerTensor object does not support item assignment.”"
      ],
      "metadata": {
        "id": "tv2P442dAq8N"
      }
    },
    {
      "cell_type": "code",
      "source": [
        "x = tf.ones(shape=(2, 2))\n",
        "x[0, 0] = 0"
      ],
      "metadata": {
        "colab": {
          "base_uri": "https://localhost:8080/",
          "height": 189
        },
        "id": "vqv0haeeAqqX",
        "outputId": "c0de29cb-8e06-4ca3-d2f0-d0623330376a"
      },
      "execution_count": 26,
      "outputs": [
        {
          "output_type": "error",
          "ename": "TypeError",
          "evalue": "ignored",
          "traceback": [
            "\u001b[0;31m---------------------------------------------------------------------------\u001b[0m",
            "\u001b[0;31mTypeError\u001b[0m                                 Traceback (most recent call last)",
            "\u001b[0;32m<ipython-input-26-af6a00bc340f>\u001b[0m in \u001b[0;36m<module>\u001b[0;34m()\u001b[0m\n\u001b[1;32m      1\u001b[0m \u001b[0mx\u001b[0m \u001b[0;34m=\u001b[0m \u001b[0mtf\u001b[0m\u001b[0;34m.\u001b[0m\u001b[0mones\u001b[0m\u001b[0;34m(\u001b[0m\u001b[0mshape\u001b[0m\u001b[0;34m=\u001b[0m\u001b[0;34m(\u001b[0m\u001b[0;36m2\u001b[0m\u001b[0;34m,\u001b[0m \u001b[0;36m2\u001b[0m\u001b[0;34m)\u001b[0m\u001b[0;34m)\u001b[0m\u001b[0;34m\u001b[0m\u001b[0;34m\u001b[0m\u001b[0m\n\u001b[0;32m----> 2\u001b[0;31m \u001b[0mx\u001b[0m\u001b[0;34m[\u001b[0m\u001b[0;36m0\u001b[0m\u001b[0;34m,\u001b[0m \u001b[0;36m0\u001b[0m\u001b[0;34m]\u001b[0m \u001b[0;34m=\u001b[0m \u001b[0;36m0\u001b[0m\u001b[0;34m\u001b[0m\u001b[0;34m\u001b[0m\u001b[0m\n\u001b[0m",
            "\u001b[0;31mTypeError\u001b[0m: 'tensorflow.python.framework.ops.EagerTensor' object does not support item assignment"
          ]
        }
      ]
    },
    {
      "cell_type": "markdown",
      "source": [
        "To train a model, we’ll need to update its state, which is a set of tensors. If tensors aren’t assignable, how do we do it? \n",
        "\n",
        "That’s where variables come in. `tf.Variable` is the class meant to manage modifiable state in TensorFlow.\n",
        "\n",
        "To create a variable, you need to provide some initial value, such as a random tensor."
      ],
      "metadata": {
        "id": "pyl0mTXhA9Et"
      }
    },
    {
      "cell_type": "code",
      "source": [
        "v = tf.Variable(initial_value=tf.random.normal(shape=(3, 1)))\n",
        "print(v)"
      ],
      "metadata": {
        "colab": {
          "base_uri": "https://localhost:8080/"
        },
        "id": "b2B3fdqyBHpx",
        "outputId": "ce8fb5cc-b4fd-46d7-986d-e8e72155fe50"
      },
      "execution_count": 27,
      "outputs": [
        {
          "output_type": "stream",
          "name": "stdout",
          "text": [
            "<tf.Variable 'Variable:0' shape=(3, 1) dtype=float32, numpy=\n",
            "array([[-0.28110006],\n",
            "       [-1.0978961 ],\n",
            "       [ 0.68075913]], dtype=float32)>\n"
          ]
        }
      ]
    },
    {
      "cell_type": "markdown",
      "source": [
        "The state of a variable can be modified via its `assign` method."
      ],
      "metadata": {
        "id": "kwh-tsucBb5W"
      }
    },
    {
      "cell_type": "code",
      "source": [
        "v.assign(tf.ones((3, 1)))"
      ],
      "metadata": {
        "colab": {
          "base_uri": "https://localhost:8080/"
        },
        "id": "JXAFGxvNB4r0",
        "outputId": "85a6101a-0830-4002-de5b-469962ea32eb"
      },
      "execution_count": 28,
      "outputs": [
        {
          "output_type": "execute_result",
          "data": {
            "text/plain": [
              "<tf.Variable 'UnreadVariable' shape=(3, 1) dtype=float32, numpy=\n",
              "array([[1.],\n",
              "       [1.],\n",
              "       [1.]], dtype=float32)>"
            ]
          },
          "metadata": {},
          "execution_count": 28
        }
      ]
    },
    {
      "cell_type": "markdown",
      "source": [
        "It also works for a subset of the coefficients."
      ],
      "metadata": {
        "id": "mrcY6wLXCBg1"
      }
    },
    {
      "cell_type": "code",
      "source": [
        "v[0, 0].assign(3.)"
      ],
      "metadata": {
        "colab": {
          "base_uri": "https://localhost:8080/"
        },
        "id": "3vrqzodJCCmi",
        "outputId": "72558270-c826-4215-863f-489edd46b195"
      },
      "execution_count": 29,
      "outputs": [
        {
          "output_type": "execute_result",
          "data": {
            "text/plain": [
              "<tf.Variable 'UnreadVariable' shape=(3, 1) dtype=float32, numpy=\n",
              "array([[3.],\n",
              "       [1.],\n",
              "       [1.]], dtype=float32)>"
            ]
          },
          "metadata": {},
          "execution_count": 29
        }
      ]
    },
    {
      "cell_type": "markdown",
      "source": [
        "Similarly, `assign_add()` and `assign_sub()` are efficient equivalents of `+=` and `-=`."
      ],
      "metadata": {
        "id": "XS-bBH1rCI5j"
      }
    },
    {
      "cell_type": "code",
      "source": [
        "v.assign_add(tf.ones((3, 1)))"
      ],
      "metadata": {
        "id": "hG7ohV1gCIzg",
        "colab": {
          "base_uri": "https://localhost:8080/"
        },
        "outputId": "69b2b412-60fd-4eec-e61a-262d4e0852a1"
      },
      "execution_count": 30,
      "outputs": [
        {
          "output_type": "execute_result",
          "data": {
            "text/plain": [
              "<tf.Variable 'UnreadVariable' shape=(3, 1) dtype=float32, numpy=\n",
              "array([[4.],\n",
              "       [2.],\n",
              "       [2.]], dtype=float32)>"
            ]
          },
          "metadata": {},
          "execution_count": 30
        }
      ]
    },
    {
      "cell_type": "markdown",
      "source": [
        "## 3.5.2 Tensor operations: Doing math in TensorFlow"
      ],
      "metadata": {
        "id": "EyRHBoCsCf62"
      }
    },
    {
      "cell_type": "markdown",
      "source": [
        "Just like NumPy, TensorFlow offers a large collection of tensor operations to express mathematical formulas."
      ],
      "metadata": {
        "id": "89kkPj3RCfwN"
      }
    },
    {
      "cell_type": "code",
      "source": [
        "a = tf.random.normal(shape=(2, 2))\n",
        "print(a)\n",
        "\n",
        "b = tf.square(a)\n",
        "print(b)\n",
        "\n",
        "c = tf.sqrt(a)\n",
        "print(c)\n",
        "\n",
        "d = b + c\n",
        "print(d)\n",
        "\n",
        "e = tf.matmul(a, b) # dot product\n",
        "print(e)\n",
        "\n",
        "e *= d\n",
        "print(e)"
      ],
      "metadata": {
        "colab": {
          "base_uri": "https://localhost:8080/"
        },
        "id": "hUhbnusqCnjV",
        "outputId": "540a7f10-4569-4dc4-fb8c-0093a3fd0844"
      },
      "execution_count": 33,
      "outputs": [
        {
          "output_type": "stream",
          "name": "stdout",
          "text": [
            "tf.Tensor(\n",
            "[[0.8383165  0.71445537]\n",
            " [0.38218418 0.6353349 ]], shape=(2, 2), dtype=float32)\n",
            "tf.Tensor(\n",
            "[[0.7027745  0.5104465 ]\n",
            " [0.14606474 0.40365043]], shape=(2, 2), dtype=float32)\n",
            "tf.Tensor(\n",
            "[[0.9155962  0.84525466]\n",
            " [0.6182105  0.79707897]], shape=(2, 2), dtype=float32)\n",
            "tf.Tensor(\n",
            "[[1.6183708  1.3557012 ]\n",
            " [0.76427525 1.2007294 ]], shape=(2, 2), dtype=float32)\n",
            "tf.Tensor(\n",
            "[[0.6935043  0.7163059 ]\n",
            " [0.36138934 0.4515378 ]], shape=(2, 2), dtype=float32)\n",
            "tf.Tensor(\n",
            "[[1.122347   0.9710968 ]\n",
            " [0.27620092 0.5421747 ]], shape=(2, 2), dtype=float32)\n"
          ]
        }
      ]
    },
    {
      "cell_type": "markdown",
      "source": [
        "Importantly, each of the preceding operations gets executed on the fly: at any point, you can print what the current result is, just like in NumPy. We call this __eager execution__."
      ],
      "metadata": {
        "id": "992dDS17Dr6v"
      }
    },
    {
      "cell_type": "markdown",
      "source": [
        "## 3.5.3 A second look at the GradientTape API"
      ],
      "metadata": {
        "id": "5VR4vtGRDyix"
      }
    },
    {
      "cell_type": "markdown",
      "source": [
        "So far, TensorFlow seems to look a lot like NumPy. But here’s something NumPy can’t do: __retrieve the gradient of any differentiable expression__ with respect to any of its inputs. \n",
        "\n",
        "Just open a `GradientTape` scope, apply some computation to one or several input tensors, and retrieve the gradient of the result with respect to the inputs."
      ],
      "metadata": {
        "id": "4W8jNDfSD2t4"
      }
    },
    {
      "cell_type": "code",
      "source": [
        "input_var = tf.Variable(initial_value=3.)\n",
        "with tf.GradientTape() as tape: \n",
        "  result = tf.square(input_var)\n",
        "gradient = tape.gradient(result, input_var)\n",
        "\n",
        "print(gradient)"
      ],
      "metadata": {
        "colab": {
          "base_uri": "https://localhost:8080/"
        },
        "id": "br4LxclcEAdB",
        "outputId": "32f43291-528e-4eba-e0e7-72c8fa882465"
      },
      "execution_count": 36,
      "outputs": [
        {
          "output_type": "stream",
          "name": "stdout",
          "text": [
            "tf.Tensor(6.0, shape=(), dtype=float32)\n"
          ]
        }
      ]
    },
    {
      "cell_type": "markdown",
      "source": [
        "This is most commonly used to retrieve the gradients of the loss of a model with respect to its weights: `gradients = tape.gradient(loss, weights)`.\n",
        "\n",
        "So far, you’ve only seen the case where the input tensors in `tape.gradient()` were TensorFlow variables. It’s actually possible for these inputs to be any arbitrary tensor. However, only trainable variables are tracked by default. With a constant tensor, you’d have to manually mark it as being tracked by calling `tape.watch()` on it."
      ],
      "metadata": {
        "id": "fsVrulo6EVM0"
      }
    },
    {
      "cell_type": "code",
      "source": [
        "input_const = tf.constant(3.)\n",
        "with tf.GradientTape() as tape:\n",
        "  tape.watch(input_const)\n",
        "  result = tf.square(input_const)\n",
        "gradient = tape.gradient(result, input_const)\n",
        "\n",
        "print(gradient)"
      ],
      "metadata": {
        "colab": {
          "base_uri": "https://localhost:8080/"
        },
        "id": "Edt_MdsEEkC5",
        "outputId": "4408f7ca-f2fb-4c71-bc6c-12830a06a767"
      },
      "execution_count": 38,
      "outputs": [
        {
          "output_type": "stream",
          "name": "stdout",
          "text": [
            "tf.Tensor(6.0, shape=(), dtype=float32)\n"
          ]
        }
      ]
    },
    {
      "cell_type": "markdown",
      "source": [
        "Why is this necessary? Because it would be too expensive to preemptively store the information required to compute the gradient of anything with respect to anything. To avoid wasting resources, the tape needs to know what to watch. Trainable variables are watched by default because computing the gradient of a loss with regard to a list of trainable variables is the most common use of the gradient tape.\n",
        "\n",
        "The gradient tape is a powerful utility, even capable of computing second-order gradients, that is to say, the gradient of a gradient. For instance, the gradient of the position of an object with regard to time is the speed of that object, and the second-order gradient is its acceleration.\n",
        "\n",
        "If you measure the position of a falling apple along a vertical axis over time and find that it verifies `position(time) = 4.9 * time ** 2`, what is its acceleration? Let’s use two nested gradient tapes to find out."
      ],
      "metadata": {
        "id": "5cK8HRy8E54a"
      }
    },
    {
      "cell_type": "code",
      "source": [
        "time = tf.Variable(0.)\n",
        "with tf.GradientTape() as outer_tape:\n",
        "  with tf.GradientTape() as inner_tape:\n",
        "    position = 4.9 * time ** 2\n",
        "  speed = inner_tape.gradient(position, time)\n",
        "acceleration = outer_tape.gradient(speed, time)\n",
        "\n",
        "print(speed)\n",
        "print(acceleration)"
      ],
      "metadata": {
        "colab": {
          "base_uri": "https://localhost:8080/"
        },
        "id": "GBub3XxWFLjf",
        "outputId": "3ded05b1-143e-4bf8-9863-62dc3a18cd86"
      },
      "execution_count": 41,
      "outputs": [
        {
          "output_type": "stream",
          "name": "stdout",
          "text": [
            "tf.Tensor(0.0, shape=(), dtype=float32)\n",
            "tf.Tensor(9.8, shape=(), dtype=float32)\n"
          ]
        }
      ]
    },
    {
      "cell_type": "markdown",
      "source": [
        "## 3.5.4 An end-to-end example: A linear classifier in pure TensorFlow"
      ],
      "metadata": {
        "id": "en_8ivsGFvb8"
      }
    },
    {
      "cell_type": "markdown",
      "source": [
        "You know about tensors, variables, and tensor operations, and you know how to compute gradients. That’s enough to build any ML model based on gradient descent.\n",
        "\n",
        "In a ML job interview, you may be asked to implement a __linear classifier from scratch in TensorFlow__: a very simple task that serves as a filter between candidates who have some minimal ML background and those who don’t. Let’s get you past that filter and use your newfound knowledge of TensorFlow to implement such a linear classifier.\n",
        "\n",
        "First, let’s come up with some nicely linearly separable synthetic data to work with: __two classes of points in a 2D plane__. \n",
        "\n",
        "We’ll generate each class of points by drawing their __coordinates from a random distribution__ with a specific covariance matrix and a specific mean.\n",
        "\n",
        "Intuitively, the __covariance matrix describes the shape of the point cloud__, and the __mean describes its position in the plane__. \n",
        "\n",
        "We’ll reuse the same covariance matrix for both point clouds, but we’ll use two different mean values—the point clouds will have the same shape, but different positions."
      ],
      "metadata": {
        "id": "B5Njez3kFzsa"
      }
    },
    {
      "cell_type": "code",
      "source": [
        "num_samples_per_class = 1000\n",
        "negative_samples = np.random.multivariate_normal(\n",
        "    mean=[0, 3],\n",
        "    cov=[[1, 0.5], [0.5, 1]],\n",
        "    size=num_samples_per_class)\n",
        "positive_samples = np.random.multivariate_normal(\n",
        "    mean=[3, 0],\n",
        "    cov=[[1, 0.5], [0.5, 1]],\n",
        "    size=num_samples_per_class)"
      ],
      "metadata": {
        "id": "DvgD1I8yGkfJ"
      },
      "execution_count": 43,
      "outputs": []
    },
    {
      "cell_type": "markdown",
      "source": [
        "In the preceding code, `negative_samples` and `positive_samples` are both arrays with shape `(1000, 2)`. Let’s stack them into a single array with shape `(2000, 2)`."
      ],
      "metadata": {
        "id": "SWJw-WpZHMBw"
      }
    },
    {
      "cell_type": "code",
      "source": [
        "print(negative_samples.shape, positive_samples.shape)"
      ],
      "metadata": {
        "colab": {
          "base_uri": "https://localhost:8080/"
        },
        "id": "k0GyBXyKHSWu",
        "outputId": "cc454da3-d924-487c-bf77-c059ad018b07"
      },
      "execution_count": 45,
      "outputs": [
        {
          "output_type": "stream",
          "name": "stdout",
          "text": [
            "(1000, 2) (1000, 2)\n"
          ]
        }
      ]
    },
    {
      "cell_type": "code",
      "source": [
        "inputs = np.vstack((negative_samples, positive_samples)).astype(np.float32)"
      ],
      "metadata": {
        "id": "77koQJj7HZoq"
      },
      "execution_count": 48,
      "outputs": []
    },
    {
      "cell_type": "markdown",
      "source": [
        "Let’s generate the corresponding target labels, an array of zeros and ones of shape `(2000, 1)`, where `targets[i, 0]` is `0` if `inputs[i]` belongs to class `0` (and inversely)."
      ],
      "metadata": {
        "id": "ZUj12N0EHwSl"
      }
    },
    {
      "cell_type": "code",
      "source": [
        "targets = np.vstack((np.zeros((num_samples_per_class, 1), dtype=\"float32\"),\n",
        "                     np.ones((num_samples_per_class, 1), dtype=\"float32\")))\n",
        "print(targets.shape)"
      ],
      "metadata": {
        "colab": {
          "base_uri": "https://localhost:8080/"
        },
        "id": "_DXwfbqcHv_9",
        "outputId": "8cb2ac67-f08c-46f4-b32d-950c8abf0c33"
      },
      "execution_count": 49,
      "outputs": [
        {
          "output_type": "stream",
          "name": "stdout",
          "text": [
            "(2000, 1)\n"
          ]
        }
      ]
    },
    {
      "cell_type": "markdown",
      "source": [
        "Next, let’s plot our data with Matplotlib."
      ],
      "metadata": {
        "id": "HlINEhGFITH8"
      }
    },
    {
      "cell_type": "code",
      "source": [
        "import matplotlib.pyplot as plt\n",
        "\n",
        "plt.scatter(inputs[:, 0], inputs[:, 1], c=targets[:, 0])\n",
        "plt.show()"
      ],
      "metadata": {
        "colab": {
          "base_uri": "https://localhost:8080/",
          "height": 265
        },
        "id": "Nl0O8T3PIT5h",
        "outputId": "69eab06d-7094-4043-f749-c565d34fcbc3"
      },
      "execution_count": 50,
      "outputs": [
        {
          "output_type": "display_data",
          "data": {
            "image/png": "[encoded data removed]",
            "text/plain": [
              "<Figure size 432x288 with 1 Axes>"
            ]
          },
          "metadata": {
            "needs_background": "light"
          }
        }
      ]
    },
    {
      "cell_type": "markdown",
      "source": [
        "Now let’s create a linear classifier that can learn to separate these two blobs. __A linear classifier is an affine transformation__ (`prediction = W • input + b`) trained to minimize the square of the difference between predictions and the targets.\n",
        "\n",
        "Let’s create our variables, `W` and `b`, initialized with random values and with zeros, respectively."
      ],
      "metadata": {
        "id": "Pkkgz-hMIcyT"
      }
    },
    {
      "cell_type": "code",
      "source": [
        "input_dim = 2\n",
        "output_dim = 1\n",
        "W = tf.Variable(initial_value=tf.random.uniform(shape=(input_dim, output_dim)))\n",
        "b = tf.Variable(initial_value=tf.zeros(shape=(output_dim,)))"
      ],
      "metadata": {
        "id": "gIakvpPjIpDY"
      },
      "execution_count": 51,
      "outputs": []
    },
    {
      "cell_type": "markdown",
      "source": [
        "Here’s our __forward pass__ function."
      ],
      "metadata": {
        "id": "jciB-8QxI9-0"
      }
    },
    {
      "cell_type": "code",
      "source": [
        "def model(inputs):\n",
        "  return tf.matmul(inputs, W) + b"
      ],
      "metadata": {
        "id": "S9jkq5_cI_lZ"
      },
      "execution_count": 52,
      "outputs": []
    },
    {
      "cell_type": "markdown",
      "source": [
        "Because our linear classifier operates on 2D inputs, `W` is really just two scalar coefficients, `w1` and `w2`: `W = [[w1], [w2]]`.\n",
        "\n",
        "Meanwhile, `b` is a single scalar coefficient. As such, for a given input point `[x, y]`, its prediction value is `prediction = [[w1], [w2]] • [x, y] + b = w1 * x + w2 * y + b`.\n",
        "\n",
        "The following listing shows our loss function."
      ],
      "metadata": {
        "id": "koeE_6NBJI_w"
      }
    },
    {
      "cell_type": "code",
      "source": [
        "def square_loss(targets, predictions):\n",
        "  # a tensor with the same shape as targets and predictions, containing per-sample loss scores.\n",
        "  per_sample_losses = tf.square(targets - predictions)\n",
        "  # we need to average these per-sample loss scores into a single scalar loss value\n",
        "  return tf.reduce_mean(per_sample_losses)"
      ],
      "metadata": {
        "id": "pGLBGa9MJfOy"
      },
      "execution_count": 53,
      "outputs": []
    },
    {
      "cell_type": "markdown",
      "source": [
        "Next is the __training step__, which receives some training data and updates the weights `W` and `b` so as to minimize the loss on the data."
      ],
      "metadata": {
        "id": "6GdesWmwJ3Uq"
      }
    },
    {
      "cell_type": "code",
      "source": [
        "learning_rate = 0.1\n",
        "\n",
        "def training_step(inputs, targets):\n",
        "  # forward pass, inside a gradient tape scope\n",
        "  with tf.GradientTape() as tape:\n",
        "    predictions = model(inputs)\n",
        "    loss = square_loss(predictions, targets)\n",
        "  # retrieve the gradient of the loss with regard to weights\n",
        "  grad_loss_wrt_W, grad_loss_wrt_b = tape.gradient(loss, [W, b])\n",
        "  # update weights\n",
        "  W.assign_sub(grad_loss_wrt_W * learning_rate)\n",
        "  b.assign_sub(grad_loss_wrt_b * learning_rate)\n",
        "  return loss"
      ],
      "metadata": {
        "id": "i02M1DvUPA0H"
      },
      "execution_count": 55,
      "outputs": []
    },
    {
      "cell_type": "markdown",
      "source": [
        "For simplicity, we’ll do __batch training instead of mini-batch training__: we’ll run each training step (gradient computation and weight update) for all the data, rather than iterate over the data in small batches. \n",
        "\n",
        "On one hand, this means that __each training step will take much longer to run__, since we’ll compute the forward pass and the gradients for 2,000 samples at once. On the other hand, __each gradient update will be much more effective at reducing the loss on the training data__, since it will encompass information from all training samples instead of, say, only 128 random samples.\n",
        "\n",
        "As a result, we will need many __fewer steps of training__, and we should use a __larger learning rate__ than we would typically use for mini-batch training."
      ],
      "metadata": {
        "id": "EiMn3GAdP77F"
      }
    },
    {
      "cell_type": "code",
      "source": [
        "for step in range(40):\n",
        "  loss = training_step(inputs, targets)\n",
        "  print(f\"Loss at step {step}: {loss:.4f}\")"
      ],
      "metadata": {
        "colab": {
          "base_uri": "https://localhost:8080/"
        },
        "id": "gxk6m6MfQMYC",
        "outputId": "6a5390b2-7775-4830-d12e-1c6940ed89df"
      },
      "execution_count": 56,
      "outputs": [
        {
          "output_type": "stream",
          "name": "stdout",
          "text": [
            "Loss at step 0: 2.0387\n",
            "Loss at step 1: 0.2920\n",
            "Loss at step 2: 0.1384\n",
            "Loss at step 3: 0.1065\n",
            "Loss at step 4: 0.0958\n",
            "Loss at step 5: 0.0891\n",
            "Loss at step 6: 0.0835\n",
            "Loss at step 7: 0.0785\n",
            "Loss at step 8: 0.0739\n",
            "Loss at step 9: 0.0698\n",
            "Loss at step 10: 0.0659\n",
            "Loss at step 11: 0.0624\n",
            "Loss at step 12: 0.0592\n",
            "Loss at step 13: 0.0563\n",
            "Loss at step 14: 0.0537\n",
            "Loss at step 15: 0.0512\n",
            "Loss at step 16: 0.0490\n",
            "Loss at step 17: 0.0469\n",
            "Loss at step 18: 0.0451\n",
            "Loss at step 19: 0.0434\n",
            "Loss at step 20: 0.0418\n",
            "Loss at step 21: 0.0404\n",
            "Loss at step 22: 0.0391\n",
            "Loss at step 23: 0.0379\n",
            "Loss at step 24: 0.0368\n",
            "Loss at step 25: 0.0358\n",
            "Loss at step 26: 0.0349\n",
            "Loss at step 27: 0.0341\n",
            "Loss at step 28: 0.0333\n",
            "Loss at step 29: 0.0326\n",
            "Loss at step 30: 0.0320\n",
            "Loss at step 31: 0.0314\n",
            "Loss at step 32: 0.0309\n",
            "Loss at step 33: 0.0304\n",
            "Loss at step 34: 0.0299\n",
            "Loss at step 35: 0.0295\n",
            "Loss at step 36: 0.0292\n",
            "Loss at step 37: 0.0288\n",
            "Loss at step 38: 0.0285\n",
            "Loss at step 39: 0.0282\n"
          ]
        }
      ]
    },
    {
      "cell_type": "markdown",
      "source": [
        "After 40 steps, the __training loss seems to have stabilized around `0.025`__.\n",
        "\n",
        "Let’s plot how our linear model classifies the training data points. \n",
        "\n",
        "Because our targets are zeros and ones, a given input point will be classified as “0” if its prediction value is below 0.5, and as “1” if it is above 0.5."
      ],
      "metadata": {
        "id": "-kJibtktQaXi"
      }
    },
    {
      "cell_type": "code",
      "source": [
        "predictions = model(inputs)\n",
        "plt.scatter(inputs[:, 0], inputs[:, 1], c=predictions[:, 0] > 0.5)\n",
        "plt.show()"
      ],
      "metadata": {
        "colab": {
          "base_uri": "https://localhost:8080/",
          "height": 265
        },
        "id": "aZYM58e5QkC7",
        "outputId": "b0a5554c-de81-4032-9273-7eb07dba477e"
      },
      "execution_count": 57,
      "outputs": [
        {
          "output_type": "display_data",
          "data": {
            "image/png": "[encoded data removed]",
            "text/plain": [
              "<Figure size 432x288 with 1 Axes>"
            ]
          },
          "metadata": {
            "needs_background": "light"
          }
        }
      ]
    },
    {
      "cell_type": "markdown",
      "source": [
        "Recall that the prediction value for a given point `[x, y]` is simply `prediction == [[w1], [w2]] • [x, y] + b == w1 * x + w2 * y + b`. Thus, `class 0` is defined as `w1 * x + w2 * y + b < 0.5`, and `class 1` is defined as `w1 * x + w2 * y + b > 0.5`. \n",
        "\n",
        "You’ll notice that what you’re looking at is really the equation of a line in the 2D plane: `w1 * x + w2 * y + b = 0.5`. Above the line is `class 1`, and below the line is `class 0`. \n",
        "\n",
        "You may be used to seeing line equations in the format `y = a * x + b`; in the same format, our line becomes `y = - w1 / w2 * x + (0.5 - b) / w2`."
      ],
      "metadata": {
        "id": "wPsD-M3WQ1iW"
      }
    },
    {
      "cell_type": "code",
      "source": [
        "# generate 100 regularly spaced numbers between –1 and 4\n",
        "x = np.linspace(-1, 4, 100)\n",
        "# line's equation\n",
        "y = - W[0] / W[1] * x + (0.5 - b) / W[1]\n",
        "# Plot our line (\"-r\" means “plot it as a red line”)\n",
        "plt.plot(x, y, \"-r\")\n",
        "# Plot our model’s predictions on the same plot\n",
        "plt.scatter(inputs[:, 0], inputs[:, 1], c=predictions[:, 0] > 0.5)"
      ],
      "metadata": {
        "colab": {
          "base_uri": "https://localhost:8080/",
          "height": 283
        },
        "id": "ZfnBHdU7REsV",
        "outputId": "3e2bc08c-ff03-4bca-c128-f3571ee04e5a"
      },
      "execution_count": 58,
      "outputs": [
        {
          "output_type": "execute_result",
          "data": {
            "text/plain": [
              "<matplotlib.collections.PathCollection at 0x7fc060235f50>"
            ]
          },
          "metadata": {},
          "execution_count": 58
        },
        {
          "output_type": "display_data",
          "data": {
            "image/png": "[encoded data removed]",
            "text/plain": [
              "<Figure size 432x288 with 1 Axes>"
            ]
          },
          "metadata": {
            "needs_background": "light"
          }
        }
      ]
    }
  ]
}