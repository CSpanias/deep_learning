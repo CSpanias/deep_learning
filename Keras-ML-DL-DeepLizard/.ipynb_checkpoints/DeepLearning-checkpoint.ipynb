{
 "cells": [
  {
   "cell_type": "markdown",
   "metadata": {},
   "source": [
    "# Deep Learning Playlist\n",
    "### Discussion\n",
    "\n",
    "Deep learning terms and topics\n",
    "\n",
    "- Understand what they mean\n",
    "- How they fit in to the overall deep learning framework\n",
    "- How certain topics are implemented in code\n",
    "  - Using Keras"
   ]
  },
  {
   "cell_type": "markdown",
   "metadata": {},
   "source": [
    "## Machine Learning (ML)"
   ]
  },
  {
   "cell_type": "markdown",
   "metadata": {},
   "source": [
    "Machine Learning is the practice of using algorithms to analyze data, learn from that data, and then make a determination or prediction about new data. "
   ]
  },
  {
   "cell_type": "markdown",
   "metadata": {},
   "source": [
    "### Machine Learning vs. Traditional Programming"
   ]
  },
  {
   "cell_type": "markdown",
   "metadata": {},
   "source": [
    "Example: Analyzing the sentament of a popular media outlet and classifying that sentiment as positive or negative\n",
    "\n",
    "- Traditional Programming approach\n",
    " - The algorithm may first look for particular words associated with a negative or positive sentiment.\n",
    " - With conditional statements, the algorithm would classify articles as positive or negative based on the words that it knows are positive or negative.\n",
    " \n",
    "- Machine Learning approach\n",
    " - The algorithm would analyze large amounts of given media data and *learn* the features that classify what a negative article looks like versus a positive article.\n",
    " - With what it's learned, the algorithm could then classify new articles as positive or negative."
   ]
  },
  {
   "cell_type": "markdown",
   "metadata": {},
   "source": [
    "## Deep Learning (DL)"
   ]
  },
  {
   "cell_type": "markdown",
   "metadata": {},
   "source": [
    "This video will cover the most basic idea about what deep learning is and how it’s used. In later videos, we’ll be cover more detailed concepts, terms, and tools within the field of deep learning.\n",
    "\n",
    "**Definition:**\n",
    "\n",
    "- Deep learning is a subfield of machine learning that uses algorithms inspired by the structure and function of the brain’s neural networks. \n",
    "- As a subfield of ML, DL also algorithms to analyze data, learn from that data, and then make a determination or prediction about new data."
   ]
  },
  {
   "cell_type": "markdown",
   "metadata": {},
   "source": [
    "**Supervised Learning** occurs when your deep learning model learns and makes inferences from data that has already been *labeled*.\n",
    "\n",
    "**Unsupervised Learning** occurs when the model learns and makes inferences from *unlabeled* data. "
   ]
  },
  {
   "cell_type": "markdown",
   "metadata": {},
   "source": [
    "**Labeled vs. Unlabeled example**\n",
    "\n",
    "- Classify images of cats and dogs"
   ]
  },
  {
   "cell_type": "markdown",
   "metadata": {},
   "source": [
    "### Artificial Neural Networks"
   ]
  },
  {
   "cell_type": "markdown",
   "metadata": {},
   "source": [
    "Artificial neural networks are deep learning models that are based on the structure of the brain's neural networks. \n",
    "\n",
    "- Artificial neural networks are used interchangeably with the terms\n",
    "  - neural net\n",
    "  - net\n",
    "  - model"
   ]
  },
  {
   "cell_type": "markdown",
   "metadata": {},
   "source": [
    "## Artificial Neural Networks (ANNs)"
   ]
  },
  {
   "cell_type": "markdown",
   "metadata": {},
   "source": [
    "Artificial neural networks are computing systems that are inspired by the brain’s neural networks.\n",
    "\n",
    "- These networks are based on a collection of connected units called **artificial neurons**, or **neurons**. \n",
    "- Each connection between neurons can transmit a signal from one neuron to another. \n",
    "- The receiving neuron processes the signal and signals downstream neurons connected to it.\n",
    "- Neurons are organized in layers.\n",
    " - Input layer\n",
    " - Hidden layers\n",
    " - Output layer"
   ]
  },
  {
   "cell_type": "markdown",
   "metadata": {},
   "source": [
    "### Keras Sequential Model"
   ]
  },
  {
   "cell_type": "markdown",
   "metadata": {},
   "source": [
    "The Sequential model is a linear stack of layers."
   ]
  },
  {
   "cell_type": "code",
   "execution_count": 9,
   "metadata": {},
   "outputs": [],
   "source": [
    "from keras.models import Sequential\n",
    "from keras.layers import Dense, Activation\n",
    "\n",
    "model = Sequential([\n",
    "    # number of nodes, shape of input data, activation function\n",
    "    Dense(32, input_shape=(10,), activation='relu'),\n",
    "    # number of nodes, activation function\n",
    "    Dense(2, activation='softmax'),\n",
    "])"
   ]
  },
  {
   "cell_type": "markdown",
   "metadata": {
    "collapsed": true
   },
   "source": [
    "## Layers in an ANN"
   ]
  },
  {
   "cell_type": "markdown",
   "metadata": {
    "collapsed": true
   },
   "source": [
    "Artificial neural network are typically organized in layers. \n",
    "Different types of layers include\n",
    "\n",
    "- Dense (or fully connected) Layers\n",
    "- Convolutional layers\n",
    "- Pooling Layers\n",
    "- Recurrent Layers\n",
    "- Normalization Layers\n",
    "- Many others"
   ]
  },
  {
   "cell_type": "code",
   "execution_count": 10,
   "metadata": {},
   "outputs": [],
   "source": [
    "from keras.models import Sequential\n",
    "from keras.layers import Dense, Activation\n",
    "\n",
    "model = Sequential([\n",
    "    # input & hidden layer\n",
    "    Dense(5, input_shape=(3,), activation='relu'), # input_shape defines the input layer\n",
    "    # output layer\n",
    "    Dense(2, activation='softmax'),\n",
    "])"
   ]
  },
  {
   "cell_type": "code",
   "execution_count": 12,
   "metadata": {},
   "outputs": [
    {
     "ename": "FileNotFoundError",
     "evalue": "No such file: 'C:\\Users\\10inm\\deep_learning\\Keras-ML-DL-DeepLizard\\NN.PNG'",
     "output_type": "error",
     "traceback": [
      "\u001b[1;31m---------------------------------------------------------------------------\u001b[0m",
      "\u001b[1;31mFileNotFoundError\u001b[0m                         Traceback (most recent call last)",
      "\u001b[1;32m~\\AppData\\Local\\Temp/ipykernel_976/2878864925.py\u001b[0m in \u001b[0;36m<module>\u001b[1;34m\u001b[0m\n\u001b[0;32m      5\u001b[0m \u001b[0mget_ipython\u001b[0m\u001b[1;33m(\u001b[0m\u001b[1;33m)\u001b[0m\u001b[1;33m.\u001b[0m\u001b[0mrun_line_magic\u001b[0m\u001b[1;33m(\u001b[0m\u001b[1;34m'matplotlib'\u001b[0m\u001b[1;33m,\u001b[0m \u001b[1;34m'inline'\u001b[0m\u001b[1;33m)\u001b[0m\u001b[1;33m\u001b[0m\u001b[1;33m\u001b[0m\u001b[0m\n\u001b[0;32m      6\u001b[0m \u001b[1;33m\u001b[0m\u001b[0m\n\u001b[1;32m----> 7\u001b[1;33m \u001b[0mimg\u001b[0m \u001b[1;33m=\u001b[0m \u001b[0mnp\u001b[0m\u001b[1;33m.\u001b[0m\u001b[0mexpand_dims\u001b[0m\u001b[1;33m(\u001b[0m\u001b[0mimageio\u001b[0m\u001b[1;33m.\u001b[0m\u001b[0mimread\u001b[0m\u001b[1;33m(\u001b[0m\u001b[1;34m'NN.PNG'\u001b[0m\u001b[1;33m)\u001b[0m\u001b[1;33m,\u001b[0m\u001b[1;36m0\u001b[0m\u001b[1;33m)\u001b[0m\u001b[1;33m\u001b[0m\u001b[1;33m\u001b[0m\u001b[0m\n\u001b[0m\u001b[0;32m      8\u001b[0m \u001b[0mplt\u001b[0m\u001b[1;33m.\u001b[0m\u001b[0mimshow\u001b[0m\u001b[1;33m(\u001b[0m\u001b[0mimg\u001b[0m\u001b[1;33m[\u001b[0m\u001b[1;36m0\u001b[0m\u001b[1;33m]\u001b[0m\u001b[1;33m)\u001b[0m\u001b[1;33m\u001b[0m\u001b[1;33m\u001b[0m\u001b[0m\n",
      "\u001b[1;32mC:\\ProgramData\\Anaconda3\\lib\\site-packages\\imageio\\core\\functions.py\u001b[0m in \u001b[0;36mimread\u001b[1;34m(uri, format, **kwargs)\u001b[0m\n\u001b[0;32m    263\u001b[0m \u001b[1;33m\u001b[0m\u001b[0m\n\u001b[0;32m    264\u001b[0m     \u001b[1;31m# Get reader and read first\u001b[0m\u001b[1;33m\u001b[0m\u001b[1;33m\u001b[0m\u001b[0m\n\u001b[1;32m--> 265\u001b[1;33m     \u001b[0mreader\u001b[0m \u001b[1;33m=\u001b[0m \u001b[0mread\u001b[0m\u001b[1;33m(\u001b[0m\u001b[0muri\u001b[0m\u001b[1;33m,\u001b[0m \u001b[0mformat\u001b[0m\u001b[1;33m,\u001b[0m \u001b[1;34m\"i\"\u001b[0m\u001b[1;33m,\u001b[0m \u001b[1;33m**\u001b[0m\u001b[0mkwargs\u001b[0m\u001b[1;33m)\u001b[0m\u001b[1;33m\u001b[0m\u001b[1;33m\u001b[0m\u001b[0m\n\u001b[0m\u001b[0;32m    266\u001b[0m     \u001b[1;32mwith\u001b[0m \u001b[0mreader\u001b[0m\u001b[1;33m:\u001b[0m\u001b[1;33m\u001b[0m\u001b[1;33m\u001b[0m\u001b[0m\n\u001b[0;32m    267\u001b[0m         \u001b[1;32mreturn\u001b[0m \u001b[0mreader\u001b[0m\u001b[1;33m.\u001b[0m\u001b[0mget_data\u001b[0m\u001b[1;33m(\u001b[0m\u001b[1;36m0\u001b[0m\u001b[1;33m)\u001b[0m\u001b[1;33m\u001b[0m\u001b[1;33m\u001b[0m\u001b[0m\n",
      "\u001b[1;32mC:\\ProgramData\\Anaconda3\\lib\\site-packages\\imageio\\core\\functions.py\u001b[0m in \u001b[0;36mget_reader\u001b[1;34m(uri, format, mode, **kwargs)\u001b[0m\n\u001b[0;32m    170\u001b[0m \u001b[1;33m\u001b[0m\u001b[0m\n\u001b[0;32m    171\u001b[0m     \u001b[1;31m# Create request object\u001b[0m\u001b[1;33m\u001b[0m\u001b[1;33m\u001b[0m\u001b[0m\n\u001b[1;32m--> 172\u001b[1;33m     \u001b[0mrequest\u001b[0m \u001b[1;33m=\u001b[0m \u001b[0mRequest\u001b[0m\u001b[1;33m(\u001b[0m\u001b[0muri\u001b[0m\u001b[1;33m,\u001b[0m \u001b[1;34m\"r\"\u001b[0m \u001b[1;33m+\u001b[0m \u001b[0mmode\u001b[0m\u001b[1;33m,\u001b[0m \u001b[1;33m**\u001b[0m\u001b[0mkwargs\u001b[0m\u001b[1;33m)\u001b[0m\u001b[1;33m\u001b[0m\u001b[1;33m\u001b[0m\u001b[0m\n\u001b[0m\u001b[0;32m    173\u001b[0m \u001b[1;33m\u001b[0m\u001b[0m\n\u001b[0;32m    174\u001b[0m     \u001b[1;31m# Get format\u001b[0m\u001b[1;33m\u001b[0m\u001b[1;33m\u001b[0m\u001b[0m\n",
      "\u001b[1;32mC:\\ProgramData\\Anaconda3\\lib\\site-packages\\imageio\\core\\request.py\u001b[0m in \u001b[0;36m__init__\u001b[1;34m(self, uri, mode, **kwargs)\u001b[0m\n\u001b[0;32m    122\u001b[0m \u001b[1;33m\u001b[0m\u001b[0m\n\u001b[0;32m    123\u001b[0m         \u001b[1;31m# Parse what was given\u001b[0m\u001b[1;33m\u001b[0m\u001b[1;33m\u001b[0m\u001b[0m\n\u001b[1;32m--> 124\u001b[1;33m         \u001b[0mself\u001b[0m\u001b[1;33m.\u001b[0m\u001b[0m_parse_uri\u001b[0m\u001b[1;33m(\u001b[0m\u001b[0muri\u001b[0m\u001b[1;33m)\u001b[0m\u001b[1;33m\u001b[0m\u001b[1;33m\u001b[0m\u001b[0m\n\u001b[0m\u001b[0;32m    125\u001b[0m \u001b[1;33m\u001b[0m\u001b[0m\n\u001b[0;32m    126\u001b[0m         \u001b[1;31m# Set extension\u001b[0m\u001b[1;33m\u001b[0m\u001b[1;33m\u001b[0m\u001b[0m\n",
      "\u001b[1;32mC:\\ProgramData\\Anaconda3\\lib\\site-packages\\imageio\\core\\request.py\u001b[0m in \u001b[0;36m_parse_uri\u001b[1;34m(self, uri)\u001b[0m\n\u001b[0;32m    258\u001b[0m                 \u001b[1;31m# Reading: check that the file exists (but is allowed a dir)\u001b[0m\u001b[1;33m\u001b[0m\u001b[1;33m\u001b[0m\u001b[0m\n\u001b[0;32m    259\u001b[0m                 \u001b[1;32mif\u001b[0m \u001b[1;32mnot\u001b[0m \u001b[0mos\u001b[0m\u001b[1;33m.\u001b[0m\u001b[0mpath\u001b[0m\u001b[1;33m.\u001b[0m\u001b[0mexists\u001b[0m\u001b[1;33m(\u001b[0m\u001b[0mfn\u001b[0m\u001b[1;33m)\u001b[0m\u001b[1;33m:\u001b[0m\u001b[1;33m\u001b[0m\u001b[1;33m\u001b[0m\u001b[0m\n\u001b[1;32m--> 260\u001b[1;33m                     \u001b[1;32mraise\u001b[0m \u001b[0mFileNotFoundError\u001b[0m\u001b[1;33m(\u001b[0m\u001b[1;34m\"No such file: '%s'\"\u001b[0m \u001b[1;33m%\u001b[0m \u001b[0mfn\u001b[0m\u001b[1;33m)\u001b[0m\u001b[1;33m\u001b[0m\u001b[1;33m\u001b[0m\u001b[0m\n\u001b[0m\u001b[0;32m    261\u001b[0m             \u001b[1;32melse\u001b[0m\u001b[1;33m:\u001b[0m\u001b[1;33m\u001b[0m\u001b[1;33m\u001b[0m\u001b[0m\n\u001b[0;32m    262\u001b[0m                 \u001b[1;31m# Writing: check that the directory to write to does exist\u001b[0m\u001b[1;33m\u001b[0m\u001b[1;33m\u001b[0m\u001b[0m\n",
      "\u001b[1;31mFileNotFoundError\u001b[0m: No such file: 'C:\\Users\\10inm\\deep_learning\\Keras-ML-DL-DeepLizard\\NN.PNG'"
     ]
    }
   ],
   "source": [
    "import numpy as np\n",
    "import imageio\n",
    "from scipy import ndimage\n",
    "import matplotlib.pyplot as plt\n",
    "%matplotlib inline\n",
    "\n",
    "img = np.expand_dims(imageio.imread('NN.PNG'),0)\n",
    "plt.imshow(img[0])"
   ]
  },
  {
   "cell_type": "markdown",
   "metadata": {
    "collapsed": true
   },
   "source": [
    "## Activation Functions"
   ]
  },
  {
   "cell_type": "markdown",
   "metadata": {
    "collapsed": true
   },
   "source": [
    "In an artificial neural network, the activation function of a neuron defines the output of that neuron given a set of inputs.\n",
    "\n",
    "- Biologically inspired by activity in our brains, where different neurons fire, or are *activated*, by different stimuli. "
   ]
  },
  {
   "cell_type": "code",
   "execution_count": 43,
   "metadata": {
    "collapsed": true
   },
   "outputs": [],
   "source": [
    "from keras.models import Sequential\n",
    "from keras.layers import Dense, Activation\n",
    "\n",
    "model = Sequential([\n",
    "    Dense(5, input_shape=(3,), activation='relu')\n",
    "])"
   ]
  },
  {
   "cell_type": "code",
   "execution_count": 44,
   "metadata": {
    "collapsed": true
   },
   "outputs": [],
   "source": [
    "model = Sequential()\n",
    "model.add(Dense(5, input_shape=(3,)))\n",
    "model.add(Activation('relu'))"
   ]
  },
  {
   "cell_type": "markdown",
   "metadata": {},
   "source": [
    "### Pre-process data for training"
   ]
  },
  {
   "cell_type": "code",
   "execution_count": 1,
   "metadata": {},
   "outputs": [],
   "source": [
    "import numpy as np\n",
    "from random import randint\n",
    "from sklearn.preprocessing import MinMaxScaler"
   ]
  },
  {
   "cell_type": "code",
   "execution_count": 2,
   "metadata": {},
   "outputs": [],
   "source": [
    "train_labels =  []\n",
    "train_samples = []"
   ]
  },
  {
   "cell_type": "markdown",
   "metadata": {},
   "source": [
    "Example data: \n",
    "- An experiemental drug was tested on individuals from ages 13 to 100. \n",
    "- The trial had 2100 participants. Half were under 65 years old, half were over 65 years old.\n",
    "- 95% of patientes 65 or older experienced side effects.\n",
    "- 95% of patients under 65 experienced no side effects."
   ]
  },
  {
   "cell_type": "code",
   "execution_count": 3,
   "metadata": {},
   "outputs": [],
   "source": [
    "for i in range(50):\n",
    "    # The 5% of younger individuals who did experience side effects\n",
    "    random_younger = randint(13,64)\n",
    "    train_samples.append(random_younger)\n",
    "    train_labels.append(1)\n",
    "    \n",
    "    # The 5% of older individuals who did not experience side effects\n",
    "    random_older = randint(65,100)\n",
    "    train_samples.append(random_older)\n",
    "    train_labels.append(0)\n",
    "\n",
    "for i in range(1000):\n",
    "    # The 95% of younger individuals who did not experience side effects\n",
    "    random_younger = randint(13,64)\n",
    "    train_samples.append(random_younger)\n",
    "    train_labels.append(0)\n",
    "    \n",
    "    # The 95% of older individuals who did experience side effects\n",
    "    random_older = randint(65,100)\n",
    "    train_samples.append(random_older)\n",
    "    train_labels.append(1)"
   ]
  },
  {
   "cell_type": "code",
   "execution_count": 4,
   "metadata": {},
   "outputs": [],
   "source": [
    "train_labels = np.array(train_labels)\n",
    "train_samples = np.array(train_samples)"
   ]
  },
  {
   "cell_type": "code",
   "execution_count": 5,
   "metadata": {},
   "outputs": [],
   "source": [
    "scaler = MinMaxScaler(feature_range=(0,1))\n",
    "scaled_train_samples = scaler.fit_transform((train_samples).reshape(-1,1))"
   ]
  },
  {
   "cell_type": "code",
   "execution_count": 8,
   "metadata": {
    "scrolled": true
   },
   "outputs": [
    {
     "ename": "FileNotFoundError",
     "evalue": "No such file: 'C:\\Users\\10inm\\deep_learning\\Keras-ML-DL-DeepLizard\\NN.PNG'",
     "output_type": "error",
     "traceback": [
      "\u001b[1;31m---------------------------------------------------------------------------\u001b[0m",
      "\u001b[1;31mFileNotFoundError\u001b[0m                         Traceback (most recent call last)",
      "\u001b[1;32m~\\AppData\\Local\\Temp/ipykernel_976/2284919285.py\u001b[0m in \u001b[0;36m<module>\u001b[1;34m\u001b[0m\n\u001b[0;32m      5\u001b[0m \u001b[0mget_ipython\u001b[0m\u001b[1;33m(\u001b[0m\u001b[1;33m)\u001b[0m\u001b[1;33m.\u001b[0m\u001b[0mrun_line_magic\u001b[0m\u001b[1;33m(\u001b[0m\u001b[1;34m'matplotlib'\u001b[0m\u001b[1;33m,\u001b[0m \u001b[1;34m'inline'\u001b[0m\u001b[1;33m)\u001b[0m\u001b[1;33m\u001b[0m\u001b[1;33m\u001b[0m\u001b[0m\n\u001b[0;32m      6\u001b[0m \u001b[1;33m\u001b[0m\u001b[0m\n\u001b[1;32m----> 7\u001b[1;33m \u001b[0mimg\u001b[0m \u001b[1;33m=\u001b[0m \u001b[0mnp\u001b[0m\u001b[1;33m.\u001b[0m\u001b[0mexpand_dims\u001b[0m\u001b[1;33m(\u001b[0m\u001b[0mimageio\u001b[0m\u001b[1;33m.\u001b[0m\u001b[0mimread\u001b[0m\u001b[1;33m(\u001b[0m\u001b[1;34m'NN.PNG'\u001b[0m\u001b[1;33m)\u001b[0m\u001b[1;33m,\u001b[0m\u001b[1;36m0\u001b[0m\u001b[1;33m)\u001b[0m\u001b[1;33m\u001b[0m\u001b[1;33m\u001b[0m\u001b[0m\n\u001b[0m\u001b[0;32m      8\u001b[0m \u001b[0mplt\u001b[0m\u001b[1;33m.\u001b[0m\u001b[0mimshow\u001b[0m\u001b[1;33m(\u001b[0m\u001b[0mimg\u001b[0m\u001b[1;33m[\u001b[0m\u001b[1;36m0\u001b[0m\u001b[1;33m]\u001b[0m\u001b[1;33m)\u001b[0m\u001b[1;33m\u001b[0m\u001b[1;33m\u001b[0m\u001b[0m\n",
      "\u001b[1;32mC:\\ProgramData\\Anaconda3\\lib\\site-packages\\imageio\\core\\functions.py\u001b[0m in \u001b[0;36mimread\u001b[1;34m(uri, format, **kwargs)\u001b[0m\n\u001b[0;32m    263\u001b[0m \u001b[1;33m\u001b[0m\u001b[0m\n\u001b[0;32m    264\u001b[0m     \u001b[1;31m# Get reader and read first\u001b[0m\u001b[1;33m\u001b[0m\u001b[1;33m\u001b[0m\u001b[0m\n\u001b[1;32m--> 265\u001b[1;33m     \u001b[0mreader\u001b[0m \u001b[1;33m=\u001b[0m \u001b[0mread\u001b[0m\u001b[1;33m(\u001b[0m\u001b[0muri\u001b[0m\u001b[1;33m,\u001b[0m \u001b[0mformat\u001b[0m\u001b[1;33m,\u001b[0m \u001b[1;34m\"i\"\u001b[0m\u001b[1;33m,\u001b[0m \u001b[1;33m**\u001b[0m\u001b[0mkwargs\u001b[0m\u001b[1;33m)\u001b[0m\u001b[1;33m\u001b[0m\u001b[1;33m\u001b[0m\u001b[0m\n\u001b[0m\u001b[0;32m    266\u001b[0m     \u001b[1;32mwith\u001b[0m \u001b[0mreader\u001b[0m\u001b[1;33m:\u001b[0m\u001b[1;33m\u001b[0m\u001b[1;33m\u001b[0m\u001b[0m\n\u001b[0;32m    267\u001b[0m         \u001b[1;32mreturn\u001b[0m \u001b[0mreader\u001b[0m\u001b[1;33m.\u001b[0m\u001b[0mget_data\u001b[0m\u001b[1;33m(\u001b[0m\u001b[1;36m0\u001b[0m\u001b[1;33m)\u001b[0m\u001b[1;33m\u001b[0m\u001b[1;33m\u001b[0m\u001b[0m\n",
      "\u001b[1;32mC:\\ProgramData\\Anaconda3\\lib\\site-packages\\imageio\\core\\functions.py\u001b[0m in \u001b[0;36mget_reader\u001b[1;34m(uri, format, mode, **kwargs)\u001b[0m\n\u001b[0;32m    170\u001b[0m \u001b[1;33m\u001b[0m\u001b[0m\n\u001b[0;32m    171\u001b[0m     \u001b[1;31m# Create request object\u001b[0m\u001b[1;33m\u001b[0m\u001b[1;33m\u001b[0m\u001b[0m\n\u001b[1;32m--> 172\u001b[1;33m     \u001b[0mrequest\u001b[0m \u001b[1;33m=\u001b[0m \u001b[0mRequest\u001b[0m\u001b[1;33m(\u001b[0m\u001b[0muri\u001b[0m\u001b[1;33m,\u001b[0m \u001b[1;34m\"r\"\u001b[0m \u001b[1;33m+\u001b[0m \u001b[0mmode\u001b[0m\u001b[1;33m,\u001b[0m \u001b[1;33m**\u001b[0m\u001b[0mkwargs\u001b[0m\u001b[1;33m)\u001b[0m\u001b[1;33m\u001b[0m\u001b[1;33m\u001b[0m\u001b[0m\n\u001b[0m\u001b[0;32m    173\u001b[0m \u001b[1;33m\u001b[0m\u001b[0m\n\u001b[0;32m    174\u001b[0m     \u001b[1;31m# Get format\u001b[0m\u001b[1;33m\u001b[0m\u001b[1;33m\u001b[0m\u001b[0m\n",
      "\u001b[1;32mC:\\ProgramData\\Anaconda3\\lib\\site-packages\\imageio\\core\\request.py\u001b[0m in \u001b[0;36m__init__\u001b[1;34m(self, uri, mode, **kwargs)\u001b[0m\n\u001b[0;32m    122\u001b[0m \u001b[1;33m\u001b[0m\u001b[0m\n\u001b[0;32m    123\u001b[0m         \u001b[1;31m# Parse what was given\u001b[0m\u001b[1;33m\u001b[0m\u001b[1;33m\u001b[0m\u001b[0m\n\u001b[1;32m--> 124\u001b[1;33m         \u001b[0mself\u001b[0m\u001b[1;33m.\u001b[0m\u001b[0m_parse_uri\u001b[0m\u001b[1;33m(\u001b[0m\u001b[0muri\u001b[0m\u001b[1;33m)\u001b[0m\u001b[1;33m\u001b[0m\u001b[1;33m\u001b[0m\u001b[0m\n\u001b[0m\u001b[0;32m    125\u001b[0m \u001b[1;33m\u001b[0m\u001b[0m\n\u001b[0;32m    126\u001b[0m         \u001b[1;31m# Set extension\u001b[0m\u001b[1;33m\u001b[0m\u001b[1;33m\u001b[0m\u001b[0m\n",
      "\u001b[1;32mC:\\ProgramData\\Anaconda3\\lib\\site-packages\\imageio\\core\\request.py\u001b[0m in \u001b[0;36m_parse_uri\u001b[1;34m(self, uri)\u001b[0m\n\u001b[0;32m    258\u001b[0m                 \u001b[1;31m# Reading: check that the file exists (but is allowed a dir)\u001b[0m\u001b[1;33m\u001b[0m\u001b[1;33m\u001b[0m\u001b[0m\n\u001b[0;32m    259\u001b[0m                 \u001b[1;32mif\u001b[0m \u001b[1;32mnot\u001b[0m \u001b[0mos\u001b[0m\u001b[1;33m.\u001b[0m\u001b[0mpath\u001b[0m\u001b[1;33m.\u001b[0m\u001b[0mexists\u001b[0m\u001b[1;33m(\u001b[0m\u001b[0mfn\u001b[0m\u001b[1;33m)\u001b[0m\u001b[1;33m:\u001b[0m\u001b[1;33m\u001b[0m\u001b[1;33m\u001b[0m\u001b[0m\n\u001b[1;32m--> 260\u001b[1;33m                     \u001b[1;32mraise\u001b[0m \u001b[0mFileNotFoundError\u001b[0m\u001b[1;33m(\u001b[0m\u001b[1;34m\"No such file: '%s'\"\u001b[0m \u001b[1;33m%\u001b[0m \u001b[0mfn\u001b[0m\u001b[1;33m)\u001b[0m\u001b[1;33m\u001b[0m\u001b[1;33m\u001b[0m\u001b[0m\n\u001b[0m\u001b[0;32m    261\u001b[0m             \u001b[1;32melse\u001b[0m\u001b[1;33m:\u001b[0m\u001b[1;33m\u001b[0m\u001b[1;33m\u001b[0m\u001b[0m\n\u001b[0;32m    262\u001b[0m                 \u001b[1;31m# Writing: check that the directory to write to does exist\u001b[0m\u001b[1;33m\u001b[0m\u001b[1;33m\u001b[0m\u001b[0m\n",
      "\u001b[1;31mFileNotFoundError\u001b[0m: No such file: 'C:\\Users\\10inm\\deep_learning\\Keras-ML-DL-DeepLizard\\NN.PNG'"
     ]
    }
   ],
   "source": [
    "import numpy as np\n",
    "from scipy import ndimage\n",
    "import imageio\n",
    "import matplotlib.pyplot as plt\n",
    "%matplotlib inline\n",
    "\n",
    "img = np.expand_dims(imageio.imread('NN.PNG'),0)\n",
    "plt.imshow(img[0])"
   ]
  },
  {
   "cell_type": "markdown",
   "metadata": {
    "collapsed": true
   },
   "source": [
    "## Training"
   ]
  },
  {
   "cell_type": "markdown",
   "metadata": {
    "collapsed": true
   },
   "source": [
    "Solving an optimization problem\n",
    " - Optimizing weights \n",
    "  - with Stochastic Gradient Descent (SGD)\n",
    " - Objective: Minimize the loss function"
   ]
  },
  {
   "cell_type": "markdown",
   "metadata": {},
   "source": [
    "## Learning"
   ]
  },
  {
   "cell_type": "code",
   "execution_count": 15,
   "metadata": {},
   "outputs": [],
   "source": [
    "import keras\n",
    "from keras import backend as K\n",
    "from keras.models import Sequential\n",
    "from keras.layers import Activation\n",
    "from keras.layers.core import Dense\n",
    "from tensorflow.keras.optimizers import Adam\n",
    "from keras.metrics import categorical_crossentropy"
   ]
  },
  {
   "cell_type": "code",
   "execution_count": 16,
   "metadata": {},
   "outputs": [],
   "source": [
    "model = Sequential([\n",
    "    Dense(16, input_shape=(1,), activation='relu'),\n",
    "    Dense(32, activation='relu'),\n",
    "    Dense(2, activation='sigmoid')\n",
    "])"
   ]
  },
  {
   "cell_type": "code",
   "execution_count": 18,
   "metadata": {},
   "outputs": [],
   "source": [
    "model.compile(Adam(learning_rate=.0001), loss='sparse_categorical_crossentropy', metrics=['accuracy'])"
   ]
  },
  {
   "cell_type": "code",
   "execution_count": 19,
   "metadata": {},
   "outputs": [],
   "source": [
    "model.loss = 'sparse_categorical_crossentropy'"
   ]
  },
  {
   "cell_type": "code",
   "execution_count": 20,
   "metadata": {},
   "outputs": [
    {
     "data": {
      "text/plain": [
       "'sparse_categorical_crossentropy'"
      ]
     },
     "execution_count": 20,
     "metadata": {},
     "output_type": "execute_result"
    }
   ],
   "source": [
    "model.loss"
   ]
  },
  {
   "cell_type": "code",
   "execution_count": 21,
   "metadata": {},
   "outputs": [
    {
     "name": "stdout",
     "output_type": "stream",
     "text": [
      "Epoch 1/20\n",
      "210/210 - 1s - loss: 0.7161 - accuracy: 0.4400 - 757ms/epoch - 4ms/step\n",
      "Epoch 2/20\n",
      "210/210 - 0s - loss: 0.6720 - accuracy: 0.5662 - 153ms/epoch - 728us/step\n",
      "Epoch 3/20\n",
      "210/210 - 0s - loss: 0.6365 - accuracy: 0.6657 - 183ms/epoch - 871us/step\n",
      "Epoch 4/20\n",
      "210/210 - 0s - loss: 0.6029 - accuracy: 0.7190 - 154ms/epoch - 733us/step\n",
      "Epoch 5/20\n",
      "210/210 - 0s - loss: 0.5722 - accuracy: 0.7714 - 160ms/epoch - 764us/step\n",
      "Epoch 6/20\n",
      "210/210 - 0s - loss: 0.5417 - accuracy: 0.8014 - 163ms/epoch - 776us/step\n",
      "Epoch 7/20\n",
      "210/210 - 0s - loss: 0.5116 - accuracy: 0.8257 - 176ms/epoch - 837us/step\n",
      "Epoch 8/20\n",
      "210/210 - 0s - loss: 0.4823 - accuracy: 0.8429 - 173ms/epoch - 826us/step\n",
      "Epoch 9/20\n",
      "210/210 - 0s - loss: 0.4539 - accuracy: 0.8614 - 183ms/epoch - 869us/step\n",
      "Epoch 10/20\n",
      "210/210 - 0s - loss: 0.4272 - accuracy: 0.8714 - 255ms/epoch - 1ms/step\n",
      "Epoch 11/20\n",
      "210/210 - 0s - loss: 0.4026 - accuracy: 0.8852 - 174ms/epoch - 830us/step\n",
      "Epoch 12/20\n",
      "210/210 - 0s - loss: 0.3804 - accuracy: 0.8929 - 181ms/epoch - 860us/step\n",
      "Epoch 13/20\n",
      "210/210 - 0s - loss: 0.3608 - accuracy: 0.9052 - 179ms/epoch - 855us/step\n",
      "Epoch 14/20\n",
      "210/210 - 0s - loss: 0.3444 - accuracy: 0.9095 - 167ms/epoch - 793us/step\n",
      "Epoch 15/20\n",
      "210/210 - 0s - loss: 0.3305 - accuracy: 0.9148 - 176ms/epoch - 840us/step\n",
      "Epoch 16/20\n",
      "210/210 - 0s - loss: 0.3189 - accuracy: 0.9190 - 169ms/epoch - 806us/step\n",
      "Epoch 17/20\n",
      "210/210 - 0s - loss: 0.3094 - accuracy: 0.9181 - 200ms/epoch - 951us/step\n",
      "Epoch 18/20\n",
      "210/210 - 0s - loss: 0.3015 - accuracy: 0.9252 - 158ms/epoch - 754us/step\n",
      "Epoch 19/20\n",
      "210/210 - 0s - loss: 0.2949 - accuracy: 0.9252 - 226ms/epoch - 1ms/step\n",
      "Epoch 20/20\n",
      "210/210 - 0s - loss: 0.2896 - accuracy: 0.9257 - 138ms/epoch - 659us/step\n"
     ]
    },
    {
     "data": {
      "text/plain": [
       "<keras.callbacks.History at 0x2443f3c1610>"
      ]
     },
     "execution_count": 21,
     "metadata": {},
     "output_type": "execute_result"
    }
   ],
   "source": [
    "model.fit(scaled_train_samples, train_labels, batch_size=10, epochs=20, shuffle=True, verbose=2)"
   ]
  },
  {
   "cell_type": "markdown",
   "metadata": {},
   "source": [
    "## Data Sets"
   ]
  },
  {
   "cell_type": "code",
   "execution_count": 22,
   "metadata": {},
   "outputs": [
    {
     "data": {
      "text/plain": [
       "array([[0.47126437],\n",
       "       [0.81609195],\n",
       "       [0.57471264],\n",
       "       ...,\n",
       "       [0.82758621],\n",
       "       [0.26436782],\n",
       "       [0.72413793]])"
      ]
     },
     "execution_count": 22,
     "metadata": {},
     "output_type": "execute_result"
    }
   ],
   "source": [
    "scaled_train_samples"
   ]
  },
  {
   "cell_type": "code",
   "execution_count": 23,
   "metadata": {},
   "outputs": [
    {
     "data": {
      "text/plain": [
       "array([1, 0, 1, ..., 1, 0, 1])"
      ]
     },
     "execution_count": 23,
     "metadata": {},
     "output_type": "execute_result"
    }
   ],
   "source": [
    "train_labels"
   ]
  },
  {
   "cell_type": "code",
   "execution_count": 24,
   "metadata": {},
   "outputs": [
    {
     "name": "stdout",
     "output_type": "stream",
     "text": [
      "Epoch 1/20\n",
      "168/168 - 0s - loss: 0.3083 - accuracy: 0.9185 - val_loss: 0.1940 - val_accuracy: 0.9714 - 376ms/epoch - 2ms/step\n",
      "Epoch 2/20\n",
      "168/168 - 0s - loss: 0.3061 - accuracy: 0.9173 - val_loss: 0.1901 - val_accuracy: 0.9786 - 185ms/epoch - 1ms/step\n",
      "Epoch 3/20\n",
      "168/168 - 0s - loss: 0.3044 - accuracy: 0.9196 - val_loss: 0.1860 - val_accuracy: 0.9714 - 191ms/epoch - 1ms/step\n",
      "Epoch 4/20\n",
      "168/168 - 0s - loss: 0.3025 - accuracy: 0.9149 - val_loss: 0.1832 - val_accuracy: 0.9786 - 182ms/epoch - 1ms/step\n",
      "Epoch 5/20\n",
      "168/168 - 0s - loss: 0.3013 - accuracy: 0.9220 - val_loss: 0.1796 - val_accuracy: 0.9714 - 184ms/epoch - 1ms/step\n",
      "Epoch 6/20\n",
      "168/168 - 0s - loss: 0.2999 - accuracy: 0.9185 - val_loss: 0.1774 - val_accuracy: 0.9786 - 225ms/epoch - 1ms/step\n",
      "Epoch 7/20\n",
      "168/168 - 0s - loss: 0.2984 - accuracy: 0.9232 - val_loss: 0.1744 - val_accuracy: 0.9786 - 186ms/epoch - 1ms/step\n",
      "Epoch 8/20\n",
      "168/168 - 0s - loss: 0.2973 - accuracy: 0.9220 - val_loss: 0.1723 - val_accuracy: 0.9786 - 201ms/epoch - 1ms/step\n",
      "Epoch 9/20\n",
      "168/168 - 0s - loss: 0.2963 - accuracy: 0.9226 - val_loss: 0.1702 - val_accuracy: 0.9714 - 187ms/epoch - 1ms/step\n",
      "Epoch 10/20\n",
      "168/168 - 0s - loss: 0.2954 - accuracy: 0.9208 - val_loss: 0.1681 - val_accuracy: 0.9786 - 175ms/epoch - 1ms/step\n",
      "Epoch 11/20\n",
      "168/168 - 0s - loss: 0.2944 - accuracy: 0.9232 - val_loss: 0.1664 - val_accuracy: 0.9786 - 192ms/epoch - 1ms/step\n",
      "Epoch 12/20\n",
      "168/168 - 0s - loss: 0.2934 - accuracy: 0.9232 - val_loss: 0.1647 - val_accuracy: 0.9786 - 180ms/epoch - 1ms/step\n",
      "Epoch 13/20\n",
      "168/168 - 0s - loss: 0.2926 - accuracy: 0.9232 - val_loss: 0.1633 - val_accuracy: 0.9786 - 183ms/epoch - 1ms/step\n",
      "Epoch 14/20\n",
      "168/168 - 0s - loss: 0.2919 - accuracy: 0.9232 - val_loss: 0.1618 - val_accuracy: 0.9786 - 201ms/epoch - 1ms/step\n",
      "Epoch 15/20\n",
      "168/168 - 0s - loss: 0.2914 - accuracy: 0.9232 - val_loss: 0.1603 - val_accuracy: 0.9786 - 221ms/epoch - 1ms/step\n",
      "Epoch 16/20\n",
      "168/168 - 0s - loss: 0.2906 - accuracy: 0.9232 - val_loss: 0.1590 - val_accuracy: 0.9786 - 276ms/epoch - 2ms/step\n",
      "Epoch 17/20\n",
      "168/168 - 0s - loss: 0.2901 - accuracy: 0.9232 - val_loss: 0.1577 - val_accuracy: 0.9786 - 197ms/epoch - 1ms/step\n",
      "Epoch 18/20\n",
      "168/168 - 0s - loss: 0.2893 - accuracy: 0.9232 - val_loss: 0.1567 - val_accuracy: 0.9786 - 172ms/epoch - 1ms/step\n",
      "Epoch 19/20\n",
      "168/168 - 0s - loss: 0.2887 - accuracy: 0.9238 - val_loss: 0.1555 - val_accuracy: 0.9786 - 186ms/epoch - 1ms/step\n",
      "Epoch 20/20\n",
      "168/168 - 0s - loss: 0.2884 - accuracy: 0.9232 - val_loss: 0.1544 - val_accuracy: 0.9786 - 182ms/epoch - 1ms/step\n"
     ]
    },
    {
     "data": {
      "text/plain": [
       "<keras.callbacks.History at 0x2443f80cca0>"
      ]
     },
     "execution_count": 24,
     "metadata": {},
     "output_type": "execute_result"
    }
   ],
   "source": [
    "model.fit(scaled_train_samples, train_labels, validation_split = 0.20, batch_size=10, \n",
    "          epochs=20, shuffle=True, verbose=2)"
   ]
  },
  {
   "cell_type": "code",
   "execution_count": 33,
   "metadata": {},
   "outputs": [],
   "source": [
    "# valid_set = [(sample, label), (sample, label), ... , (sample, label)]"
   ]
  },
  {
   "cell_type": "code",
   "execution_count": 34,
   "metadata": {},
   "outputs": [],
   "source": [
    "# model.fit(scaled_train_samples, train_labels, validation_data = valid_set, batch_size=10, \n",
    "#          epochs=20, shuffle=True, verbose=2)"
   ]
  },
  {
   "cell_type": "markdown",
   "metadata": {},
   "source": [
    "## Regularization"
   ]
  },
  {
   "cell_type": "code",
   "execution_count": 28,
   "metadata": {},
   "outputs": [],
   "source": [
    "import keras\n",
    "from keras import backend as K\n",
    "from keras.models import Sequential\n",
    "from keras.layers import Activation\n",
    "from keras.layers.core import Dense\n",
    "from tensorflow.keras.optimizers import Adam\n",
    "from keras import regularizers"
   ]
  },
  {
   "cell_type": "code",
   "execution_count": 29,
   "metadata": {},
   "outputs": [],
   "source": [
    "model = Sequential([\n",
    "    Dense(16, input_shape=(1,), activation='relu'),\n",
    "    Dense(32, activation='relu', kernel_regularizer=regularizers.l2(0.01)),\n",
    "    Dense(2, activation='sigmoid')\n",
    "])"
   ]
  },
  {
   "cell_type": "markdown",
   "metadata": {},
   "source": [
    "## Learning Rate"
   ]
  },
  {
   "cell_type": "code",
   "execution_count": 116,
   "metadata": {
    "collapsed": true
   },
   "outputs": [],
   "source": [
    "model.compile(Adam(lr=0.0001), loss='sparse_categorical_crossentropy', metrics=['accuracy'])"
   ]
  },
  {
   "cell_type": "code",
   "execution_count": 120,
   "metadata": {},
   "outputs": [],
   "source": [
    "model.optimizer.lr = 0.01"
   ]
  },
  {
   "cell_type": "code",
   "execution_count": 122,
   "metadata": {},
   "outputs": [
    {
     "data": {
      "text/plain": [
       "0.01"
      ]
     },
     "execution_count": 122,
     "metadata": {},
     "output_type": "execute_result"
    }
   ],
   "source": [
    "model.optimizer.lr"
   ]
  },
  {
   "cell_type": "markdown",
   "metadata": {},
   "source": [
    "## Batch Size"
   ]
  },
  {
   "cell_type": "code",
   "execution_count": 31,
   "metadata": {},
   "outputs": [
    {
     "data": {
      "text/plain": [
       "array([[0.47126437],\n",
       "       [0.81609195],\n",
       "       [0.57471264],\n",
       "       ...,\n",
       "       [0.82758621],\n",
       "       [0.26436782],\n",
       "       [0.72413793]])"
      ]
     },
     "execution_count": 31,
     "metadata": {},
     "output_type": "execute_result"
    }
   ],
   "source": [
    "scaled_train_samples"
   ]
  },
  {
   "cell_type": "code",
   "execution_count": 32,
   "metadata": {},
   "outputs": [
    {
     "ename": "NameError",
     "evalue": "name 'valid_set' is not defined",
     "output_type": "error",
     "traceback": [
      "\u001b[1;31m---------------------------------------------------------------------------\u001b[0m",
      "\u001b[1;31mNameError\u001b[0m                                 Traceback (most recent call last)",
      "\u001b[1;32m~\\AppData\\Local\\Temp/ipykernel_976/3892575980.py\u001b[0m in \u001b[0;36m<module>\u001b[1;34m\u001b[0m\n\u001b[1;32m----> 1\u001b[1;33m model.fit(scaled_train_samples, train_labels, validation_data = valid_set, batch_size=10, \n\u001b[0m\u001b[0;32m      2\u001b[0m           epochs=20, shuffle=True, verbose=2)\n",
      "\u001b[1;31mNameError\u001b[0m: name 'valid_set' is not defined"
     ]
    }
   ],
   "source": [
    "model.fit(scaled_train_samples, train_labels, validation_data = valid_set, batch_size=10, \n",
    "          epochs=20, shuffle=True, verbose=2)"
   ]
  },
  {
   "cell_type": "markdown",
   "metadata": {
    "collapsed": true
   },
   "source": [
    "## Predicting"
   ]
  },
  {
   "cell_type": "code",
   "execution_count": 18,
   "metadata": {},
   "outputs": [],
   "source": [
    "import keras\n",
    "from keras import backend as K\n",
    "from keras.models import Sequential\n",
    "from keras.layers import Activation\n",
    "from keras.layers.core import Dense\n",
    "from keras.optimizers import Adam\n",
    "from keras.metrics import categorical_crossentropy"
   ]
  },
  {
   "cell_type": "code",
   "execution_count": 63,
   "metadata": {},
   "outputs": [],
   "source": [
    "model = Sequential([\n",
    "    Dense(16, input_shape=(1,), activation='relu'),\n",
    "    Dense(32, activation='relu'),\n",
    "    Dense(2, activation='sigmoid')\n",
    "])"
   ]
  },
  {
   "cell_type": "code",
   "execution_count": 64,
   "metadata": {},
   "outputs": [],
   "source": [
    "model.compile(Adam(lr=.0001), loss='sparse_categorical_crossentropy', metrics=['accuracy'])"
   ]
  },
  {
   "cell_type": "code",
   "execution_count": 65,
   "metadata": {},
   "outputs": [
    {
     "name": "stdout",
     "output_type": "stream",
     "text": [
      "Epoch 1/20\n",
      "0s - loss: 0.6933 - acc: 0.6419\n",
      "Epoch 2/20\n",
      "0s - loss: 0.6710 - acc: 0.7857\n",
      "Epoch 3/20\n",
      "0s - loss: 0.6397 - acc: 0.8443\n",
      "Epoch 4/20\n",
      "0s - loss: 0.6061 - acc: 0.8476\n",
      "Epoch 5/20\n",
      "0s - loss: 0.5678 - acc: 0.8505\n",
      "Epoch 6/20\n",
      "0s - loss: 0.5228 - acc: 0.8600\n",
      "Epoch 7/20\n",
      "0s - loss: 0.4681 - acc: 0.8733\n",
      "Epoch 8/20\n",
      "0s - loss: 0.4105 - acc: 0.8962\n",
      "Epoch 9/20\n",
      "0s - loss: 0.3670 - acc: 0.9119\n",
      "Epoch 10/20\n",
      "0s - loss: 0.3329 - acc: 0.9167\n",
      "Epoch 11/20\n",
      "0s - loss: 0.3100 - acc: 0.9243\n",
      "Epoch 12/20\n",
      "0s - loss: 0.2925 - acc: 0.9271\n",
      "Epoch 13/20\n",
      "0s - loss: 0.2820 - acc: 0.9300\n",
      "Epoch 14/20\n",
      "0s - loss: 0.2757 - acc: 0.9338\n",
      "Epoch 15/20\n",
      "0s - loss: 0.2712 - acc: 0.9319\n",
      "Epoch 16/20\n",
      "0s - loss: 0.2681 - acc: 0.9381\n",
      "Epoch 17/20\n",
      "0s - loss: 0.2655 - acc: 0.9376\n",
      "Epoch 18/20\n",
      "0s - loss: 0.2634 - acc: 0.9352\n",
      "Epoch 19/20\n",
      "0s - loss: 0.2618 - acc: 0.9390\n",
      "Epoch 20/20\n",
      "0s - loss: 0.2603 - acc: 0.9352\n"
     ]
    },
    {
     "data": {
      "text/plain": [
       "<keras.callbacks.History at 0x7fa8f1d9fb38>"
      ]
     },
     "execution_count": 65,
     "metadata": {},
     "output_type": "execute_result"
    }
   ],
   "source": [
    "model.fit(scaled_train_samples, train_labels, batch_size=10, epochs=20, shuffle=True, verbose=2)"
   ]
  },
  {
   "cell_type": "code",
   "execution_count": 22,
   "metadata": {},
   "outputs": [
    {
     "name": "stderr",
     "output_type": "stream",
     "text": [
      "/home/epoch/anaconda2/envs/fastai34/lib/python3.4/site-packages/sklearn/utils/validation.py:429: DataConversionWarning: Data with input dtype int64 was converted to float64 by MinMaxScaler.\n",
      "  warnings.warn(msg, _DataConversionWarning)\n"
     ]
    }
   ],
   "source": [
    "# Preprocess test data\n",
    "\n",
    "test_labels =  []\n",
    "test_samples = []\n",
    "\n",
    "for i in range(10):\n",
    "    # The 5% of younger individuals who did experience side effects\n",
    "    random_younger = randint(13,64)\n",
    "    test_samples.append(random_younger)\n",
    "    test_labels.append(1)\n",
    "    \n",
    "    # The 5% of older individuals who did not experience side effects\n",
    "    random_older = randint(65,100)\n",
    "    test_samples.append(random_older)\n",
    "    test_labels.append(0)\n",
    "\n",
    "for i in range(200):\n",
    "    # The 95% of younger individuals who did not experience side effects\n",
    "    random_younger = randint(13,64)\n",
    "    test_samples.append(random_younger)\n",
    "    test_labels.append(0)\n",
    "    \n",
    "    # The 95% of older individuals who did experience side effects\n",
    "    random_older = randint(65,100)\n",
    "    test_samples.append(random_older)\n",
    "    test_labels.append(1)\n",
    "    \n",
    "test_labels = np.array(test_labels)\n",
    "test_samples = np.array(test_samples)\n",
    "\n",
    "scaler = MinMaxScaler(feature_range=(0,1))\n",
    "scaled_test_samples = scaler.fit_transform((test_samples).reshape(-1,1))"
   ]
  },
  {
   "cell_type": "code",
   "execution_count": 23,
   "metadata": {
    "collapsed": true
   },
   "outputs": [],
   "source": [
    "predictions = model.predict(scaled_test_samples, batch_size=10, verbose=0) "
   ]
  },
  {
   "cell_type": "code",
   "execution_count": 24,
   "metadata": {},
   "outputs": [
    {
     "name": "stdout",
     "output_type": "stream",
     "text": [
      "[ 0.28293326  0.35764667]\n",
      "[ 0.26525486  0.37844887]\n",
      "[ 0.85707456  0.04403995]\n",
      "[ 0.0979089   0.67903334]\n",
      "[ 0.87152088  0.04061354]\n",
      "[ 0.04943148  0.85192239]\n",
      "[ 0.880009   0.0379883]\n",
      "[ 0.12007324  0.61951774]\n",
      "[ 0.64052224  0.10959   ]\n",
      "[ 0.13958886  0.5766331 ]\n",
      "[ 0.82027066  0.0517699 ]\n",
      "[ 0.04943148  0.85192239]\n",
      "[ 0.87042195  0.04095384]\n",
      "[ 0.23208363  0.42135212]\n",
      "[ 0.77739257  0.06212683]\n",
      "[ 0.23208363  0.42135212]\n",
      "[ 0.8121165   0.05363343]\n",
      "[ 0.06808709  0.7811752 ]\n",
      "[ 0.85707456  0.04403995]\n",
      "[ 0.0430468   0.87568933]\n",
      "[ 0.880009   0.0379883]\n",
      "[ 0.18797709  0.48778817]\n",
      "[ 0.83300829  0.04906356]\n",
      "[ 0.07451599  0.7569769 ]\n",
      "[ 0.32034045  0.31766897]\n",
      "[ 0.24829839  0.39970824]\n",
      "[ 0.85979176  0.04345375]\n",
      "[ 0.09193034  0.69722801]\n",
      "[ 0.87477005  0.0396088 ]\n",
      "[ 0.10429112  0.66016704]\n",
      "[ 0.42364404  0.22938529]\n",
      "[ 0.21662255  0.44330263]\n",
      "[ 0.84821194  0.04590416]\n",
      "[ 0.0430468   0.87568933]\n",
      "[ 0.82027066  0.0517699 ]\n",
      "[ 0.06808709  0.7811752 ]\n",
      "[ 0.87042195  0.04095384]\n",
      "[ 0.04120404  0.88207549]\n",
      "[ 0.86930537  0.04130033]\n",
      "[ 0.20192057  0.46547687]\n",
      "[ 0.64052224  0.10959   ]\n",
      "[ 0.04120404  0.88207549]\n",
      "[ 0.87477005  0.0396088 ]\n",
      "[ 0.04943148  0.85192239]\n",
      "[ 0.87152088  0.04061354]\n",
      "[ 0.26525486  0.37844887]\n",
      "[ 0.87583733  0.03927922]\n",
      "[ 0.05176451  0.84311408]\n",
      "[ 0.84821194  0.04590416]\n",
      "[ 0.13958886  0.5766331 ]\n",
      "[ 0.40210381  0.24557945]\n",
      "[ 0.18797709  0.48778817]\n",
      "[ 0.67980295  0.09405305]\n",
      "[ 0.03638967  0.89756322]\n",
      "[ 0.87152088  0.04061354]\n",
      "[ 0.04719836  0.86031818]\n",
      "[ 0.82027066  0.0517699 ]\n",
      "[ 0.0430468   0.87568933]\n",
      "[ 0.8768968   0.03895227]\n",
      "[ 0.13958886  0.5766331 ]\n",
      "[ 0.36020902  0.28021055]\n",
      "[ 0.07808454  0.74381268]\n",
      "[ 0.87794852  0.03862793]\n",
      "[ 0.21662255  0.44330263]\n",
      "[ 0.46752542  0.1992964 ]\n",
      "[ 0.05420133  0.83388394]\n",
      "[ 0.87152088  0.04061354]\n",
      "[ 0.13958886  0.5766331 ]\n",
      "[ 0.7155025   0.08153573]\n",
      "[ 0.0594027   0.81412745]\n",
      "[ 0.36020902  0.28021055]\n",
      "[ 0.16233467  0.53246796]\n",
      "[ 0.86509645  0.04230364]\n",
      "[ 0.09193034  0.69722801]\n",
      "[ 0.87477005  0.0396088 ]\n",
      "[ 0.24829839  0.39970824]\n",
      "[ 0.64052224  0.10959   ]\n",
      "[ 0.06217557  0.80358917]\n",
      "[ 0.83300829  0.04906356]\n",
      "[ 0.21662255  0.44330263]\n",
      "[ 0.40210381  0.24557945]\n",
      "[ 0.08204049  0.72956663]\n",
      "[ 0.76366335  0.06596307]\n",
      "[ 0.05674605  0.82422394]\n",
      "[ 0.87042195  0.04095384]\n",
      "[ 0.0430468   0.87568933]\n",
      "[ 0.86246562  0.04287501]\n",
      "[ 0.07808454  0.74381268]\n",
      "[ 0.87152088  0.04061354]\n",
      "[ 0.04120404  0.88207549]\n",
      "[ 0.32034045  0.31766897]\n",
      "[ 0.0430468   0.87568933]\n",
      "[ 0.83300829  0.04906356]\n",
      "[ 0.18797709  0.48778817]\n",
      "[ 0.87583733  0.03927922]\n",
      "[ 0.0594027   0.81412745]\n",
      "[ 0.83300829  0.04906356]\n",
      "[ 0.20192057  0.46547687]\n",
      "[ 0.62010962  0.11817335]\n",
      "[ 0.13958886  0.5766331 ]\n",
      "[ 0.55611736  0.14823376]\n",
      "[ 0.23208363  0.42135212]\n",
      "[ 0.87042195  0.04095384]\n",
      "[ 0.08658814  0.71420431]\n",
      "[ 0.30130684  0.33736712]\n",
      "[ 0.05176451  0.84311408]\n",
      "[ 0.84330875  0.04692649]\n",
      "[ 0.21662255  0.44330263]\n",
      "[ 0.87042195  0.04095384]\n",
      "[ 0.16233467  0.53246796]\n",
      "[ 0.42364404  0.22938529]\n",
      "[ 0.03793108  0.89261192]\n",
      "[ 0.84821194  0.04590416]\n",
      "[ 0.16233467  0.53246796]\n",
      "[ 0.84821194  0.04590416]\n",
      "[ 0.0430468   0.87568933]\n",
      "[ 0.36020902  0.28021055]\n",
      "[ 0.21662255  0.44330263]\n",
      "[ 0.7485773   0.07064888]\n",
      "[ 0.0594027   0.81412745]\n",
      "[ 0.59926307  0.12733285]\n",
      "[ 0.23208363  0.42135212]\n",
      "[ 0.87477005  0.0396088 ]\n",
      "[ 0.04120404  0.88207549]\n",
      "[ 0.48969987  0.18540421]\n",
      "[ 0.05176451  0.84311408]\n",
      "[ 0.87477005  0.0396088 ]\n",
      "[ 0.08204049  0.72956663]\n",
      "[ 0.82027066  0.0517699 ]\n",
      "[ 0.0594027   0.81412745]\n",
      "[ 0.32034045  0.31766897]\n",
      "[ 0.09193034  0.69722801]\n",
      "[ 0.80109262  0.05631671]\n",
      "[ 0.05420133  0.83388394]\n",
      "[ 0.7155025   0.08153573]\n",
      "[ 0.12007324  0.61951774]\n",
      "[ 0.87794852  0.03862793]\n",
      "[ 0.07808454  0.74381268]\n",
      "[ 0.87794852  0.03862793]\n",
      "[ 0.05420133  0.83388394]\n",
      "[ 0.86930537  0.04130033]\n",
      "[ 0.0594027   0.81412745]\n",
      "[ 0.77739257  0.06212683]\n",
      "[ 0.05674605  0.82422394]\n",
      "[ 0.85979176  0.04345375]\n",
      "[ 0.21662255  0.44330263]\n",
      "[ 0.78949356  0.05915147]\n",
      "[ 0.03793108  0.89261192]\n",
      "[ 0.40210381  0.24557945]\n",
      "[ 0.10429112  0.66016704]\n",
      "[ 0.48969987  0.18540421]\n",
      "[ 0.09193034  0.69722801]\n",
      "[ 0.83827734  0.04797048]\n",
      "[ 0.04120404  0.88207549]\n",
      "[ 0.66043848  0.10155829]\n",
      "[ 0.06217557  0.80358917]\n",
      "[ 0.78949356  0.05915147]\n",
      "[ 0.04719836  0.86031818]\n",
      "[ 0.8736949   0.03994104]\n",
      "[ 0.12925252  0.59830874]\n",
      "[ 0.64052224  0.10959   ]\n",
      "[ 0.0979089   0.67903334]\n",
      "[ 0.85298848  0.04490304]\n",
      "[ 0.26525486  0.37844887]\n",
      "[ 0.40210381  0.24557945]\n",
      "[ 0.06217557  0.80358917]\n",
      "[ 0.36020902  0.28021055]\n",
      "[ 0.03953509  0.88745135]\n",
      "[ 0.86930537  0.04130033]\n",
      "[ 0.1117581   0.64022535]\n",
      "[ 0.82682848  0.05037352]\n",
      "[ 0.16233467  0.53246796]\n",
      "[ 0.48969987  0.18540421]\n",
      "[ 0.06506889  0.7926057 ]\n",
      "[ 0.82027066  0.0517699 ]\n",
      "[ 0.05674605  0.82422394]\n",
      "[ 0.76366335  0.06596307]\n",
      "[ 0.04719836  0.86031818]\n",
      "[ 0.85979176  0.04345375]\n",
      "[ 0.12007324  0.61951774]\n",
      "[ 0.8768968   0.03895227]\n",
      "[ 0.07451599  0.7569769 ]\n",
      "[ 0.55611736  0.14823376]\n",
      "[ 0.04943148  0.85192239]\n",
      "[ 0.55611736  0.14823376]\n",
      "[ 0.0430468   0.87568933]\n",
      "[ 0.33999148  0.29860252]\n",
      "[ 0.03793108  0.89261192]\n",
      "[ 0.86509645  0.04230364]\n",
      "[ 0.23208363  0.42135212]\n",
      "[ 0.4454785   0.21395613]\n",
      "[ 0.08204049  0.72956663]\n",
      "[ 0.82682848  0.05037352]\n",
      "[ 0.24829839  0.39970824]\n",
      "[ 0.86246562  0.04287501]\n",
      "[ 0.21662255  0.44330263]\n",
      "[ 0.87898576  0.03830663]\n",
      "[ 0.0979089   0.67903334]\n",
      "[ 0.82682848  0.05037352]\n",
      "[ 0.08204049  0.72956663]\n",
      "[ 0.880009   0.0379883]\n",
      "[ 0.07808454  0.74381268]\n",
      "[ 0.33999148  0.29860252]\n",
      "[ 0.03793108  0.89261192]\n",
      "[ 0.82027066  0.0517699 ]\n",
      "[ 0.0594027   0.81412745]\n",
      "[ 0.87042195  0.04095384]\n",
      "[ 0.13958886  0.5766331 ]\n",
      "[ 0.87261182  0.04027594]\n",
      "[ 0.05674605  0.82422394]\n",
      "[ 0.78949356  0.05915147]\n",
      "[ 0.09193034  0.69722801]\n",
      "[ 0.38093486  0.26252744]\n",
      "[ 0.12007324  0.61951774]\n",
      "[ 0.87583733  0.03927922]\n",
      "[ 0.0979089   0.67903334]\n",
      "[ 0.8768968   0.03895227]\n",
      "[ 0.04719836  0.86031818]\n",
      "[ 0.8676846   0.04173953]\n",
      "[ 0.05420133  0.83388394]\n",
      "[ 0.55611736  0.14823376]\n",
      "[ 0.06217557  0.80358917]\n",
      "[ 0.42364404  0.22938529]\n",
      "[ 0.21662255  0.44330263]\n",
      "[ 0.76366335  0.06596307]\n",
      "[ 0.05674605  0.82422394]\n",
      "[ 0.880009   0.0379883]\n",
      "[ 0.24829839  0.39970824]\n",
      "[ 0.83827734  0.04797048]\n",
      "[ 0.12925252  0.59830874]\n",
      "[ 0.36020902  0.28021055]\n",
      "[ 0.08204049  0.72956663]\n",
      "[ 0.86509645  0.04230364]\n",
      "[ 0.04506137  0.86831146]\n",
      "[ 0.87261182  0.04027594]\n",
      "[ 0.04506137  0.86831146]\n",
      "[ 0.86509645  0.04230364]\n",
      "[ 0.17478551  0.51014841]\n",
      "[ 0.7155025   0.08153573]\n",
      "[ 0.0430468   0.87568933]\n",
      "[ 0.33999148  0.29860252]\n",
      "[ 0.07808454  0.74381268]\n",
      "[ 0.8736949   0.03994104]\n",
      "[ 0.0594027   0.81412745]\n",
      "[ 0.4454785   0.21395613]\n",
      "[ 0.12925252  0.59830874]\n",
      "[ 0.85707456  0.04403995]\n",
      "[ 0.0430468   0.87568933]\n",
      "[ 0.67980295  0.09405305]\n",
      "[ 0.18797709  0.48778817]\n",
      "[ 0.62010962  0.11817335]\n",
      "[ 0.03953509  0.88745135]\n",
      "[ 0.62010962  0.11817335]\n",
      "[ 0.05420133  0.83388394]\n",
      "[ 0.80109262  0.05631671]\n",
      "[ 0.09193034  0.69722801]\n",
      "[ 0.85298848  0.04490304]\n",
      "[ 0.20192057  0.46547687]\n",
      "[ 0.83300829  0.04906356]\n",
      "[ 0.10429112  0.66016704]\n",
      "[ 0.62010962  0.11817335]\n",
      "[ 0.06506889  0.7926057 ]\n",
      "[ 0.55611736  0.14823376]\n",
      "[ 0.04506137  0.86831146]\n",
      "[ 0.85707456  0.04403995]\n",
      "[ 0.04506137  0.86831146]\n",
      "[ 0.55611736  0.14823376]\n",
      "[ 0.06808709  0.7811752 ]\n",
      "[ 0.8768968   0.03895227]\n",
      "[ 0.08204049  0.72956663]\n",
      "[ 0.64052224  0.10959   ]\n",
      "[ 0.07451599  0.7569769 ]\n",
      "[ 0.8736949   0.03994104]\n",
      "[ 0.0430468   0.87568933]\n",
      "[ 0.76366335  0.06596307]\n",
      "[ 0.06808709  0.7811752 ]\n",
      "[ 0.69801664  0.08753506]\n",
      "[ 0.05674605  0.82422394]\n",
      "[ 0.4454785   0.21395613]\n",
      "[ 0.04719836  0.86031818]\n",
      "[ 0.87152088  0.04061354]\n",
      "[ 0.03638967  0.89756322]\n",
      "[ 0.85979176  0.04345375]\n",
      "[ 0.15060882  0.55465847]\n",
      "[ 0.83827734  0.04797048]\n",
      "[ 0.18797709  0.48778817]\n",
      "[ 0.87477005  0.0396088 ]\n",
      "[ 0.10429112  0.66016704]\n",
      "[ 0.32034045  0.31766897]\n",
      "[ 0.03953509  0.88745135]\n",
      "[ 0.8736949   0.03994104]\n",
      "[ 0.20192057  0.46547687]\n",
      "[ 0.732364    0.07591337]\n",
      "[ 0.03793108  0.89261192]\n",
      "[ 0.880009   0.0379883]\n",
      "[ 0.1117581   0.64022535]\n",
      "[ 0.85707456  0.04403995]\n",
      "[ 0.04943148  0.85192239]\n",
      "[ 0.87794852  0.03862793]\n",
      "[ 0.0430468   0.87568933]\n",
      "[ 0.732364    0.07591337]\n",
      "[ 0.05420133  0.83388394]\n",
      "[ 0.83827734  0.04797048]\n",
      "[ 0.16233467  0.53246796]\n",
      "[ 0.880009   0.0379883]\n",
      "[ 0.07451599  0.7569769 ]\n",
      "[ 0.732364    0.07591337]\n",
      "[ 0.20192057  0.46547687]\n",
      "[ 0.87152088  0.04061354]\n",
      "[ 0.03638967  0.89756322]\n",
      "[ 0.8768968   0.03895227]\n",
      "[ 0.07808454  0.74381268]\n",
      "[ 0.87152088  0.04061354]\n",
      "[ 0.03953509  0.88745135]\n",
      "[ 0.83827734  0.04797048]\n",
      "[ 0.0979089   0.67903334]\n",
      "[ 0.53408301  0.15988748]\n",
      "[ 0.03793108  0.89261192]\n",
      "[ 0.77739257  0.06212683]\n",
      "[ 0.24829839  0.39970824]\n",
      "[ 0.48969987  0.18540421]\n",
      "[ 0.04120404  0.88207549]\n",
      "[ 0.85979176  0.04345375]\n",
      "[ 0.0430468   0.87568933]\n",
      "[ 0.7485773   0.07064888]\n",
      "[ 0.23208363  0.42135212]\n",
      "[ 0.87583733  0.03927922]\n",
      "[ 0.06808709  0.7811752 ]\n",
      "[ 0.84330875  0.04692649]\n",
      "[ 0.12925252  0.59830874]\n",
      "[ 0.28293326  0.35764667]\n",
      "[ 0.04943148  0.85192239]\n",
      "[ 0.86246562  0.04287501]\n",
      "[ 0.03793108  0.89261192]\n",
      "[ 0.46752542  0.1992964 ]\n",
      "[ 0.0430468   0.87568933]\n",
      "[ 0.38093486  0.26252744]\n",
      "[ 0.03953509  0.88745135]\n",
      "[ 0.87477005  0.0396088 ]\n",
      "[ 0.23208363  0.42135212]\n",
      "[ 0.87261182  0.04027594]\n",
      "[ 0.0594027   0.81412745]\n",
      "[ 0.82027066  0.0517699 ]\n",
      "[ 0.12925252  0.59830874]\n",
      "[ 0.7155025   0.08153573]\n",
      "[ 0.03638967  0.89756322]\n",
      "[ 0.86930537  0.04130033]\n",
      "[ 0.12007324  0.61951774]\n",
      "[ 0.53408301  0.15988748]\n",
      "[ 0.21662255  0.44330263]\n",
      "[ 0.7155025   0.08153573]\n",
      "[ 0.07808454  0.74381268]\n",
      "[ 0.67980295  0.09405305]\n",
      "[ 0.05674605  0.82422394]\n",
      "[ 0.84821194  0.04590416]\n",
      "[ 0.0979089   0.67903334]\n",
      "[ 0.84821194  0.04590416]\n",
      "[ 0.05176451  0.84311408]\n",
      "[ 0.87042195  0.04095384]\n",
      "[ 0.20192057  0.46547687]\n",
      "[ 0.67980295  0.09405305]\n",
      "[ 0.18797709  0.48778817]\n",
      "[ 0.85298848  0.04490304]\n",
      "[ 0.0430468   0.87568933]\n",
      "[ 0.77739257  0.06212683]\n",
      "[ 0.0594027   0.81412745]\n",
      "[ 0.36020902  0.28021055]\n",
      "[ 0.24829839  0.39970824]\n",
      "[ 0.84330875  0.04692649]\n",
      "[ 0.26525486  0.37844887]\n",
      "[ 0.40210381  0.24557945]\n",
      "[ 0.06506889  0.7926057 ]\n",
      "[ 0.86509645  0.04230364]\n",
      "[ 0.0594027   0.81412745]\n",
      "[ 0.30130684  0.33736712]\n",
      "[ 0.23208363  0.42135212]\n",
      "[ 0.36020902  0.28021055]\n",
      "[ 0.04506137  0.86831146]\n",
      "[ 0.82027066  0.0517699 ]\n",
      "[ 0.06808709  0.7811752 ]\n",
      "[ 0.48969987  0.18540421]\n",
      "[ 0.05420133  0.83388394]\n",
      "[ 0.4454785   0.21395613]\n",
      "[ 0.08204049  0.72956663]\n",
      "[ 0.32034045  0.31766897]\n",
      "[ 0.0430468   0.87568933]\n",
      "[ 0.880009   0.0379883]\n",
      "[ 0.23208363  0.42135212]\n",
      "[ 0.8121165   0.05363343]\n",
      "[ 0.08658814  0.71420431]\n",
      "[ 0.51191491  0.17227209]\n",
      "[ 0.17478551  0.51014841]\n",
      "[ 0.8121165   0.05363343]\n",
      "[ 0.04120404  0.88207549]\n",
      "[ 0.880009   0.0379883]\n",
      "[ 0.08204049  0.72956663]\n",
      "[ 0.87898576  0.03830663]\n",
      "[ 0.03793108  0.89261192]\n",
      "[ 0.87042195  0.04095384]\n",
      "[ 0.06217557  0.80358917]\n",
      "[ 0.82682848  0.05037352]\n",
      "[ 0.12007324  0.61951774]\n",
      "[ 0.77739257  0.06212683]\n",
      "[ 0.04719836  0.86031818]\n",
      "[ 0.84330875  0.04692649]\n",
      "[ 0.06506889  0.7926057 ]\n",
      "[ 0.87898576  0.03830663]\n",
      "[ 0.07808454  0.74381268]\n",
      "[ 0.8736949   0.03994104]\n",
      "[ 0.07123458  0.76929814]\n",
      "[ 0.33999148  0.29860252]\n",
      "[ 0.0430468   0.87568933]\n",
      "[ 0.85707456  0.04403995]\n",
      "[ 0.07808454  0.74381268]\n",
      "[ 0.83827734  0.04797048]\n",
      "[ 0.04506137  0.86831146]\n",
      "[ 0.85298848  0.04490304]\n",
      "[ 0.07123458  0.76929814]\n",
      "[ 0.42364404  0.22938529]\n",
      "[ 0.17478551  0.51014841]\n"
     ]
    }
   ],
   "source": [
    "for i in predictions:\n",
    "    print(i)"
   ]
  },
  {
   "cell_type": "markdown",
   "metadata": {},
   "source": [
    "## Supervised Learning"
   ]
  },
  {
   "cell_type": "code",
   "execution_count": 25,
   "metadata": {},
   "outputs": [],
   "source": [
    "import keras\n",
    "from keras import backend as K\n",
    "from keras.models import Sequential\n",
    "from keras.layers import Activation\n",
    "from keras.layers.core import Dense\n",
    "from keras.optimizers import Adam"
   ]
  },
  {
   "cell_type": "code",
   "execution_count": 34,
   "metadata": {},
   "outputs": [],
   "source": [
    "model = Sequential([\n",
    "    Dense(16, input_shape=(2,), activation='relu'),\n",
    "    Dense(32, activation='relu'),\n",
    "    Dense(2, activation='sigmoid')\n",
    "])"
   ]
  },
  {
   "cell_type": "code",
   "execution_count": 35,
   "metadata": {
    "collapsed": true
   },
   "outputs": [],
   "source": [
    "model.compile(Adam(lr=0.0001), loss='sparse_categorical_crossentropy', metrics=['accuracy'])"
   ]
  },
  {
   "cell_type": "code",
   "execution_count": 36,
   "metadata": {
    "collapsed": true
   },
   "outputs": [],
   "source": [
    "# weight, height\n",
    "train_samples = [[150, 67], [130, 60], [200, 65], [125, 52], [230, 72], [181, 70]]"
   ]
  },
  {
   "cell_type": "code",
   "execution_count": 37,
   "metadata": {
    "collapsed": true
   },
   "outputs": [],
   "source": [
    "# 0: male\n",
    "# 1: female\n",
    "train_labels = [1, 1, 0, 1, 0, 0]"
   ]
  },
  {
   "cell_type": "code",
   "execution_count": null,
   "metadata": {
    "collapsed": true
   },
   "outputs": [],
   "source": [
    "model.fit(x=train_samples, y=train_labels, batch_size=3, epochs=10, shuffle=True, verbose=2)"
   ]
  },
  {
   "cell_type": "markdown",
   "metadata": {},
   "source": [
    "## Batch Normalization"
   ]
  },
  {
   "cell_type": "code",
   "execution_count": 6,
   "metadata": {},
   "outputs": [],
   "source": [
    "from keras.models import Sequential\n",
    "from keras.layers import Dense, Activation, BatchNormalization"
   ]
  },
  {
   "cell_type": "code",
   "execution_count": 10,
   "metadata": {},
   "outputs": [],
   "source": [
    "model = Sequential([\n",
    "    Dense(16, input_shape=(1,5), activation='relu'),\n",
    "    Dense(32, activation='relu'),\n",
    "    BatchNormalization(axis=1),\n",
    "    Dense(2, activation='softmax')\n",
    "])"
   ]
  },
  {
   "cell_type": "code",
   "execution_count": null,
   "metadata": {
    "collapsed": true
   },
   "outputs": [],
   "source": [
    "#beta_initializer: Initializer for the beta weight.\n",
    "#gamma_initializer: Initializer for the gamma weight."
   ]
  },
  {
   "cell_type": "code",
   "execution_count": null,
   "metadata": {
    "collapsed": true
   },
   "outputs": [],
   "source": []
  },
  {
   "cell_type": "code",
   "execution_count": null,
   "metadata": {
    "collapsed": true
   },
   "outputs": [],
   "source": []
  },
  {
   "cell_type": "code",
   "execution_count": null,
   "metadata": {
    "collapsed": true
   },
   "outputs": [],
   "source": []
  },
  {
   "cell_type": "code",
   "execution_count": null,
   "metadata": {
    "collapsed": true
   },
   "outputs": [],
   "source": []
  },
  {
   "cell_type": "code",
   "execution_count": null,
   "metadata": {
    "collapsed": true
   },
   "outputs": [],
   "source": []
  },
  {
   "cell_type": "code",
   "execution_count": null,
   "metadata": {
    "collapsed": true
   },
   "outputs": [],
   "source": []
  },
  {
   "cell_type": "code",
   "execution_count": null,
   "metadata": {
    "collapsed": true
   },
   "outputs": [],
   "source": []
  },
  {
   "cell_type": "code",
   "execution_count": null,
   "metadata": {
    "collapsed": true
   },
   "outputs": [],
   "source": []
  },
  {
   "cell_type": "code",
   "execution_count": null,
   "metadata": {
    "collapsed": true
   },
   "outputs": [],
   "source": []
  },
  {
   "cell_type": "code",
   "execution_count": null,
   "metadata": {
    "collapsed": true
   },
   "outputs": [],
   "source": []
  },
  {
   "cell_type": "code",
   "execution_count": null,
   "metadata": {
    "collapsed": true
   },
   "outputs": [],
   "source": []
  },
  {
   "cell_type": "code",
   "execution_count": null,
   "metadata": {
    "collapsed": true
   },
   "outputs": [],
   "source": []
  },
  {
   "cell_type": "code",
   "execution_count": null,
   "metadata": {
    "collapsed": true
   },
   "outputs": [],
   "source": []
  },
  {
   "cell_type": "code",
   "execution_count": null,
   "metadata": {
    "collapsed": true
   },
   "outputs": [],
   "source": []
  },
  {
   "cell_type": "code",
   "execution_count": null,
   "metadata": {
    "collapsed": true
   },
   "outputs": [],
   "source": []
  },
  {
   "cell_type": "code",
   "execution_count": null,
   "metadata": {
    "collapsed": true
   },
   "outputs": [],
   "source": []
  },
  {
   "cell_type": "code",
   "execution_count": null,
   "metadata": {
    "collapsed": true
   },
   "outputs": [],
   "source": []
  },
  {
   "cell_type": "code",
   "execution_count": null,
   "metadata": {
    "collapsed": true
   },
   "outputs": [],
   "source": []
  },
  {
   "cell_type": "code",
   "execution_count": null,
   "metadata": {
    "collapsed": true
   },
   "outputs": [],
   "source": []
  },
  {
   "cell_type": "code",
   "execution_count": null,
   "metadata": {
    "collapsed": true
   },
   "outputs": [],
   "source": []
  },
  {
   "cell_type": "code",
   "execution_count": null,
   "metadata": {
    "collapsed": true
   },
   "outputs": [],
   "source": []
  }
 ],
 "metadata": {
  "kernelspec": {
   "display_name": "Python 3 (ipykernel)",
   "language": "python",
   "name": "python3"
  },
  "language_info": {
   "codemirror_mode": {
    "name": "ipython",
    "version": 3
   },
   "file_extension": ".py",
   "mimetype": "text/x-python",
   "name": "python",
   "nbconvert_exporter": "python",
   "pygments_lexer": "ipython3",
   "version": "3.9.7"
  }
 },
 "nbformat": 4,
 "nbformat_minor": 2
}
