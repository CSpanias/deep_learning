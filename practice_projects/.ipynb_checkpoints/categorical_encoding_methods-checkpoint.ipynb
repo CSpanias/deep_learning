{
 "cells": [
  {
   "cell_type": "code",
   "execution_count": 1,
   "id": "5514975f",
   "metadata": {},
   "outputs": [],
   "source": [
    "import pandas as pd\n",
    "import numpy as np\n",
    "\n",
    "from sklearn.preprocessing import StandardScaler, Normalizer, OrdinalEncoder, OneHotEncoder, LabelEncoder\n",
    "from sklearn.compose import ColumnTransformer"
   ]
  },
  {
   "cell_type": "markdown",
   "id": "6a632a3e",
   "metadata": {},
   "source": [
    "<a name='catvars'></a>\n",
    "# Processing Categorical Variables\n",
    "\n",
    "__Ordinal__ vs __OneHot__ vs __Dummy__ Encoding [[link]](https://machinelearningmastery.com/one-hot-encoding-for-categorical-data/)"
   ]
  },
  {
   "cell_type": "markdown",
   "id": "8ef6ea93",
   "metadata": {},
   "source": [
    "<a name=\"ordinalenc\"></a>\n",
    "## Ordinal Encoding\n",
    "`OrdinalEncoder` [[documentation]](https://scikit-learn.org/stable/modules/generated/sklearn.preprocessing.OrdinalEncoder.html) "
   ]
  },
  {
   "cell_type": "markdown",
   "id": "cae44621",
   "metadata": {},
   "source": [
    "* Each unique category value is assigned an integer value.\n",
    "* For ordinal variables.\n",
    "* It expects 2D input (matrix)."
   ]
  },
  {
   "cell_type": "code",
   "execution_count": 2,
   "id": "b0b58139",
   "metadata": {
    "scrolled": false
   },
   "outputs": [
    {
     "name": "stdout",
     "output_type": "stream",
     "text": [
      "Data:\n",
      "[['red']\n",
      " ['blue']\n",
      " ['green']]\n",
      "\n",
      "Shape:\n",
      "(3, 1)\n",
      "\n",
      "Ordinaly encoced data:\n",
      "[[2.]\n",
      " [0.]\n",
      " [1.]]\n"
     ]
    }
   ],
   "source": [
    "# define data as 2D array\n",
    "data = np.asarray([['red'], ['blue'], ['green']])\n",
    "print(f\"Data:\\n{data}\\n\\nShape:\\n{data.shape}\\n\")\n",
    "\n",
    "# instantiate encoder\n",
    "enc = OrdinalEncoder()\n",
    "\n",
    "# transform data\n",
    "data_encoded = enc.fit_transform(data)\n",
    "print(f\"Ordinaly encoced data:\\n{data_encoded}\")"
   ]
  },
  {
   "cell_type": "markdown",
   "id": "e9168024",
   "metadata": {},
   "source": [
    "<a name=\"labelenc\"></a>\n",
    "## Target Encoding\n",
    "`LabelEncoder` [[documentation]](https://scikit-learn.org/stable/modules/generated/sklearn.preprocessing.LabelEncoder.html) "
   ]
  },
  {
   "cell_type": "markdown",
   "id": "8daa5cfe",
   "metadata": {},
   "source": [
    "* Each unique category value is assigned an integer value.\n",
    "* It expects 1D input."
   ]
  },
  {
   "cell_type": "code",
   "execution_count": 3,
   "id": "93f6096d",
   "metadata": {},
   "outputs": [
    {
     "name": "stdout",
     "output_type": "stream",
     "text": [
      "Data:\n",
      "['red' 'blue' 'green']\n",
      "\n",
      "Shape:\n",
      "(3,)\n",
      "\n",
      "Ordinaly encoced data:\n",
      "[[2.]\n",
      " [0.]\n",
      " [1.]]\n"
     ]
    }
   ],
   "source": [
    "# define data as 1D array\n",
    "data_1D = np.asarray(['red', 'blue', 'green'])\n",
    "print(f\"Data:\\n{data_1D}\\n\\nShape:\\n{data_1D.shape}\\n\")\n",
    "\n",
    "# instantiate encoder\n",
    "enc = LabelEncoder()\n",
    "\n",
    "# fit_transform labels\n",
    "targets_encoded = enc.fit_transform(data_1D)\n",
    "print(f\"Ordinaly encoced data:\\n{data_encoded}\")"
   ]
  },
  {
   "cell_type": "markdown",
   "id": "a76ff006",
   "metadata": {},
   "source": [
    "<a name=\"onehotenc\"></a>\n",
    "## One-Hot Encoding\n",
    "`OneHotEncoder` [[documentation]](https://scikit-learn.org/stable/modules/generated/sklearn.preprocessing.OneHotEncoder.html) "
   ]
  },
  {
   "cell_type": "markdown",
   "id": "7e85841c",
   "metadata": {},
   "source": [
    "* First the categories are sorted, then binary variables are created for each category in turn. \n",
    "* Can manually specify labels via the `categories` argument as a list.\n",
    "* Can handle labels that was not seen during training via the `handle_unknown` argument."
   ]
  },
  {
   "cell_type": "code",
   "execution_count": 4,
   "id": "cc2a89d7",
   "metadata": {
    "scrolled": true
   },
   "outputs": [
    {
     "name": "stdout",
     "output_type": "stream",
     "text": [
      "Data:\n",
      "[['red']\n",
      " ['blue']\n",
      " ['green']]\n",
      "\n",
      "Shape:\n",
      "(3, 1)\n",
      "\n",
      "One-Hot encoded data:\n",
      "[[0. 0. 1.]\n",
      " [1. 0. 0.]\n",
      " [0. 1. 0.]]\n"
     ]
    }
   ],
   "source": [
    "# one-hot encoding\n",
    "\n",
    "print(f\"Data:\\n{data}\\n\\nShape:\\n{data.shape}\\n\")\n",
    "# instantiate encoder\n",
    "enc = OneHotEncoder(sparse=False)\n",
    "\n",
    "# transform data\n",
    "data_encoded = enc.fit_transform(data)\n",
    "print(f\"One-Hot encoded data:\\n{data_encoded}\")"
   ]
  },
  {
   "cell_type": "markdown",
   "id": "6e93c1e9",
   "metadata": {},
   "source": [
    "<a name=\"dummyenc\"></a>\n",
    "## Dummy Variable Encoding\n",
    "`OneHotEncoder` [[documentation]](https://scikit-learn.org/stable/modules/generated/sklearn.preprocessing.OneHotEncoder.html) "
   ]
  },
  {
   "cell_type": "markdown",
   "id": "80bd8def",
   "metadata": {},
   "source": [
    "* \"Solves\" the redundancy issue of One-Hot encoding as it represents $C$ categories with $C-1$ binary variables.\n",
    "* Dummy variable representation is required for some models (linear regression).\n",
    "* The `drop` argument can be set to indicate which category will be come the one that is assigned all zero values, called the “baseline“. We can set this to `\"first\"` so that the first category is used."
   ]
  },
  {
   "cell_type": "code",
   "execution_count": 5,
   "id": "0ae1672c",
   "metadata": {},
   "outputs": [
    {
     "name": "stdout",
     "output_type": "stream",
     "text": [
      "Data:\n",
      "[['red']\n",
      " ['blue']\n",
      " ['green']]\n",
      "\n",
      "Shape:\n",
      "(3, 1)\n",
      "\n",
      "Dummy-encoded data:\n",
      "[[0. 1.]\n",
      " [0. 0.]\n",
      " [1. 0.]]\n"
     ]
    }
   ],
   "source": [
    "print(f\"Data:\\n{data}\\n\\nShape:\\n{data.shape}\\n\")\n",
    "\n",
    "# instantiate encoder\n",
    "enc = OneHotEncoder(drop='first', sparse=False)\n",
    "\n",
    "# transform data\n",
    "data_encoded = enc.fit_transform(data)\n",
    "print(f\"Dummy-encoded data:\\n{data_encoded}\")"
   ]
  },
  {
   "cell_type": "markdown",
   "id": "17108056",
   "metadata": {},
   "source": [
    "<a name=\"getdumenc\"></a>\n",
    "## Get Dummies\n",
    "`pd.get_dummies` [[documentation]](https://pandas.pydata.org/docs/reference/api/pandas.get_dummies.html) "
   ]
  },
  {
   "cell_type": "code",
   "execution_count": 6,
   "id": "9db77c06",
   "metadata": {},
   "outputs": [
    {
     "name": "stdout",
     "output_type": "stream",
     "text": [
      "Data:\n",
      "['red' 'blue' 'green']\n",
      "\n",
      "Shape:\n",
      "(3,)\n",
      "\n",
      "Dummy-encoded data:\n",
      "   blue  green  red\n",
      "0     0      0    1\n",
      "1     1      0    0\n",
      "2     0      1    0\n"
     ]
    }
   ],
   "source": [
    "print(f\"Data:\\n{data_1D}\\n\\nShape:\\n{data_1D.shape}\\n\")\n",
    "\n",
    "# transform data\n",
    "data_encoded = pd.get_dummies(data_1D)\n",
    "print(f\"Dummy-encoded data:\\n{data_encoded}\")"
   ]
  }
 ],
 "metadata": {
  "kernelspec": {
   "display_name": "Python 3 (ipykernel)",
   "language": "python",
   "name": "python3"
  },
  "language_info": {
   "codemirror_mode": {
    "name": "ipython",
    "version": 3
   },
   "file_extension": ".py",
   "mimetype": "text/x-python",
   "name": "python",
   "nbconvert_exporter": "python",
   "pygments_lexer": "ipython3",
   "version": "3.9.7"
  }
 },
 "nbformat": 4,
 "nbformat_minor": 5
}
