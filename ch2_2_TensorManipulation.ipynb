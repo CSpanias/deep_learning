{
 "cells": [
  {
   "cell_type": "markdown",
   "id": "a31d1ef8",
   "metadata": {},
   "source": [
    "# Deep Learning with Python (2nd ed.)\n",
    "[Website](https://www.manning.com/books/deep-learning-with-python-second-edition)"
   ]
  },
  {
   "cell_type": "markdown",
   "id": "7d3826a3",
   "metadata": {},
   "source": [
    "# 2.2.6 Manipulating Tensors in NumPy"
   ]
  },
  {
   "cell_type": "code",
   "execution_count": 1,
   "id": "ff6e7fc0",
   "metadata": {},
   "outputs": [],
   "source": [
    "from tensorflow.keras.datasets import mnist\n",
    "\n",
    "(train_images, train_labels), (test_images, test_labels) = mnist.load_data()"
   ]
  },
  {
   "cell_type": "markdown",
   "id": "d1607569",
   "metadata": {},
   "source": [
    "## Tensor Slicing Operations"
   ]
  },
  {
   "cell_type": "code",
   "execution_count": 2,
   "id": "216fb376",
   "metadata": {},
   "outputs": [
    {
     "data": {
      "text/plain": [
       "(90, 28, 28)"
      ]
     },
     "execution_count": 2,
     "metadata": {},
     "output_type": "execute_result"
    }
   ],
   "source": [
    "my_slice = train_images[10:100]\n",
    "my_slice.shape"
   ]
  },
  {
   "cell_type": "markdown",
   "id": "bfc2d5d3",
   "metadata": {},
   "source": [
    "The above is equivalent to this more detailed notation, which specifies a __start index__ and __stop index for the slice along each tensor axis__. Note that `:` is equivalent to selecting the entire axis."
   ]
  },
  {
   "cell_type": "code",
   "execution_count": 3,
   "id": "8c11af4d",
   "metadata": {},
   "outputs": [
    {
     "data": {
      "text/plain": [
       "(90, 28, 28)"
      ]
     },
     "execution_count": 3,
     "metadata": {},
     "output_type": "execute_result"
    }
   ],
   "source": [
    "my_slice = train_images[10:100, :, :]\n",
    "my_slice.shape"
   ]
  },
  {
   "cell_type": "code",
   "execution_count": 4,
   "id": "0cceaf7b",
   "metadata": {},
   "outputs": [
    {
     "data": {
      "text/plain": [
       "(90, 28, 28)"
      ]
     },
     "execution_count": 4,
     "metadata": {},
     "output_type": "execute_result"
    }
   ],
   "source": [
    "my_slice = train_images[10:100, 0:28, 0:28]\n",
    "my_slice.shape"
   ]
  },
  {
   "cell_type": "markdown",
   "id": "a774230c",
   "metadata": {},
   "source": [
    "In general, you may select slices between any two indices along each tensor axis."
   ]
  },
  {
   "cell_type": "code",
   "execution_count": 7,
   "id": "842e3ab5",
   "metadata": {},
   "outputs": [
    {
     "data": {
      "text/plain": [
       "(60000, 14, 14)"
      ]
     },
     "execution_count": 7,
     "metadata": {},
     "output_type": "execute_result"
    }
   ],
   "source": [
    "# pixels in the bottom-right corner\n",
    "my_slice = train_images[:, 14:, 14:]\n",
    "my_slice.shape"
   ]
  },
  {
   "cell_type": "code",
   "execution_count": 8,
   "id": "e04098f8",
   "metadata": {},
   "outputs": [
    {
     "data": {
      "text/plain": [
       "(60000, 14, 14)"
      ]
     },
     "execution_count": 8,
     "metadata": {},
     "output_type": "execute_result"
    }
   ],
   "source": [
    "# pixels centered in the middle\n",
    "my_slice = train_images[:, 7:-7, 7:-7]\n",
    "my_slice.shape"
   ]
  },
  {
   "cell_type": "markdown",
   "id": "c7b3fec7",
   "metadata": {},
   "source": [
    "# 2.2.7 The Notion of Data Batches"
   ]
  },
  {
   "cell_type": "markdown",
   "id": "a0de1450",
   "metadata": {},
   "source": [
    "In general, the first axis (axis 0) in all data tensors you’ll come across in DL will be the __samples axis__ or __samples dimension__. \n",
    "\n",
    "In the MNIST example, “samples” are images of digits.\n",
    "\n",
    "In addition, DL models don’t process an entire dataset at once; rather, they __break the data into small batches__. \n",
    "\n",
    "Concretely, here’s one batch of our MNIST digits, with a __batch size__ of 128."
   ]
  },
  {
   "cell_type": "code",
   "execution_count": 9,
   "id": "697a8af0",
   "metadata": {},
   "outputs": [
    {
     "data": {
      "text/plain": [
       "(128, 28, 28)"
      ]
     },
     "execution_count": 9,
     "metadata": {},
     "output_type": "execute_result"
    }
   ],
   "source": [
    "batch = train_images[:128]\n",
    "batch.shape"
   ]
  },
  {
   "cell_type": "code",
   "execution_count": 11,
   "id": "08a51120",
   "metadata": {},
   "outputs": [
    {
     "data": {
      "text/plain": [
       "(128, 28, 28)"
      ]
     },
     "execution_count": 11,
     "metadata": {},
     "output_type": "execute_result"
    }
   ],
   "source": [
    "batch = train_images[128:256]\n",
    "batch.shape"
   ]
  },
  {
   "cell_type": "markdown",
   "id": "a3501d92",
   "metadata": {},
   "source": [
    "When considering such a batch tensor, the first axis (axis 0) is called the __batch axis__ or __batch dimension__."
   ]
  }
 ],
 "metadata": {
  "kernelspec": {
   "display_name": "Python 3 (ipykernel)",
   "language": "python",
   "name": "python3"
  },
  "language_info": {
   "codemirror_mode": {
    "name": "ipython",
    "version": 3
   },
   "file_extension": ".py",
   "mimetype": "text/x-python",
   "name": "python",
   "nbconvert_exporter": "python",
   "pygments_lexer": "ipython3",
   "version": "3.9.7"
  }
 },
 "nbformat": 4,
 "nbformat_minor": 5
}
